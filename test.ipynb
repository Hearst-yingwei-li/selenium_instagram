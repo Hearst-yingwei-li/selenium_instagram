{
 "cells": [
  {
   "cell_type": "code",
   "execution_count": 168,
   "metadata": {},
   "outputs": [],
   "source": [
    "import time\n",
    "import requests\n",
    "\n",
    "from selenium import webdriver\n",
    "from selenium.webdriver.common.by import By\n",
    "from selenium.webdriver.support.ui import WebDriverWait\n",
    "from selenium.webdriver.support import expected_conditions as EC\n",
    "from selenium.webdriver.chrome.options import Options\n",
    "from selenium.webdriver.chrome.service import Service\n",
    "from selenium.common.exceptions import TimeoutException\n",
    "from datetime import datetime\n",
    "import pytz"
   ]
  },
  {
   "cell_type": "code",
   "execution_count": 169,
   "metadata": {},
   "outputs": [
    {
     "name": "stdout",
     "output_type": "stream",
     "text": [
      "Hodinkee Japan: ホディンキー / 時計メディア(@hodinkeejapan) • Instagram写真と動画\n"
     ]
    }
   ],
   "source": [
    "chrome_options = Options()\n",
    "chrome_options.add_experimental_option(\"debuggerAddress\", \"localhost:9222\")\n",
    "\n",
    "# Specify the path to the chromedriver executable\n",
    "chrome_driver_path = \"C:/Users/ddadmin/Desktop/tools/chromedriver-win64/chromedriver.exe\"  # chromedriver path\n",
    "\n",
    "# Set up the WebDriver with Chrome options\n",
    "service = Service(chrome_driver_path)\n",
    "driver = webdriver.Chrome(service=service, options=chrome_options)\n",
    "\n",
    "# Now you can access the already opened Chrome session\n",
    "print(driver.title)  # Print the title of the currently opened page"
   ]
  },
  {
   "cell_type": "code",
   "execution_count": 170,
   "metadata": {},
   "outputs": [
    {
     "name": "stdout",
     "output_type": "stream",
     "text": [
      "Found Instagram session\n",
      "Instagram URL: https://www.instagram.com/hodinkeejapan/\n",
      "Page title: Hodinkee Japan: ホディンキー / 時計メディア(@hodinkeejapan) • Instagram写真と動画\n"
     ]
    }
   ],
   "source": [
    "window_handles = driver.window_handles\n",
    "for handle in window_handles:\n",
    "    # Switch to the tab\n",
    "    driver.switch_to.window(handle)\n",
    "    \n",
    "    # Check if the current tab is Instagram by inspecting the URL or title\n",
    "    if \"instagram.com\" in driver.current_url:\n",
    "        print(\"Found Instagram session\")\n",
    "        print(f\"Instagram URL: {driver.current_url}\")\n",
    "        break\n",
    "    else:\n",
    "        print(f\"Other tab URL: {driver.current_url}\")\n",
    "\n",
    "# Now you can interact with the Instagram session\n",
    "# Example: Print the page title\n",
    "print(\"Page title:\", driver.title)"
   ]
  },
  {
   "cell_type": "markdown",
   "metadata": {},
   "source": []
  },
  {
   "cell_type": "code",
   "execution_count": 171,
   "metadata": {},
   "outputs": [
    {
     "name": "stdout",
     "output_type": "stream",
     "text": [
      "<selenium.webdriver.remote.webelement.WebElement (session=\"08b6d36ef2f998a58286d6c081030449\", element=\"f.E9B9EEF6F7ED992CEC48A161464A49BF.d.EED170165D8A51EDE026304405762BAA.e.99573\")>\n"
     ]
    }
   ],
   "source": [
    "# mainDiv = driver.find_element(By.XPATH,\"//main[@role='main']\")\n",
    "# print(mainDiv)"
   ]
  },
  {
   "cell_type": "code",
   "execution_count": 172,
   "metadata": {},
   "outputs": [
    {
     "name": "stdout",
     "output_type": "stream",
     "text": [
      "1\n",
      "4\n",
      "['https://www.instagram.com/p/DALSUyhveyl/', 'https://www.instagram.com/p/DAM0D6FyQZV/', 'https://www.instagram.com/p/DAIc5-eSp0G/', 'https://www.instagram.com/p/DAGS1XByGCx/', 'https://www.instagram.com/p/DAFxUQZSDTo/', 'https://www.instagram.com/p/DADl7hSyiyj/', 'https://www.instagram.com/p/DAAwn49RmYw/', 'https://www.instagram.com/p/C_-Xsl9ykQZ/', 'https://www.instagram.com/p/C_7GW1jSqg2/', 'https://www.instagram.com/p/C_5WQTCyDWl/', 'https://www.instagram.com/p/C_4HPztTfEM/', 'https://www.instagram.com/reel/C_21B9cSORC/']\n",
      "12\n"
     ]
    }
   ],
   "source": [
    "# post_links = []\n",
    "# mainChildContainer = mainDiv.find_elements(By.XPATH,\"./div\") \n",
    "# print(len(mainChildContainer))\n",
    "# postContainer = mainChildContainer[0].find_elements(By.XPATH,\"./div\")[-1]\n",
    "# postStyleDiv = postContainer.find_elements(By.XPATH,\"./div\")[0]\n",
    "# postRowContainer = postStyleDiv.find_elements(By.XPATH,\"./div\") \n",
    "# print(len(postRowContainer))\n",
    "\n",
    "# for div_row in postRowContainer:\n",
    "#     divs = div_row.find_elements(By.XPATH, \"div\")\n",
    "#     # print(f\"Number of <div> elements in each row: {len(divs)}\")\n",
    "#     for div in divs:\n",
    "#         a_tags = div.find_elements(By.TAG_NAME, \"a\")\n",
    "#         if len(a_tags) > 0:\n",
    "#             a_tag = a_tags[0]\n",
    "#             href = a_tag.get_attribute(\"href\")\n",
    "#             post_links.append(href)\n",
    "# print(post_links)\n",
    "# print(len(post_links))\n"
   ]
  },
  {
   "cell_type": "code",
   "execution_count": null,
   "metadata": {},
   "outputs": [],
   "source": [
    "def get_dom_posts():\n",
    "    post_links = []\n",
    "    mainDiv = driver.find_element(By.XPATH,\"//main[@role='main']\")\n",
    "    mainChildContainer = mainDiv.find_elements(By.XPATH,\"./div\") \n",
    "    print(len(mainChildContainer))\n",
    "    postContainer = mainChildContainer[0].find_elements(By.XPATH,\"./div\")[-1]\n",
    "    postStyleDiv = postContainer.find_elements(By.XPATH,\"./div\")[0]\n",
    "    postRowContainer = postStyleDiv.find_elements(By.XPATH,\"./div\") \n",
    "    print(len(postRowContainer))\n",
    "\n",
    "    for div_row in postRowContainer:\n",
    "        divs = div_row.find_elements(By.XPATH, \"div\")\n",
    "        # print(f\"Number of <div> elements in each row: {len(divs)}\")\n",
    "        for div in divs:\n",
    "            a_tags = div.find_elements(By.TAG_NAME, \"a\")\n",
    "            if len(a_tags) > 0:\n",
    "                a_tag = a_tags[0]\n",
    "                href = a_tag.get_attribute(\"href\")\n",
    "                post_links.append(href)\n",
    "    print(post_links)\n",
    "    print(len(post_links))\n",
    "    return post_links"
   ]
  },
  {
   "cell_type": "code",
   "execution_count": null,
   "metadata": {},
   "outputs": [],
   "source": [
    "post_info = {}\n",
    "post_links = get_dom_posts()\n"
   ]
  },
  {
   "cell_type": "code",
   "execution_count": 173,
   "metadata": {},
   "outputs": [],
   "source": [
    "def parseNumber(strNumber):\n",
    "    if '万' in strNumber:\n",
    "        str_num = strNumber[0:-1]\n",
    "        value = float(str_num)*10000\n",
    "        return str(value)\n",
    "    return strNumber"
   ]
  },
  {
   "cell_type": "code",
   "execution_count": 174,
   "metadata": {},
   "outputs": [],
   "source": [
    "def parse_view(div_view_container,count_sperator):\n",
    "    json_view = {}\n",
    "\n",
    "    view_total = div_view_container.find_element(By.XPATH,\"./div/div/div[2]/div/span\")\n",
    "    json_view['ビュー'] = parseNumber(view_total.text)\n",
    "\n",
    "    per_follower = div_view_container.find_element(By.XPATH,\"./div/div/div[3]/div[2]\")\n",
    "    json_view['フォロワー'] = per_follower.text\n",
    "\n",
    "    per_unfollower = div_view_container.find_element(By.XPATH,\"./div/div/div[3]/div[4]\")\n",
    "    json_view['フォロワー以外'] = per_unfollower.text\n",
    "\n",
    "    if count_sperator == 7:\n",
    "        view_source_div = div_view_container.find_element(By.XPATH,\"./div/div/div[5]\")\n",
    "        view_source_contents = view_source_div.find_elements(By.XPATH,\"./div\")\n",
    "        for content in view_source_contents:\n",
    "            key_div = content.find_element(By.XPATH,\"./div/div[1]/span\")\n",
    "            value_div = content.find_element(By.XPATH,\"./div/div[2]/span\")\n",
    "            json_view[key_div.text] = value_div.text\n",
    "\n",
    "    reach_count_div = div_view_container.find_element(By.XPATH,f\"./div/div/div[{count_sperator}]\")\n",
    "    reach_key = reach_count_div.find_element(By.XPATH,\"./span\")\n",
    "    reach_value = reach_count_div.find_element(By.XPATH,\"./div/span\")\n",
    "    json_view[reach_key.text] = reach_value.text\n",
    "    return json_view"
   ]
  },
  {
   "cell_type": "code",
   "execution_count": 175,
   "metadata": {},
   "outputs": [],
   "source": [
    "def parse_interaction(div_interaction_container):\n",
    "    json_interaction = {}\n",
    "    div_children = div_interaction_container.find_elements(By.XPATH,'./div/div')\n",
    "    interaction_container = div_children[1]\n",
    "    post_interaction_container = div_children[3]\n",
    "    action_account_container = div_children[5]\n",
    "\n",
    "    # interaction\n",
    "    interaction_key = interaction_container.find_element(By.XPATH,'./div/div[1]/span')\n",
    "    interaction_value = interaction_container.find_element(By.XPATH,'./div/div[1]/div/span')\n",
    "    json_interaction[interaction_key.text] = interaction_value.text\n",
    "    # print(f'interaction key = {interaction_key.text}  interaction value = {interaction_value.text}')\n",
    "    \n",
    "    follower_key = interaction_container.find_element(By.XPATH,'./div/div[2]/div[1]/span')\n",
    "    follower_value = interaction_container.find_element(By.XPATH,'./div/div[2]/div[2]')\n",
    "    json_interaction[follower_key.text] = follower_value.text\n",
    "    # print(f'follower key = {follower_key.text}  follower value = {follower_value.text}')\n",
    "    \n",
    "    unfollower_key = interaction_container.find_element(By.XPATH,'./div/div[2]/div[3]/span')\n",
    "    unfollower_value = interaction_container.find_element(By.XPATH,'./div/div[2]/div[4]')\n",
    "    json_interaction[unfollower_key.text] = unfollower_value.text\n",
    "    # print(f'unfollower key = {unfollower_key.text}  unfollower value = {unfollower_value.text}')\n",
    "\n",
    "    # post interaction\n",
    "    post_children = post_interaction_container.find_elements(By.XPATH,'./div/div')\n",
    "    post_interaction_div = post_children[0]\n",
    "    post_interaction_key = post_interaction_div.find_element(By.XPATH,'./span')\n",
    "    post_interaction_value = post_interaction_div.find_element(By.XPATH,'./div/span')\n",
    "    json_interaction[post_interaction_key.text] = post_interaction_value.text\n",
    "    # post_interaction_key = post_interaction_container.find_element(By.XPATH,'./div/div[1]/span')\n",
    "    # post_interaction_value = post_interaction_container.find_element(By.XPATH,'./div/div[1]/div/span')\n",
    "    # print(f'post_interaction key = {post_interaction_key.text}  post_interaction value = {post_interaction_value.text}')\n",
    "    for element in post_children[1:]:\n",
    "        key_div = element.find_element(By.XPATH,'./div/div[1]/span')\n",
    "        value_div = element.find_element(By.XPATH,'./div/div[2]/span')\n",
    "        json_interaction[key_div.text] = value_div.text\n",
    "        # print(f'element key = {key_div.text}   element value = {value_div.text}')\n",
    "    \n",
    "    # action account\n",
    "    action_account_key = action_account_container.find_element(By.XPATH,'./span')\n",
    "    action_account_value = action_account_container.find_element(By.XPATH,'./div/span')\n",
    "    # print(f'action account  key = {action_account_key.text}   value = {action_account_value.text}')\n",
    "    json_interaction[action_account_key.text] = action_account_value.text\n",
    "\n",
    "    return json_interaction\n",
    "    "
   ]
  },
  {
   "cell_type": "code",
   "execution_count": 176,
   "metadata": {},
   "outputs": [],
   "source": [
    "def parse_profile(div_profile_container):\n",
    "    json_profile = {}\n",
    "    profile_container = div_profile_container.find_element(By.XPATH,'./div/div[2]/div')\n",
    "    children_elements = profile_container.find_elements(By.XPATH,'./div')\n",
    "    profile_activity = children_elements[0]\n",
    "    profile_activity_key = profile_activity.find_element(By.XPATH,'./span')\n",
    "    profile_activity_value = profile_activity.find_element(By.XPATH,'./div/span')\n",
    "    json_profile[profile_activity_key.text] = profile_activity_value.text\n",
    "    for element in children_elements[1:]:\n",
    "        key_div = element.find_element(By.XPATH,'./div[1]/span')\n",
    "        value_div = element.find_element(By.XPATH,'./div[2]/span')\n",
    "        json_profile[key_div.text] = value_div.text\n",
    "    return json_profile"
   ]
  },
  {
   "cell_type": "code",
   "execution_count": 177,
   "metadata": {},
   "outputs": [],
   "source": [
    "async def open_post_href(link):\n",
    "    json_output = []\n",
    "    home_window = driver.current_window_handle\n",
    "    driver.switch_to.new_window('tab')\n",
    "    driver.get(link)\n",
    "    #\n",
    "    time_tag = WebDriverWait(driver, 5).until(\n",
    "        EC.presence_of_element_located((By.TAG_NAME, \"time\"))\n",
    "    )\n",
    "    date_time = time_tag.get_attribute(\"datetime\")\n",
    "    print(date_time)\n",
    "\n",
    "    try:\n",
    "        insight_button = WebDriverWait(driver,5).until(EC.element_to_be_clickable((By.XPATH,\"//div[@role='button' and text()='インサイトを見る']\")))\n",
    "        print(insight_button.text)\n",
    "        print(insight_button.is_enabled())\n",
    "        driver.execute_script(\"arguments[0].click();\",insight_button)\n",
    "        WebDriverWait(driver, 10).until(EC.url_contains('insights'))\n",
    "                \n",
    "        # find seperators\n",
    "        hr_separators = WebDriverWait(driver, 5).until(\n",
    "            EC.presence_of_all_elements_located((By.XPATH,\"//hr\"))\n",
    "        )\n",
    "        count_sperator = len(hr_separators)\n",
    "        if count_sperator == 7:\n",
    "            main_separators = [hr_separators[2],hr_separators[5],hr_separators[6]]\n",
    "        else:\n",
    "            main_separators = [hr_separators[1],hr_separators[4],hr_separators[5]]\n",
    "        div_separators = [hr.find_element(By.XPATH,\"..\") for hr in main_separators]\n",
    "        div_info_root = div_separators[0].find_element(By.XPATH,\"..\")\n",
    "        div_info_children = div_info_root.find_elements(By.XPATH,\"./div\")\n",
    "        div_view_container = div_info_children[0]\n",
    "        div_interaction_container = div_info_children[2]\n",
    "        div_profile_container = div_info_children[4]\n",
    "\n",
    "\n",
    "        json_output.append(parse_view(div_view_container,count_sperator))  \n",
    "        json_output.append(parse_interaction(div_interaction_container)) \n",
    "        json_output.append(parse_profile(div_profile_container)) \n",
    "        \n",
    "        print(json_output)\n",
    "        driver.close()\n",
    "        driver.switch_to.window(home_window)\n",
    "        return json_output\n",
    "    except TimeoutException:\n",
    "        driver.close()\n",
    "        driver.switch_to.window(home_window)\n",
    "        return None\n",
    "    "
   ]
  },
  {
   "cell_type": "code",
   "execution_count": 178,
   "metadata": {},
   "outputs": [
    {
     "name": "stdout",
     "output_type": "stream",
     "text": [
      "href == https://www.instagram.com/p/DALSUyhveyl/\n",
      "url -- https://www.instagram.com/p/DALSUyhveyl/\n",
      "2024-09-21T10:46:29.000Z\n",
      "インサイトを見る\n",
      "True\n",
      "insight url -- https://www.instagram.com/insights/media/3461941332044278949/\n",
      "ビュー = 11000.0\n",
      "per_follower total フォロワー = 81%\n",
      "per_unfollower total フォロワー以外 = 19%\n",
      "profile length - 3\n",
      "profile_activity key = プロフィールのアクティビティ   profile_activity value = 45\n",
      "element key = プロフィールへのアクセス   element value = 44\n",
      "element key = フォロー数   element value = 1\n",
      "[{'ビュー': '11000.0', 'フォロワー': '81%', 'フォロワー以外': '19%', 'ホーム': '7026', '発見から': '1806', 'その他': '121', 'リーチしたアカウント数': '6783'}, {'インタラクション': '376', 'フォロワー': '67.7%', 'フォロワー以外': '32.3%', '投稿でのインタラクション': '0', '「いいね！」': '339', '保存数': '32', 'コメント': '2', 'シェア数': '0', 'アクションを実行したアカウント': '349'}, {'プロフィールのアクティビティ': '45', 'プロフィールへのアクセス': '44', 'フォロー数': '1'}]\n",
      "href == https://www.instagram.com/p/DAM0D6FyQZV/\n",
      "url -- https://www.instagram.com/p/DAM0D6FyQZV/\n",
      "2024-09-21T02:52:37.000Z\n",
      "インサイトを見る\n",
      "True\n",
      "insight url -- https://www.instagram.com/insights/media/3462371180492162645/\n",
      "ビュー = 10000.0\n",
      "per_follower total フォロワー = 95.2%\n",
      "per_unfollower total フォロワー以外 = 4.8%\n",
      "profile length - 4\n",
      "profile_activity key = プロフィールのアクティビティ   profile_activity value = 29\n",
      "element key = プロフィールへのアクセス   element value = 27\n",
      "element key = 外部リンクのタップ   element value = 1\n",
      "element key = フォロー数   element value = 1\n",
      "[{'ビュー': '10000.0', 'フォロワー': '95.2%', 'フォロワー以外': '4.8%', 'ホーム': '6977', 'その他': '164', 'ハッシュタグ': '114', 'リーチしたアカウント数': '4816'}, {'インタラクション': '212', 'フォロワー': '95.8%', 'フォロワー以外': '4.2%', '投稿でのインタラクション': '0', '「いいね！」': '192', '保存数': '16', 'コメント': '1', 'シェア数': '0', 'アクションを実行したアカウント': '202'}, {'プロフィールのアクティビティ': '29', 'プロフィールへのアクセス': '27', '外部リンクのタップ': '1', 'フォロー数': '1'}]\n",
      "href == https://www.instagram.com/p/DAIc5-eSp0G/\n",
      "url -- https://www.instagram.com/p/DAIc5-eSp0G/\n",
      "2024-09-20T08:21:13.000Z\n",
      "インサイトを見る\n",
      "True\n",
      "insight url -- https://www.instagram.com/insights/media/3461143443026910470/\n",
      "ビュー = 8292\n",
      "per_follower total フォロワー = 95.8%\n",
      "per_unfollower total フォロワー以外 = 4.2%\n",
      "profile length - 4\n",
      "profile_activity key = プロフィールのアクティビティ   profile_activity value = 27\n",
      "element key = プロフィールへのアクセス   element value = 22\n",
      "element key = 外部リンクのタップ   element value = 3\n",
      "element key = フォロー数   element value = 2\n",
      "[{'ビュー': '8292', 'フォロワー': '95.8%', 'フォロワー以外': '4.2%', 'ホーム': '6404', 'その他': '180', '発見から': '115', 'リーチしたアカウント数': '4275'}, {'インタラクション': '201', 'フォロワー': '94.1%', 'フォロワー以外': '5.9%', '投稿でのインタラクション': '0', '「いいね！」': '190', '保存数': '9', 'コメント': '0', 'シェア数': '0', 'アクションを実行したアカウント': '201'}, {'プロフィールのアクティビティ': '27', 'プロフィールへのアクセス': '22', '外部リンクのタップ': '3', 'フォロー数': '2'}]\n",
      "href == https://www.instagram.com/p/DAGS1XByGCx/\n",
      "url -- https://www.instagram.com/p/DAGS1XByGCx/\n",
      "2024-09-19T12:14:45.000Z\n"
     ]
    }
   ],
   "source": [
    "test = 0\n",
    "for link in post_links:\n",
    "    if test > 3:\n",
    "        break\n",
    "    print(f\"href == {link}\")\n",
    "    test = test + 1\n",
    "    insight_data = await open_post_href(link)"
   ]
  },
  {
   "cell_type": "markdown",
   "metadata": {},
   "source": [
    "-----------------------------------------------------------------"
   ]
  },
  {
   "cell_type": "code",
   "execution_count": 13,
   "metadata": {},
   "outputs": [],
   "source": [
    "def request_posts(page_url,start_date,post_targets):\n",
    "    response = requests.get(page_url)\n",
    "    if response.status_code == 200:\n",
    "        # Parse the JSON response\n",
    "        data = response.json()\n",
    "        posts = data['data']\n",
    "        # Print or process the data\n",
    "        # for post in posts:\n",
    "        #     print(f\"ID: {post['id']}\")\n",
    "        #     print(f\"Timestamp: {post['timestamp']}\")\n",
    "        last = posts[len(posts)-1]\n",
    "        last_timestamp_str = last['timestamp']\n",
    "        last_timestamp = datetime.strptime(last_timestamp_str, \"%Y-%m-%dT%H:%M:%S%z\")\n",
    "        print(last_timestamp)\n",
    "        print(start_date)\n",
    "        print(last_timestamp > start_date)\n",
    "        if last_timestamp >= start_date:\n",
    "            # concate\n",
    "            post_targets = post_targets + posts\n",
    "            # request next page\n",
    "            paging = data['paging']\n",
    "            next_page_url = paging['next']\n",
    "            request_posts(next_page_url,start_date,post_targets)\n",
    "        else:\n",
    "            for post in posts:\n",
    "                post_timestamp_str = post['timestamp']\n",
    "                post_timestamp = datetime.strptime(post_timestamp_str, \"%Y-%m-%dT%H:%M:%S%z\")\n",
    "                if post_timestamp > start_date:\n",
    "                   post_targets.append(post) \n",
    "            return post_targets\n",
    "    else:\n",
    "        # Print the error if the request was not successful\n",
    "        print(f\"Error: {response.status_code}\")\n",
    "        print(response.json())"
   ]
  },
  {
   "cell_type": "code",
   "execution_count": 15,
   "metadata": {},
   "outputs": [
    {
     "name": "stdout",
     "output_type": "stream",
     "text": [
      "https://graph.instagram.com/me/media?fields=id,timestamp&access_token=IGQWRNTExZAcEZAzV3FuU0g3NWJKMnhzRW9tZAkV4eUtHZA1JYZA0hWaEp6Y183MmJneHNSUEpSeklVQXBBQktzcnl5aEtPUDVSU0pwUjA2a3ZAqQnFmMjdRbGFPR3YzM0lyd3Q3ZAHo2b01CY1JhZA1lkbmxRbjVlVldfZA3cZD\n",
      "2024-07-30 01:45:55+00:00\n",
      "2024-06-01 00:00:00+00:00\n",
      "True\n",
      "2024-07-05 03:00:00+00:00\n",
      "2024-06-01 00:00:00+00:00\n",
      "True\n",
      "2024-06-14 10:11:16+00:00\n",
      "2024-06-01 00:00:00+00:00\n",
      "True\n",
      "2024-05-20 11:15:48+00:00\n",
      "2024-06-01 00:00:00+00:00\n",
      "False\n",
      "None\n"
     ]
    }
   ],
   "source": [
    "ACCESS_TOKEN = 'IGQWRNTExZAcEZAzV3FuU0g3NWJKMnhzRW9tZAkV4eUtHZA1JYZA0hWaEp6Y183MmJneHNSUEpSeklVQXBBQktzcnl5aEtPUDVSU0pwUjA2a3ZAqQnFmMjdRbGFPR3YzM0lyd3Q3ZAHo2b01CY1JhZA1lkbmxRbjVlVldfZA3cZD'\n",
    "posts_url = f'https://graph.instagram.com/me/media?fields=id,timestamp&access_token={ACCESS_TOKEN}'\n",
    "print(posts_url)\n",
    "start_date_str = '2024-06-01'\n",
    "start_date = datetime.strptime(start_date_str, \"%Y-%m-%d\")\n",
    "timezone = pytz.timezone('UTC')\n",
    "start_date = timezone.localize(start_date)\n",
    "post_targets = []\n",
    "list_target = request_posts(posts_url,start_date,post_targets)\n",
    "print(list_target)\n"
   ]
  },
  {
   "cell_type": "code",
   "execution_count": 27,
   "metadata": {},
   "outputs": [
    {
     "name": "stdout",
     "output_type": "stream",
     "text": [
      "2024-07-30 01:45:55+00:00\n",
      "2024-07-30 00:00:00\n"
     ]
    }
   ],
   "source": [
    "date_string = \"2024-07-30T01:45:55+0000\"\n",
    "date_string_1 = \"2024-07-30\"\n",
    "\n",
    "# Convert to a datetime object\n",
    "dt_object = datetime.strptime(date_string, \"%Y-%m-%dT%H:%M:%S%z\")\n",
    "dt_object_1 = datetime.strptime(date_string_1, \"%Y-%m-%d\")\n",
    "\n",
    "# Print the datetime object\n",
    "print(dt_object)\n",
    "print(dt_object_1)"
   ]
  },
  {
   "cell_type": "code",
   "execution_count": 34,
   "metadata": {},
   "outputs": [
    {
     "name": "stdout",
     "output_type": "stream",
     "text": [
      "x1iyjqo2\n",
      "post_links  = ['https://www.instagram.com/hodinkeejapan/p/C-7c6xuyq4O/', 'https://www.instagram.com/hodinkeejapan/p/C-7ZHA2S8n9/', 'https://www.instagram.com/hodinkeejapan/p/C-5B9HtysaY/', 'https://www.instagram.com/hodinkeejapan/p/C-1rzLdR80X/', 'https://www.instagram.com/hodinkeejapan/p/C-zrz8_Sv5X/', 'https://www.instagram.com/hodinkeejapan/p/C-zXsY5Rg9C/', 'https://www.instagram.com/hodinkeejapan/p/C-xKJCUSA08/', 'https://www.instagram.com/hodinkeejapan/p/C-vBsnVyxFy/', 'https://www.instagram.com/hodinkeejapan/p/C-up18zyPap/', 'https://www.instagram.com/hodinkeejapan/p/C-rQ-ThyDqF/', 'https://www.instagram.com/hodinkeejapan/p/C-rQI1_yhC8/', 'https://www.instagram.com/hodinkeejapan/reel/C-pgcW-SfQT/']\n",
      "href == https://www.instagram.com/hodinkeejapan/p/C-7c6xuyq4O/\n",
      "2024-08-21T10:39:47.000Z\n",
      "4\n"
     ]
    },
    {
     "ename": "NoSuchElementException",
     "evalue": "Message: no such element: Unable to locate element: {\"method\":\"xpath\",\"selector\":\"//section//section//div[@role='button' and text()='インサイトを見る']\"}\n  (Session info: chrome=127.0.6533.120); For documentation on this error, please visit: https://www.selenium.dev/documentation/webdriver/troubleshooting/errors#no-such-element-exception\nStacktrace:\n\tGetHandleVerifier [0x00007FF6E7929642+30946]\n\t(No symbol) [0x00007FF6E78DE3D9]\n\t(No symbol) [0x00007FF6E77D6FDA]\n\t(No symbol) [0x00007FF6E782822C]\n\t(No symbol) [0x00007FF6E782850C]\n\t(No symbol) [0x00007FF6E786DCB7]\n\t(No symbol) [0x00007FF6E784CAAF]\n\t(No symbol) [0x00007FF6E786B041]\n\t(No symbol) [0x00007FF6E784C813]\n\t(No symbol) [0x00007FF6E781A6E5]\n\t(No symbol) [0x00007FF6E781B021]\n\tGetHandleVerifier [0x00007FF6E7A5F84D+1301229]\n\tGetHandleVerifier [0x00007FF6E7A6BDC7+1351783]\n\tGetHandleVerifier [0x00007FF6E7A62A13+1313971]\n\tGetHandleVerifier [0x00007FF6E795DD16+245686]\n\t(No symbol) [0x00007FF6E78E759F]\n\t(No symbol) [0x00007FF6E78E3814]\n\t(No symbol) [0x00007FF6E78E39A2]\n\t(No symbol) [0x00007FF6E78DA3FF]\n\tBaseThreadInitThunk [0x00007FFC8DA5257D+29]\n\tRtlUserThreadStart [0x00007FFC8F8EAF28+40]\n",
     "output_type": "error",
     "traceback": [
      "\u001b[1;31m---------------------------------------------------------------------------\u001b[0m",
      "\u001b[1;31mNoSuchElementException\u001b[0m                    Traceback (most recent call last)",
      "Cell \u001b[1;32mIn[34], line 54\u001b[0m\n\u001b[0;32m     52\u001b[0m         \u001b[38;5;28;01mbreak\u001b[39;00m\n\u001b[0;32m     53\u001b[0m     \u001b[38;5;28mprint\u001b[39m(\u001b[38;5;124mf\u001b[39m\u001b[38;5;124m\"\u001b[39m\u001b[38;5;124mhref == \u001b[39m\u001b[38;5;132;01m{\u001b[39;00mlink\u001b[38;5;132;01m}\u001b[39;00m\u001b[38;5;124m\"\u001b[39m)\n\u001b[1;32m---> 54\u001b[0m     \u001b[43mopen_post_href\u001b[49m\u001b[43m(\u001b[49m\u001b[43mlink\u001b[49m\u001b[43m)\u001b[49m\n\u001b[0;32m     55\u001b[0m     test \u001b[38;5;241m=\u001b[39m test \u001b[38;5;241m+\u001b[39m \u001b[38;5;241m1\u001b[39m\n\u001b[0;32m     56\u001b[0m     \u001b[38;5;66;03m# time.sleep(6)\u001b[39;00m\n\u001b[0;32m     57\u001b[0m \n\u001b[0;32m     58\u001b[0m \u001b[38;5;66;03m# time.sleep(5) # Let the user actually see something!\u001b[39;00m\n\u001b[0;32m     59\u001b[0m \n\u001b[0;32m     60\u001b[0m \u001b[38;5;66;03m# driver.quit()\u001b[39;00m\n",
      "Cell \u001b[1;32mIn[34], line 25\u001b[0m, in \u001b[0;36mopen_post_href\u001b[1;34m(link)\u001b[0m\n\u001b[0;32m     23\u001b[0m \u001b[38;5;28mprint\u001b[39m(\u001b[38;5;28mlen\u001b[39m(sections))\n\u001b[0;32m     24\u001b[0m \u001b[38;5;66;03m#\u001b[39;00m\n\u001b[1;32m---> 25\u001b[0m insight_div \u001b[38;5;241m=\u001b[39m \u001b[43mdriver\u001b[49m\u001b[38;5;241;43m.\u001b[39;49m\u001b[43mfind_element\u001b[49m\u001b[43m(\u001b[49m\u001b[43mBy\u001b[49m\u001b[38;5;241;43m.\u001b[39;49m\u001b[43mXPATH\u001b[49m\u001b[43m,\u001b[49m\u001b[43m \u001b[49m\u001b[38;5;124;43m\"\u001b[39;49m\u001b[38;5;124;43m//section//section//div[@role=\u001b[39;49m\u001b[38;5;124;43m'\u001b[39;49m\u001b[38;5;124;43mbutton\u001b[39;49m\u001b[38;5;124;43m'\u001b[39;49m\u001b[38;5;124;43m and text()=\u001b[39;49m\u001b[38;5;124;43m'\u001b[39;49m\u001b[38;5;124;43mインサイトを見る\u001b[39;49m\u001b[38;5;124;43m'\u001b[39;49m\u001b[38;5;124;43m]\u001b[39;49m\u001b[38;5;124;43m\"\u001b[39;49m\u001b[43m)\u001b[49m\n\u001b[0;32m     26\u001b[0m \u001b[38;5;28mprint\u001b[39m(\u001b[38;5;124mf\u001b[39m\u001b[38;5;124m'\u001b[39m\u001b[38;5;124minsight div == \u001b[39m\u001b[38;5;132;01m{\u001b[39;00minsight_div\u001b[38;5;132;01m}\u001b[39;00m\u001b[38;5;124m'\u001b[39m)\n\u001b[0;32m     27\u001b[0m \u001b[38;5;66;03m#\u001b[39;00m\n",
      "File \u001b[1;32mc:\\Users\\G6330\\AppData\\Local\\miniconda3\\envs\\selenium\\Lib\\site-packages\\selenium\\webdriver\\remote\\webdriver.py:748\u001b[0m, in \u001b[0;36mWebDriver.find_element\u001b[1;34m(self, by, value)\u001b[0m\n\u001b[0;32m    745\u001b[0m     by \u001b[38;5;241m=\u001b[39m By\u001b[38;5;241m.\u001b[39mCSS_SELECTOR\n\u001b[0;32m    746\u001b[0m     value \u001b[38;5;241m=\u001b[39m \u001b[38;5;124mf\u001b[39m\u001b[38;5;124m'\u001b[39m\u001b[38;5;124m[name=\u001b[39m\u001b[38;5;124m\"\u001b[39m\u001b[38;5;132;01m{\u001b[39;00mvalue\u001b[38;5;132;01m}\u001b[39;00m\u001b[38;5;124m\"\u001b[39m\u001b[38;5;124m]\u001b[39m\u001b[38;5;124m'\u001b[39m\n\u001b[1;32m--> 748\u001b[0m \u001b[38;5;28;01mreturn\u001b[39;00m \u001b[38;5;28;43mself\u001b[39;49m\u001b[38;5;241;43m.\u001b[39;49m\u001b[43mexecute\u001b[49m\u001b[43m(\u001b[49m\u001b[43mCommand\u001b[49m\u001b[38;5;241;43m.\u001b[39;49m\u001b[43mFIND_ELEMENT\u001b[49m\u001b[43m,\u001b[49m\u001b[43m \u001b[49m\u001b[43m{\u001b[49m\u001b[38;5;124;43m\"\u001b[39;49m\u001b[38;5;124;43musing\u001b[39;49m\u001b[38;5;124;43m\"\u001b[39;49m\u001b[43m:\u001b[49m\u001b[43m \u001b[49m\u001b[43mby\u001b[49m\u001b[43m,\u001b[49m\u001b[43m \u001b[49m\u001b[38;5;124;43m\"\u001b[39;49m\u001b[38;5;124;43mvalue\u001b[39;49m\u001b[38;5;124;43m\"\u001b[39;49m\u001b[43m:\u001b[49m\u001b[43m \u001b[49m\u001b[43mvalue\u001b[49m\u001b[43m}\u001b[49m\u001b[43m)\u001b[49m[\u001b[38;5;124m\"\u001b[39m\u001b[38;5;124mvalue\u001b[39m\u001b[38;5;124m\"\u001b[39m]\n",
      "File \u001b[1;32mc:\\Users\\G6330\\AppData\\Local\\miniconda3\\envs\\selenium\\Lib\\site-packages\\selenium\\webdriver\\remote\\webdriver.py:354\u001b[0m, in \u001b[0;36mWebDriver.execute\u001b[1;34m(self, driver_command, params)\u001b[0m\n\u001b[0;32m    352\u001b[0m response \u001b[38;5;241m=\u001b[39m \u001b[38;5;28mself\u001b[39m\u001b[38;5;241m.\u001b[39mcommand_executor\u001b[38;5;241m.\u001b[39mexecute(driver_command, params)\n\u001b[0;32m    353\u001b[0m \u001b[38;5;28;01mif\u001b[39;00m response:\n\u001b[1;32m--> 354\u001b[0m     \u001b[38;5;28;43mself\u001b[39;49m\u001b[38;5;241;43m.\u001b[39;49m\u001b[43merror_handler\u001b[49m\u001b[38;5;241;43m.\u001b[39;49m\u001b[43mcheck_response\u001b[49m\u001b[43m(\u001b[49m\u001b[43mresponse\u001b[49m\u001b[43m)\u001b[49m\n\u001b[0;32m    355\u001b[0m     response[\u001b[38;5;124m\"\u001b[39m\u001b[38;5;124mvalue\u001b[39m\u001b[38;5;124m\"\u001b[39m] \u001b[38;5;241m=\u001b[39m \u001b[38;5;28mself\u001b[39m\u001b[38;5;241m.\u001b[39m_unwrap_value(response\u001b[38;5;241m.\u001b[39mget(\u001b[38;5;124m\"\u001b[39m\u001b[38;5;124mvalue\u001b[39m\u001b[38;5;124m\"\u001b[39m, \u001b[38;5;28;01mNone\u001b[39;00m))\n\u001b[0;32m    356\u001b[0m     \u001b[38;5;28;01mreturn\u001b[39;00m response\n",
      "File \u001b[1;32mc:\\Users\\G6330\\AppData\\Local\\miniconda3\\envs\\selenium\\Lib\\site-packages\\selenium\\webdriver\\remote\\errorhandler.py:229\u001b[0m, in \u001b[0;36mErrorHandler.check_response\u001b[1;34m(self, response)\u001b[0m\n\u001b[0;32m    227\u001b[0m         alert_text \u001b[38;5;241m=\u001b[39m value[\u001b[38;5;124m\"\u001b[39m\u001b[38;5;124malert\u001b[39m\u001b[38;5;124m\"\u001b[39m]\u001b[38;5;241m.\u001b[39mget(\u001b[38;5;124m\"\u001b[39m\u001b[38;5;124mtext\u001b[39m\u001b[38;5;124m\"\u001b[39m)\n\u001b[0;32m    228\u001b[0m     \u001b[38;5;28;01mraise\u001b[39;00m exception_class(message, screen, stacktrace, alert_text)  \u001b[38;5;66;03m# type: ignore[call-arg]  # mypy is not smart enough here\u001b[39;00m\n\u001b[1;32m--> 229\u001b[0m \u001b[38;5;28;01mraise\u001b[39;00m exception_class(message, screen, stacktrace)\n",
      "\u001b[1;31mNoSuchElementException\u001b[0m: Message: no such element: Unable to locate element: {\"method\":\"xpath\",\"selector\":\"//section//section//div[@role='button' and text()='インサイトを見る']\"}\n  (Session info: chrome=127.0.6533.120); For documentation on this error, please visit: https://www.selenium.dev/documentation/webdriver/troubleshooting/errors#no-such-element-exception\nStacktrace:\n\tGetHandleVerifier [0x00007FF6E7929642+30946]\n\t(No symbol) [0x00007FF6E78DE3D9]\n\t(No symbol) [0x00007FF6E77D6FDA]\n\t(No symbol) [0x00007FF6E782822C]\n\t(No symbol) [0x00007FF6E782850C]\n\t(No symbol) [0x00007FF6E786DCB7]\n\t(No symbol) [0x00007FF6E784CAAF]\n\t(No symbol) [0x00007FF6E786B041]\n\t(No symbol) [0x00007FF6E784C813]\n\t(No symbol) [0x00007FF6E781A6E5]\n\t(No symbol) [0x00007FF6E781B021]\n\tGetHandleVerifier [0x00007FF6E7A5F84D+1301229]\n\tGetHandleVerifier [0x00007FF6E7A6BDC7+1351783]\n\tGetHandleVerifier [0x00007FF6E7A62A13+1313971]\n\tGetHandleVerifier [0x00007FF6E795DD16+245686]\n\t(No symbol) [0x00007FF6E78E759F]\n\t(No symbol) [0x00007FF6E78E3814]\n\t(No symbol) [0x00007FF6E78E39A2]\n\t(No symbol) [0x00007FF6E78DA3FF]\n\tBaseThreadInitThunk [0x00007FFC8DA5257D+29]\n\tRtlUserThreadStart [0x00007FFC8F8EAF28+40]\n"
     ]
    }
   ],
   "source": [
    "# Optional argument, if not specified will search path.\n",
    "driver = webdriver.Chrome()\n",
    "driver.get(\"https://www.instagram.com/hodinkeejapan/\")\n",
    "\n",
    "# request facebook api to get post count\n",
    "post_links = []\n",
    "\n",
    "article_element = WebDriverWait(driver, 5).until(\n",
    "    EC.presence_of_element_located((By.TAG_NAME, \"article\"))\n",
    ")\n",
    "\n",
    "\n",
    "def open_post_href(link):\n",
    "    driver.execute_script(\"window.open('');\")\n",
    "    driver.switch_to.window(driver.window_handles[-1])\n",
    "    driver.get(link)\n",
    "    time_tag = WebDriverWait(driver, 5).until(\n",
    "        EC.presence_of_element_located((By.TAG_NAME, \"time\"))\n",
    "    )\n",
    "    date_time = time_tag.get_attribute(\"datetime\")\n",
    "    print(date_time)\n",
    "    sections = driver.find_elements(By.TAG_NAME,\"section\")\n",
    "    print(len(sections))\n",
    "    #\n",
    "    # insight_div = driver.find_element(By.XPATH, \"//section//section//div[@role='button' and text()='インサイトを見る']\")\n",
    "    # print(f'insight div == {insight_div}')\n",
    "    #\n",
    "    for section in sections:\n",
    "        childDiv = section.find_element(By.XPATH,\"//div[@role='button' and text()='インサイトを見る']\")\n",
    "        print(f'sction - childDiv text:  {childDiv.get_attribute('text')}')\n",
    "    driver.close()\n",
    "    driver.switch_to.window(driver.window_handles[0])\n",
    "\n",
    "\n",
    "print(article_element.get_property(\"className\"))\n",
    "div_row_elements = article_element.find_elements(By.XPATH, \"./div/div/div\")\n",
    "# print(f\"Number of Rows of <div> elements found: {len(div_row_elements)}\")\n",
    "for div_row in div_row_elements:\n",
    "    divs = div_row.find_elements(By.XPATH, \"./div\")\n",
    "    # print(f\"Number of <div> elements in each row: {len(divs)}\")\n",
    "    for div in divs:\n",
    "        a_tag = div.find_element(By.TAG_NAME, \"a\")\n",
    "        href = a_tag.get_attribute(\"href\")\n",
    "        post_links.append(href)\n",
    "print(f'post_links  = {post_links}')        \n",
    "        \n",
    "test = 0      \n",
    "# for div in div_elements:\n",
    "for link in post_links:\n",
    "    if test > 2:\n",
    "        break\n",
    "    print(f\"href == {link}\")\n",
    "    open_post_href(link)\n",
    "    test = test + 1\n",
    "    # time.sleep(6)\n",
    "\n",
    "# time.sleep(5) # Let the user actually see something!\n",
    "\n",
    "# driver.quit()"
   ]
  }
 ],
 "metadata": {
  "kernelspec": {
   "display_name": "selenium",
   "language": "python",
   "name": "python3"
  },
  "language_info": {
   "codemirror_mode": {
    "name": "ipython",
    "version": 3
   },
   "file_extension": ".py",
   "mimetype": "text/x-python",
   "name": "python",
   "nbconvert_exporter": "python",
   "pygments_lexer": "ipython3",
   "version": "3.12.6"
  }
 },
 "nbformat": 4,
 "nbformat_minor": 2
}
