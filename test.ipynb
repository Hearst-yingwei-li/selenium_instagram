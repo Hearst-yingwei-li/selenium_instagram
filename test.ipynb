{
 "cells": [
  {
   "cell_type": "code",
   "execution_count": 1,
   "metadata": {},
   "outputs": [],
   "source": [
    "import time\n",
    "import requests\n",
    "\n",
    "from selenium import webdriver\n",
    "from selenium.webdriver.common.by import By\n",
    "from selenium.webdriver.support.ui import WebDriverWait\n",
    "from selenium.webdriver.support import expected_conditions as EC\n",
    "from datetime import datetime\n",
    "import pytz"
   ]
  },
  {
   "cell_type": "code",
   "execution_count": 2,
   "metadata": {},
   "outputs": [],
   "source": []
  },
  {
   "cell_type": "code",
   "execution_count": 13,
   "metadata": {},
   "outputs": [],
   "source": [
    "def request_posts(page_url,start_date,post_targets):\n",
    "    response = requests.get(page_url)\n",
    "    if response.status_code == 200:\n",
    "        # Parse the JSON response\n",
    "        data = response.json()\n",
    "        posts = data['data']\n",
    "        # Print or process the data\n",
    "        # for post in posts:\n",
    "        #     print(f\"ID: {post['id']}\")\n",
    "        #     print(f\"Timestamp: {post['timestamp']}\")\n",
    "        last = posts[len(posts)-1]\n",
    "        last_timestamp_str = last['timestamp']\n",
    "        last_timestamp = datetime.strptime(last_timestamp_str, \"%Y-%m-%dT%H:%M:%S%z\")\n",
    "        print(last_timestamp)\n",
    "        print(start_date)\n",
    "        print(last_timestamp > start_date)\n",
    "        if last_timestamp >= start_date:\n",
    "            # concate\n",
    "            post_targets = post_targets + posts\n",
    "            # request next page\n",
    "            paging = data['paging']\n",
    "            next_page_url = paging['next']\n",
    "            request_posts(next_page_url,start_date,post_targets)\n",
    "        else:\n",
    "            for post in posts:\n",
    "                post_timestamp_str = post['timestamp']\n",
    "                post_timestamp = datetime.strptime(post_timestamp_str, \"%Y-%m-%dT%H:%M:%S%z\")\n",
    "                if post_timestamp > start_date:\n",
    "                   post_targets.append(post) \n",
    "            return post_targets\n",
    "    else:\n",
    "        # Print the error if the request was not successful\n",
    "        print(f\"Error: {response.status_code}\")\n",
    "        print(response.json())"
   ]
  },
  {
   "cell_type": "code",
   "execution_count": 15,
   "metadata": {},
   "outputs": [
    {
     "name": "stdout",
     "output_type": "stream",
     "text": [
      "https://graph.instagram.com/me/media?fields=id,timestamp&access_token=IGQWRNTExZAcEZAzV3FuU0g3NWJKMnhzRW9tZAkV4eUtHZA1JYZA0hWaEp6Y183MmJneHNSUEpSeklVQXBBQktzcnl5aEtPUDVSU0pwUjA2a3ZAqQnFmMjdRbGFPR3YzM0lyd3Q3ZAHo2b01CY1JhZA1lkbmxRbjVlVldfZA3cZD\n",
      "2024-07-30 01:45:55+00:00\n",
      "2024-06-01 00:00:00+00:00\n",
      "True\n",
      "2024-07-05 03:00:00+00:00\n",
      "2024-06-01 00:00:00+00:00\n",
      "True\n",
      "2024-06-14 10:11:16+00:00\n",
      "2024-06-01 00:00:00+00:00\n",
      "True\n",
      "2024-05-20 11:15:48+00:00\n",
      "2024-06-01 00:00:00+00:00\n",
      "False\n",
      "None\n"
     ]
    }
   ],
   "source": [
    "ACCESS_TOKEN = 'IGQWRNTExZAcEZAzV3FuU0g3NWJKMnhzRW9tZAkV4eUtHZA1JYZA0hWaEp6Y183MmJneHNSUEpSeklVQXBBQktzcnl5aEtPUDVSU0pwUjA2a3ZAqQnFmMjdRbGFPR3YzM0lyd3Q3ZAHo2b01CY1JhZA1lkbmxRbjVlVldfZA3cZD'\n",
    "posts_url = f'https://graph.instagram.com/me/media?fields=id,timestamp&access_token={ACCESS_TOKEN}'\n",
    "print(posts_url)\n",
    "start_date_str = '2024-06-01'\n",
    "start_date = datetime.strptime(start_date_str, \"%Y-%m-%d\")\n",
    "timezone = pytz.timezone('UTC')\n",
    "start_date = timezone.localize(start_date)\n",
    "post_targets = []\n",
    "list_target = request_posts(posts_url,start_date,post_targets)\n",
    "print(list_target)\n"
   ]
  },
  {
   "cell_type": "code",
   "execution_count": 27,
   "metadata": {},
   "outputs": [
    {
     "name": "stdout",
     "output_type": "stream",
     "text": [
      "2024-07-30 01:45:55+00:00\n",
      "2024-07-30 00:00:00\n"
     ]
    }
   ],
   "source": [
    "date_string = \"2024-07-30T01:45:55+0000\"\n",
    "date_string_1 = \"2024-07-30\"\n",
    "\n",
    "# Convert to a datetime object\n",
    "dt_object = datetime.strptime(date_string, \"%Y-%m-%dT%H:%M:%S%z\")\n",
    "dt_object_1 = datetime.strptime(date_string_1, \"%Y-%m-%d\")\n",
    "\n",
    "# Print the datetime object\n",
    "print(dt_object)\n",
    "print(dt_object_1)"
   ]
  },
  {
   "cell_type": "code",
   "execution_count": null,
   "metadata": {},
   "outputs": [
    {
     "ename": "",
     "evalue": "",
     "output_type": "error",
     "traceback": [
      "\u001b[1;31mThe Kernel crashed while executing code in the current cell or a previous cell. \n",
      "\u001b[1;31mPlease review the code in the cell(s) to identify a possible cause of the failure. \n",
      "\u001b[1;31mClick <a href='https://aka.ms/vscodeJupyterKernelCrash'>here</a> for more info. \n",
      "\u001b[1;31mView Jupyter <a href='command:jupyter.viewOutput'>log</a> for further details."
     ]
    }
   ],
   "source": []
  },
  {
   "cell_type": "code",
   "execution_count": 34,
   "metadata": {},
   "outputs": [
    {
     "name": "stdout",
     "output_type": "stream",
     "text": [
      "x1iyjqo2\n",
      "post_links  = ['https://www.instagram.com/hodinkeejapan/p/C-7c6xuyq4O/', 'https://www.instagram.com/hodinkeejapan/p/C-7ZHA2S8n9/', 'https://www.instagram.com/hodinkeejapan/p/C-5B9HtysaY/', 'https://www.instagram.com/hodinkeejapan/p/C-1rzLdR80X/', 'https://www.instagram.com/hodinkeejapan/p/C-zrz8_Sv5X/', 'https://www.instagram.com/hodinkeejapan/p/C-zXsY5Rg9C/', 'https://www.instagram.com/hodinkeejapan/p/C-xKJCUSA08/', 'https://www.instagram.com/hodinkeejapan/p/C-vBsnVyxFy/', 'https://www.instagram.com/hodinkeejapan/p/C-up18zyPap/', 'https://www.instagram.com/hodinkeejapan/p/C-rQ-ThyDqF/', 'https://www.instagram.com/hodinkeejapan/p/C-rQI1_yhC8/', 'https://www.instagram.com/hodinkeejapan/reel/C-pgcW-SfQT/']\n",
      "href == https://www.instagram.com/hodinkeejapan/p/C-7c6xuyq4O/\n",
      "2024-08-21T10:39:47.000Z\n",
      "4\n"
     ]
    },
    {
     "ename": "NoSuchElementException",
     "evalue": "Message: no such element: Unable to locate element: {\"method\":\"xpath\",\"selector\":\"//section//section//div[@role='button' and text()='インサイトを見る']\"}\n  (Session info: chrome=127.0.6533.120); For documentation on this error, please visit: https://www.selenium.dev/documentation/webdriver/troubleshooting/errors#no-such-element-exception\nStacktrace:\n\tGetHandleVerifier [0x00007FF6E7929642+30946]\n\t(No symbol) [0x00007FF6E78DE3D9]\n\t(No symbol) [0x00007FF6E77D6FDA]\n\t(No symbol) [0x00007FF6E782822C]\n\t(No symbol) [0x00007FF6E782850C]\n\t(No symbol) [0x00007FF6E786DCB7]\n\t(No symbol) [0x00007FF6E784CAAF]\n\t(No symbol) [0x00007FF6E786B041]\n\t(No symbol) [0x00007FF6E784C813]\n\t(No symbol) [0x00007FF6E781A6E5]\n\t(No symbol) [0x00007FF6E781B021]\n\tGetHandleVerifier [0x00007FF6E7A5F84D+1301229]\n\tGetHandleVerifier [0x00007FF6E7A6BDC7+1351783]\n\tGetHandleVerifier [0x00007FF6E7A62A13+1313971]\n\tGetHandleVerifier [0x00007FF6E795DD16+245686]\n\t(No symbol) [0x00007FF6E78E759F]\n\t(No symbol) [0x00007FF6E78E3814]\n\t(No symbol) [0x00007FF6E78E39A2]\n\t(No symbol) [0x00007FF6E78DA3FF]\n\tBaseThreadInitThunk [0x00007FFC8DA5257D+29]\n\tRtlUserThreadStart [0x00007FFC8F8EAF28+40]\n",
     "output_type": "error",
     "traceback": [
      "\u001b[1;31m---------------------------------------------------------------------------\u001b[0m",
      "\u001b[1;31mNoSuchElementException\u001b[0m                    Traceback (most recent call last)",
      "Cell \u001b[1;32mIn[34], line 54\u001b[0m\n\u001b[0;32m     52\u001b[0m         \u001b[38;5;28;01mbreak\u001b[39;00m\n\u001b[0;32m     53\u001b[0m     \u001b[38;5;28mprint\u001b[39m(\u001b[38;5;124mf\u001b[39m\u001b[38;5;124m\"\u001b[39m\u001b[38;5;124mhref == \u001b[39m\u001b[38;5;132;01m{\u001b[39;00mlink\u001b[38;5;132;01m}\u001b[39;00m\u001b[38;5;124m\"\u001b[39m)\n\u001b[1;32m---> 54\u001b[0m     \u001b[43mopen_post_href\u001b[49m\u001b[43m(\u001b[49m\u001b[43mlink\u001b[49m\u001b[43m)\u001b[49m\n\u001b[0;32m     55\u001b[0m     test \u001b[38;5;241m=\u001b[39m test \u001b[38;5;241m+\u001b[39m \u001b[38;5;241m1\u001b[39m\n\u001b[0;32m     56\u001b[0m     \u001b[38;5;66;03m# time.sleep(6)\u001b[39;00m\n\u001b[0;32m     57\u001b[0m \n\u001b[0;32m     58\u001b[0m \u001b[38;5;66;03m# time.sleep(5) # Let the user actually see something!\u001b[39;00m\n\u001b[0;32m     59\u001b[0m \n\u001b[0;32m     60\u001b[0m \u001b[38;5;66;03m# driver.quit()\u001b[39;00m\n",
      "Cell \u001b[1;32mIn[34], line 25\u001b[0m, in \u001b[0;36mopen_post_href\u001b[1;34m(link)\u001b[0m\n\u001b[0;32m     23\u001b[0m \u001b[38;5;28mprint\u001b[39m(\u001b[38;5;28mlen\u001b[39m(sections))\n\u001b[0;32m     24\u001b[0m \u001b[38;5;66;03m#\u001b[39;00m\n\u001b[1;32m---> 25\u001b[0m insight_div \u001b[38;5;241m=\u001b[39m \u001b[43mdriver\u001b[49m\u001b[38;5;241;43m.\u001b[39;49m\u001b[43mfind_element\u001b[49m\u001b[43m(\u001b[49m\u001b[43mBy\u001b[49m\u001b[38;5;241;43m.\u001b[39;49m\u001b[43mXPATH\u001b[49m\u001b[43m,\u001b[49m\u001b[43m \u001b[49m\u001b[38;5;124;43m\"\u001b[39;49m\u001b[38;5;124;43m//section//section//div[@role=\u001b[39;49m\u001b[38;5;124;43m'\u001b[39;49m\u001b[38;5;124;43mbutton\u001b[39;49m\u001b[38;5;124;43m'\u001b[39;49m\u001b[38;5;124;43m and text()=\u001b[39;49m\u001b[38;5;124;43m'\u001b[39;49m\u001b[38;5;124;43mインサイトを見る\u001b[39;49m\u001b[38;5;124;43m'\u001b[39;49m\u001b[38;5;124;43m]\u001b[39;49m\u001b[38;5;124;43m\"\u001b[39;49m\u001b[43m)\u001b[49m\n\u001b[0;32m     26\u001b[0m \u001b[38;5;28mprint\u001b[39m(\u001b[38;5;124mf\u001b[39m\u001b[38;5;124m'\u001b[39m\u001b[38;5;124minsight div == \u001b[39m\u001b[38;5;132;01m{\u001b[39;00minsight_div\u001b[38;5;132;01m}\u001b[39;00m\u001b[38;5;124m'\u001b[39m)\n\u001b[0;32m     27\u001b[0m \u001b[38;5;66;03m#\u001b[39;00m\n",
      "File \u001b[1;32mc:\\Users\\G6330\\AppData\\Local\\miniconda3\\envs\\selenium\\Lib\\site-packages\\selenium\\webdriver\\remote\\webdriver.py:748\u001b[0m, in \u001b[0;36mWebDriver.find_element\u001b[1;34m(self, by, value)\u001b[0m\n\u001b[0;32m    745\u001b[0m     by \u001b[38;5;241m=\u001b[39m By\u001b[38;5;241m.\u001b[39mCSS_SELECTOR\n\u001b[0;32m    746\u001b[0m     value \u001b[38;5;241m=\u001b[39m \u001b[38;5;124mf\u001b[39m\u001b[38;5;124m'\u001b[39m\u001b[38;5;124m[name=\u001b[39m\u001b[38;5;124m\"\u001b[39m\u001b[38;5;132;01m{\u001b[39;00mvalue\u001b[38;5;132;01m}\u001b[39;00m\u001b[38;5;124m\"\u001b[39m\u001b[38;5;124m]\u001b[39m\u001b[38;5;124m'\u001b[39m\n\u001b[1;32m--> 748\u001b[0m \u001b[38;5;28;01mreturn\u001b[39;00m \u001b[38;5;28;43mself\u001b[39;49m\u001b[38;5;241;43m.\u001b[39;49m\u001b[43mexecute\u001b[49m\u001b[43m(\u001b[49m\u001b[43mCommand\u001b[49m\u001b[38;5;241;43m.\u001b[39;49m\u001b[43mFIND_ELEMENT\u001b[49m\u001b[43m,\u001b[49m\u001b[43m \u001b[49m\u001b[43m{\u001b[49m\u001b[38;5;124;43m\"\u001b[39;49m\u001b[38;5;124;43musing\u001b[39;49m\u001b[38;5;124;43m\"\u001b[39;49m\u001b[43m:\u001b[49m\u001b[43m \u001b[49m\u001b[43mby\u001b[49m\u001b[43m,\u001b[49m\u001b[43m \u001b[49m\u001b[38;5;124;43m\"\u001b[39;49m\u001b[38;5;124;43mvalue\u001b[39;49m\u001b[38;5;124;43m\"\u001b[39;49m\u001b[43m:\u001b[49m\u001b[43m \u001b[49m\u001b[43mvalue\u001b[49m\u001b[43m}\u001b[49m\u001b[43m)\u001b[49m[\u001b[38;5;124m\"\u001b[39m\u001b[38;5;124mvalue\u001b[39m\u001b[38;5;124m\"\u001b[39m]\n",
      "File \u001b[1;32mc:\\Users\\G6330\\AppData\\Local\\miniconda3\\envs\\selenium\\Lib\\site-packages\\selenium\\webdriver\\remote\\webdriver.py:354\u001b[0m, in \u001b[0;36mWebDriver.execute\u001b[1;34m(self, driver_command, params)\u001b[0m\n\u001b[0;32m    352\u001b[0m response \u001b[38;5;241m=\u001b[39m \u001b[38;5;28mself\u001b[39m\u001b[38;5;241m.\u001b[39mcommand_executor\u001b[38;5;241m.\u001b[39mexecute(driver_command, params)\n\u001b[0;32m    353\u001b[0m \u001b[38;5;28;01mif\u001b[39;00m response:\n\u001b[1;32m--> 354\u001b[0m     \u001b[38;5;28;43mself\u001b[39;49m\u001b[38;5;241;43m.\u001b[39;49m\u001b[43merror_handler\u001b[49m\u001b[38;5;241;43m.\u001b[39;49m\u001b[43mcheck_response\u001b[49m\u001b[43m(\u001b[49m\u001b[43mresponse\u001b[49m\u001b[43m)\u001b[49m\n\u001b[0;32m    355\u001b[0m     response[\u001b[38;5;124m\"\u001b[39m\u001b[38;5;124mvalue\u001b[39m\u001b[38;5;124m\"\u001b[39m] \u001b[38;5;241m=\u001b[39m \u001b[38;5;28mself\u001b[39m\u001b[38;5;241m.\u001b[39m_unwrap_value(response\u001b[38;5;241m.\u001b[39mget(\u001b[38;5;124m\"\u001b[39m\u001b[38;5;124mvalue\u001b[39m\u001b[38;5;124m\"\u001b[39m, \u001b[38;5;28;01mNone\u001b[39;00m))\n\u001b[0;32m    356\u001b[0m     \u001b[38;5;28;01mreturn\u001b[39;00m response\n",
      "File \u001b[1;32mc:\\Users\\G6330\\AppData\\Local\\miniconda3\\envs\\selenium\\Lib\\site-packages\\selenium\\webdriver\\remote\\errorhandler.py:229\u001b[0m, in \u001b[0;36mErrorHandler.check_response\u001b[1;34m(self, response)\u001b[0m\n\u001b[0;32m    227\u001b[0m         alert_text \u001b[38;5;241m=\u001b[39m value[\u001b[38;5;124m\"\u001b[39m\u001b[38;5;124malert\u001b[39m\u001b[38;5;124m\"\u001b[39m]\u001b[38;5;241m.\u001b[39mget(\u001b[38;5;124m\"\u001b[39m\u001b[38;5;124mtext\u001b[39m\u001b[38;5;124m\"\u001b[39m)\n\u001b[0;32m    228\u001b[0m     \u001b[38;5;28;01mraise\u001b[39;00m exception_class(message, screen, stacktrace, alert_text)  \u001b[38;5;66;03m# type: ignore[call-arg]  # mypy is not smart enough here\u001b[39;00m\n\u001b[1;32m--> 229\u001b[0m \u001b[38;5;28;01mraise\u001b[39;00m exception_class(message, screen, stacktrace)\n",
      "\u001b[1;31mNoSuchElementException\u001b[0m: Message: no such element: Unable to locate element: {\"method\":\"xpath\",\"selector\":\"//section//section//div[@role='button' and text()='インサイトを見る']\"}\n  (Session info: chrome=127.0.6533.120); For documentation on this error, please visit: https://www.selenium.dev/documentation/webdriver/troubleshooting/errors#no-such-element-exception\nStacktrace:\n\tGetHandleVerifier [0x00007FF6E7929642+30946]\n\t(No symbol) [0x00007FF6E78DE3D9]\n\t(No symbol) [0x00007FF6E77D6FDA]\n\t(No symbol) [0x00007FF6E782822C]\n\t(No symbol) [0x00007FF6E782850C]\n\t(No symbol) [0x00007FF6E786DCB7]\n\t(No symbol) [0x00007FF6E784CAAF]\n\t(No symbol) [0x00007FF6E786B041]\n\t(No symbol) [0x00007FF6E784C813]\n\t(No symbol) [0x00007FF6E781A6E5]\n\t(No symbol) [0x00007FF6E781B021]\n\tGetHandleVerifier [0x00007FF6E7A5F84D+1301229]\n\tGetHandleVerifier [0x00007FF6E7A6BDC7+1351783]\n\tGetHandleVerifier [0x00007FF6E7A62A13+1313971]\n\tGetHandleVerifier [0x00007FF6E795DD16+245686]\n\t(No symbol) [0x00007FF6E78E759F]\n\t(No symbol) [0x00007FF6E78E3814]\n\t(No symbol) [0x00007FF6E78E39A2]\n\t(No symbol) [0x00007FF6E78DA3FF]\n\tBaseThreadInitThunk [0x00007FFC8DA5257D+29]\n\tRtlUserThreadStart [0x00007FFC8F8EAF28+40]\n"
     ]
    }
   ],
   "source": [
    "# Optional argument, if not specified will search path.\n",
    "driver = webdriver.Chrome()\n",
    "driver.get(\"https://www.instagram.com/hodinkeejapan/\")\n",
    "\n",
    "# request facebook api to get post count\n",
    "post_links = []\n",
    "\n",
    "article_element = WebDriverWait(driver, 5).until(\n",
    "    EC.presence_of_element_located((By.TAG_NAME, \"article\"))\n",
    ")\n",
    "\n",
    "\n",
    "def open_post_href(link):\n",
    "    driver.execute_script(\"window.open('');\")\n",
    "    driver.switch_to.window(driver.window_handles[-1])\n",
    "    driver.get(link)\n",
    "    time_tag = WebDriverWait(driver, 5).until(\n",
    "        EC.presence_of_element_located((By.TAG_NAME, \"time\"))\n",
    "    )\n",
    "    date_time = time_tag.get_attribute(\"datetime\")\n",
    "    print(date_time)\n",
    "    sections = driver.find_elements(By.TAG_NAME,\"section\")\n",
    "    print(len(sections))\n",
    "    #\n",
    "    # insight_div = driver.find_element(By.XPATH, \"//section//section//div[@role='button' and text()='インサイトを見る']\")\n",
    "    # print(f'insight div == {insight_div}')\n",
    "    #\n",
    "    for section in sections:\n",
    "        childDiv = section.find_element(By.XPATH,\"//div[@role='button' and text()='インサイトを見る']\")\n",
    "        print(f'sction - childDiv text:  {childDiv.get_attribute('text')}')\n",
    "    driver.close()\n",
    "    driver.switch_to.window(driver.window_handles[0])\n",
    "\n",
    "\n",
    "print(article_element.get_property(\"className\"))\n",
    "div_row_elements = article_element.find_elements(By.XPATH, \"./div/div/div\")\n",
    "# print(f\"Number of Rows of <div> elements found: {len(div_row_elements)}\")\n",
    "for div_row in div_row_elements:\n",
    "    divs = div_row.find_elements(By.XPATH, \"./div\")\n",
    "    # print(f\"Number of <div> elements in each row: {len(divs)}\")\n",
    "    for div in divs:\n",
    "        a_tag = div.find_element(By.TAG_NAME, \"a\")\n",
    "        href = a_tag.get_attribute(\"href\")\n",
    "        post_links.append(href)\n",
    "print(f'post_links  = {post_links}')        \n",
    "        \n",
    "test = 0      \n",
    "# for div in div_elements:\n",
    "for link in post_links:\n",
    "    if test > 2:\n",
    "        break\n",
    "    print(f\"href == {link}\")\n",
    "    open_post_href(link)\n",
    "    test = test + 1\n",
    "    # time.sleep(6)\n",
    "\n",
    "# time.sleep(5) # Let the user actually see something!\n",
    "\n",
    "# driver.quit()"
   ]
  }
 ],
 "metadata": {
  "kernelspec": {
   "display_name": "selenium",
   "language": "python",
   "name": "python3"
  },
  "language_info": {
   "codemirror_mode": {
    "name": "ipython",
    "version": 3
   },
   "file_extension": ".py",
   "mimetype": "text/x-python",
   "name": "python",
   "nbconvert_exporter": "python",
   "pygments_lexer": "ipython3",
   "version": "3.12.4"
  }
 },
 "nbformat": 4,
 "nbformat_minor": 2
}
