{
 "cells": [
  {
   "cell_type": "code",
   "execution_count": 2,
   "metadata": {},
   "outputs": [],
   "source": [
    "import time\n",
    "import requests\n",
    "\n",
    "from selenium import webdriver\n",
    "from selenium.webdriver.common.by import By\n",
    "from selenium.webdriver.support.ui import WebDriverWait\n",
    "from selenium.webdriver.support import expected_conditions as EC\n",
    "from selenium.webdriver.chrome.options import Options\n",
    "from selenium.webdriver.chrome.service import Service\n",
    "from selenium.common.exceptions import TimeoutException\n",
    "from datetime import datetime\n",
    "import pytz\n"
   ]
  },
  {
   "cell_type": "code",
   "execution_count": 169,
   "metadata": {},
   "outputs": [
    {
     "name": "stdout",
     "output_type": "stream",
     "text": [
      "Hodinkee Japan: ホディンキー / 時計メディア(@hodinkeejapan) • Instagram写真と動画\n"
     ]
    }
   ],
   "source": [
    "chrome_options = Options()\n",
    "chrome_options.add_experimental_option(\"debuggerAddress\", \"localhost:9222\")\n",
    "\n",
    "# Specify the path to the chromedriver executable\n",
    "chrome_driver_path = \"C:/Users/ddadmin/Desktop/tools/chromedriver-win64/chromedriver.exe\"  # chromedriver path\n",
    "\n",
    "# Set up the WebDriver with Chrome options\n",
    "service = Service(chrome_driver_path)\n",
    "driver = webdriver.Chrome(service=service, options=chrome_options)\n",
    "\n",
    "# Now you can access the already opened Chrome session\n",
    "print(driver.title)  # Print the title of the currently opened page"
   ]
  },
  {
   "cell_type": "code",
   "execution_count": 170,
   "metadata": {},
   "outputs": [
    {
     "name": "stdout",
     "output_type": "stream",
     "text": [
      "Found Instagram session\n",
      "Instagram URL: https://www.instagram.com/hodinkeejapan/\n",
      "Page title: Hodinkee Japan: ホディンキー / 時計メディア(@hodinkeejapan) • Instagram写真と動画\n"
     ]
    }
   ],
   "source": [
    "window_handles = driver.window_handles\n",
    "for handle in window_handles:\n",
    "    # Switch to the tab\n",
    "    driver.switch_to.window(handle)\n",
    "    \n",
    "    # Check if the current tab is Instagram by inspecting the URL or title\n",
    "    if \"instagram.com\" in driver.current_url:\n",
    "        print(\"Found Instagram session\")\n",
    "        print(f\"Instagram URL: {driver.current_url}\")\n",
    "        break\n",
    "    else:\n",
    "        print(f\"Other tab URL: {driver.current_url}\")\n",
    "\n",
    "# Now you can interact with the Instagram session\n",
    "# Example: Print the page title\n",
    "print(\"Page title:\", driver.title)"
   ]
  },
  {
   "cell_type": "markdown",
   "metadata": {},
   "source": []
  },
  {
   "cell_type": "code",
   "execution_count": 171,
   "metadata": {},
   "outputs": [
    {
     "name": "stdout",
     "output_type": "stream",
     "text": [
      "<selenium.webdriver.remote.webelement.WebElement (session=\"08b6d36ef2f998a58286d6c081030449\", element=\"f.E9B9EEF6F7ED992CEC48A161464A49BF.d.EED170165D8A51EDE026304405762BAA.e.99573\")>\n"
     ]
    }
   ],
   "source": [
    "# mainDiv = driver.find_element(By.XPATH,\"//main[@role='main']\")\n",
    "# print(mainDiv)"
   ]
  },
  {
   "cell_type": "code",
   "execution_count": 172,
   "metadata": {},
   "outputs": [
    {
     "name": "stdout",
     "output_type": "stream",
     "text": [
      "1\n",
      "4\n",
      "['https://www.instagram.com/p/DALSUyhveyl/', 'https://www.instagram.com/p/DAM0D6FyQZV/', 'https://www.instagram.com/p/DAIc5-eSp0G/', 'https://www.instagram.com/p/DAGS1XByGCx/', 'https://www.instagram.com/p/DAFxUQZSDTo/', 'https://www.instagram.com/p/DADl7hSyiyj/', 'https://www.instagram.com/p/DAAwn49RmYw/', 'https://www.instagram.com/p/C_-Xsl9ykQZ/', 'https://www.instagram.com/p/C_7GW1jSqg2/', 'https://www.instagram.com/p/C_5WQTCyDWl/', 'https://www.instagram.com/p/C_4HPztTfEM/', 'https://www.instagram.com/reel/C_21B9cSORC/']\n",
      "12\n"
     ]
    }
   ],
   "source": [
    "# post_links = []\n",
    "# mainChildContainer = mainDiv.find_elements(By.XPATH,\"./div\") \n",
    "# print(len(mainChildContainer))\n",
    "# postContainer = mainChildContainer[0].find_elements(By.XPATH,\"./div\")[-1]\n",
    "# postStyleDiv = postContainer.find_elements(By.XPATH,\"./div\")[0]\n",
    "# postRowContainer = postStyleDiv.find_elements(By.XPATH,\"./div\") \n",
    "# print(len(postRowContainer))\n",
    "\n",
    "# for div_row in postRowContainer:\n",
    "#     divs = div_row.find_elements(By.XPATH, \"div\")\n",
    "#     # print(f\"Number of <div> elements in each row: {len(divs)}\")\n",
    "#     for div in divs:\n",
    "#         a_tags = div.find_elements(By.TAG_NAME, \"a\")\n",
    "#         if len(a_tags) > 0:\n",
    "#             a_tag = a_tags[0]\n",
    "#             href = a_tag.get_attribute(\"href\")\n",
    "#             post_links.append(href)\n",
    "# print(post_links)\n",
    "# print(len(post_links))\n"
   ]
  },
  {
   "cell_type": "code",
   "execution_count": null,
   "metadata": {},
   "outputs": [],
   "source": [
    "def get_dom_posts():\n",
    "    post_links = []\n",
    "    mainDiv = driver.find_element(By.XPATH,\"//main[@role='main']\")\n",
    "    mainChildContainer = mainDiv.find_elements(By.XPATH,\"./div\") \n",
    "    print(len(mainChildContainer))\n",
    "    postContainer = mainChildContainer[0].find_elements(By.XPATH,\"./div\")[-1]\n",
    "    postStyleDiv = postContainer.find_elements(By.XPATH,\"./div\")[0]\n",
    "    postRowContainer = postStyleDiv.find_elements(By.XPATH,\"./div\") \n",
    "    print(len(postRowContainer))\n",
    "\n",
    "    for div_row in postRowContainer:\n",
    "        divs = div_row.find_elements(By.XPATH, \"div\")\n",
    "        # print(f\"Number of <div> elements in each row: {len(divs)}\")\n",
    "        for div in divs:\n",
    "            a_tags = div.find_elements(By.TAG_NAME, \"a\")\n",
    "            if len(a_tags) > 0:\n",
    "                a_tag = a_tags[0]\n",
    "                href = a_tag.get_attribute(\"href\")\n",
    "                post_links.append(href)\n",
    "    print(post_links)\n",
    "    print(len(post_links))\n",
    "    return post_links"
   ]
  },
  {
   "cell_type": "code",
   "execution_count": null,
   "metadata": {},
   "outputs": [],
   "source": [
    "post_info = {}\n",
    "post_links = get_dom_posts()\n"
   ]
  },
  {
   "cell_type": "code",
   "execution_count": 173,
   "metadata": {},
   "outputs": [],
   "source": [
    "def parseNumber(strNumber):\n",
    "    if '万' in strNumber:\n",
    "        str_num = strNumber[0:-1]\n",
    "        value = float(str_num)*10000\n",
    "        return str(value)\n",
    "    return strNumber"
   ]
  },
  {
   "cell_type": "code",
   "execution_count": 174,
   "metadata": {},
   "outputs": [],
   "source": [
    "def parse_view(div_view_container,count_sperator):\n",
    "    json_view = {}\n",
    "\n",
    "    view_total = div_view_container.find_element(By.XPATH,\"./div/div/div[2]/div/span\")\n",
    "    json_view['ビュー'] = parseNumber(view_total.text)\n",
    "\n",
    "    per_follower = div_view_container.find_element(By.XPATH,\"./div/div/div[3]/div[2]\")\n",
    "    json_view['フォロワー'] = per_follower.text\n",
    "\n",
    "    per_unfollower = div_view_container.find_element(By.XPATH,\"./div/div/div[3]/div[4]\")\n",
    "    json_view['フォロワー以外'] = per_unfollower.text\n",
    "\n",
    "    if count_sperator == 7:\n",
    "        view_source_div = div_view_container.find_element(By.XPATH,\"./div/div/div[5]\")\n",
    "        view_source_contents = view_source_div.find_elements(By.XPATH,\"./div\")\n",
    "        for content in view_source_contents:\n",
    "            key_div = content.find_element(By.XPATH,\"./div/div[1]/span\")\n",
    "            value_div = content.find_element(By.XPATH,\"./div/div[2]/span\")\n",
    "            json_view[key_div.text] = value_div.text\n",
    "\n",
    "    reach_count_div = div_view_container.find_element(By.XPATH,f\"./div/div/div[{count_sperator}]\")\n",
    "    reach_key = reach_count_div.find_element(By.XPATH,\"./span\")\n",
    "    reach_value = reach_count_div.find_element(By.XPATH,\"./div/span\")\n",
    "    json_view[reach_key.text] = reach_value.text\n",
    "    return json_view"
   ]
  },
  {
   "cell_type": "code",
   "execution_count": 175,
   "metadata": {},
   "outputs": [],
   "source": [
    "def parse_interaction(div_interaction_container):\n",
    "    json_interaction = {}\n",
    "    div_children = div_interaction_container.find_elements(By.XPATH,'./div/div')\n",
    "    interaction_container = div_children[1]\n",
    "    post_interaction_container = div_children[3]\n",
    "    action_account_container = div_children[5]\n",
    "\n",
    "    # interaction\n",
    "    interaction_key = interaction_container.find_element(By.XPATH,'./div/div[1]/span')\n",
    "    interaction_value = interaction_container.find_element(By.XPATH,'./div/div[1]/div/span')\n",
    "    json_interaction[interaction_key.text] = interaction_value.text\n",
    "    # print(f'interaction key = {interaction_key.text}  interaction value = {interaction_value.text}')\n",
    "    \n",
    "    follower_key = interaction_container.find_element(By.XPATH,'./div/div[2]/div[1]/span')\n",
    "    follower_value = interaction_container.find_element(By.XPATH,'./div/div[2]/div[2]')\n",
    "    json_interaction[follower_key.text] = follower_value.text\n",
    "    # print(f'follower key = {follower_key.text}  follower value = {follower_value.text}')\n",
    "    \n",
    "    unfollower_key = interaction_container.find_element(By.XPATH,'./div/div[2]/div[3]/span')\n",
    "    unfollower_value = interaction_container.find_element(By.XPATH,'./div/div[2]/div[4]')\n",
    "    json_interaction[unfollower_key.text] = unfollower_value.text\n",
    "    # print(f'unfollower key = {unfollower_key.text}  unfollower value = {unfollower_value.text}')\n",
    "\n",
    "    # post interaction\n",
    "    post_children = post_interaction_container.find_elements(By.XPATH,'./div/div')\n",
    "    post_interaction_div = post_children[0]\n",
    "    post_interaction_key = post_interaction_div.find_element(By.XPATH,'./span')\n",
    "    post_interaction_value = post_interaction_div.find_element(By.XPATH,'./div/span')\n",
    "    json_interaction[post_interaction_key.text] = post_interaction_value.text\n",
    "    # post_interaction_key = post_interaction_container.find_element(By.XPATH,'./div/div[1]/span')\n",
    "    # post_interaction_value = post_interaction_container.find_element(By.XPATH,'./div/div[1]/div/span')\n",
    "    # print(f'post_interaction key = {post_interaction_key.text}  post_interaction value = {post_interaction_value.text}')\n",
    "    for element in post_children[1:]:\n",
    "        key_div = element.find_element(By.XPATH,'./div/div[1]/span')\n",
    "        value_div = element.find_element(By.XPATH,'./div/div[2]/span')\n",
    "        json_interaction[key_div.text] = value_div.text\n",
    "        # print(f'element key = {key_div.text}   element value = {value_div.text}')\n",
    "    \n",
    "    # action account\n",
    "    action_account_key = action_account_container.find_element(By.XPATH,'./span')\n",
    "    action_account_value = action_account_container.find_element(By.XPATH,'./div/span')\n",
    "    # print(f'action account  key = {action_account_key.text}   value = {action_account_value.text}')\n",
    "    json_interaction[action_account_key.text] = action_account_value.text\n",
    "\n",
    "    return json_interaction\n",
    "    "
   ]
  },
  {
   "cell_type": "code",
   "execution_count": 176,
   "metadata": {},
   "outputs": [],
   "source": [
    "def parse_profile(div_profile_container):\n",
    "    json_profile = {}\n",
    "    profile_container = div_profile_container.find_element(By.XPATH,'./div/div[2]/div')\n",
    "    children_elements = profile_container.find_elements(By.XPATH,'./div')\n",
    "    profile_activity = children_elements[0]\n",
    "    profile_activity_key = profile_activity.find_element(By.XPATH,'./span')\n",
    "    profile_activity_value = profile_activity.find_element(By.XPATH,'./div/span')\n",
    "    json_profile[profile_activity_key.text] = profile_activity_value.text\n",
    "    for element in children_elements[1:]:\n",
    "        key_div = element.find_element(By.XPATH,'./div[1]/span')\n",
    "        value_div = element.find_element(By.XPATH,'./div[2]/span')\n",
    "        json_profile[key_div.text] = value_div.text\n",
    "    return json_profile"
   ]
  },
  {
   "cell_type": "code",
   "execution_count": 177,
   "metadata": {},
   "outputs": [],
   "source": [
    "async def open_post_href(link):\n",
    "    json_output = []\n",
    "    home_window = driver.current_window_handle\n",
    "    driver.switch_to.new_window('tab')\n",
    "    driver.get(link)\n",
    "    #\n",
    "    time_tag = WebDriverWait(driver, 5).until(\n",
    "        EC.presence_of_element_located((By.TAG_NAME, \"time\"))\n",
    "    )\n",
    "    date_time = time_tag.get_attribute(\"datetime\")\n",
    "    print(date_time)\n",
    "\n",
    "    try:\n",
    "        insight_button = WebDriverWait(driver,5).until(EC.element_to_be_clickable((By.XPATH,\"//div[@role='button' and text()='インサイトを見る']\")))\n",
    "        print(insight_button.text)\n",
    "        print(insight_button.is_enabled())\n",
    "        driver.execute_script(\"arguments[0].click();\",insight_button)\n",
    "        WebDriverWait(driver, 10).until(EC.url_contains('insights'))\n",
    "                \n",
    "        # find seperators\n",
    "        hr_separators = WebDriverWait(driver, 5).until(\n",
    "            EC.presence_of_all_elements_located((By.XPATH,\"//hr\"))\n",
    "        )\n",
    "        count_sperator = len(hr_separators)\n",
    "        if count_sperator == 7:\n",
    "            main_separators = [hr_separators[2],hr_separators[5],hr_separators[6]]\n",
    "        else:\n",
    "            main_separators = [hr_separators[1],hr_separators[4],hr_separators[5]]\n",
    "        div_separators = [hr.find_element(By.XPATH,\"..\") for hr in main_separators]\n",
    "        div_info_root = div_separators[0].find_element(By.XPATH,\"..\")\n",
    "        div_info_children = div_info_root.find_elements(By.XPATH,\"./div\")\n",
    "        div_view_container = div_info_children[0]\n",
    "        div_interaction_container = div_info_children[2]\n",
    "        div_profile_container = div_info_children[4]\n",
    "\n",
    "\n",
    "        json_output.append(parse_view(div_view_container,count_sperator))  \n",
    "        json_output.append(parse_interaction(div_interaction_container)) \n",
    "        json_output.append(parse_profile(div_profile_container)) \n",
    "        \n",
    "        print(json_output)\n",
    "        driver.close()\n",
    "        driver.switch_to.window(home_window)\n",
    "        return json_output\n",
    "    except TimeoutException:\n",
    "        driver.close()\n",
    "        driver.switch_to.window(home_window)\n",
    "        return None\n",
    "    "
   ]
  },
  {
   "cell_type": "code",
   "execution_count": 178,
   "metadata": {},
   "outputs": [
    {
     "name": "stdout",
     "output_type": "stream",
     "text": [
      "href == https://www.instagram.com/p/DALSUyhveyl/\n",
      "url -- https://www.instagram.com/p/DALSUyhveyl/\n",
      "2024-09-21T10:46:29.000Z\n",
      "インサイトを見る\n",
      "True\n",
      "insight url -- https://www.instagram.com/insights/media/3461941332044278949/\n",
      "ビュー = 11000.0\n",
      "per_follower total フォロワー = 81%\n",
      "per_unfollower total フォロワー以外 = 19%\n",
      "profile length - 3\n",
      "profile_activity key = プロフィールのアクティビティ   profile_activity value = 45\n",
      "element key = プロフィールへのアクセス   element value = 44\n",
      "element key = フォロー数   element value = 1\n",
      "[{'ビュー': '11000.0', 'フォロワー': '81%', 'フォロワー以外': '19%', 'ホーム': '7026', '発見から': '1806', 'その他': '121', 'リーチしたアカウント数': '6783'}, {'インタラクション': '376', 'フォロワー': '67.7%', 'フォロワー以外': '32.3%', '投稿でのインタラクション': '0', '「いいね！」': '339', '保存数': '32', 'コメント': '2', 'シェア数': '0', 'アクションを実行したアカウント': '349'}, {'プロフィールのアクティビティ': '45', 'プロフィールへのアクセス': '44', 'フォロー数': '1'}]\n",
      "href == https://www.instagram.com/p/DAM0D6FyQZV/\n",
      "url -- https://www.instagram.com/p/DAM0D6FyQZV/\n",
      "2024-09-21T02:52:37.000Z\n",
      "インサイトを見る\n",
      "True\n",
      "insight url -- https://www.instagram.com/insights/media/3462371180492162645/\n",
      "ビュー = 10000.0\n",
      "per_follower total フォロワー = 95.2%\n",
      "per_unfollower total フォロワー以外 = 4.8%\n",
      "profile length - 4\n",
      "profile_activity key = プロフィールのアクティビティ   profile_activity value = 29\n",
      "element key = プロフィールへのアクセス   element value = 27\n",
      "element key = 外部リンクのタップ   element value = 1\n",
      "element key = フォロー数   element value = 1\n",
      "[{'ビュー': '10000.0', 'フォロワー': '95.2%', 'フォロワー以外': '4.8%', 'ホーム': '6977', 'その他': '164', 'ハッシュタグ': '114', 'リーチしたアカウント数': '4816'}, {'インタラクション': '212', 'フォロワー': '95.8%', 'フォロワー以外': '4.2%', '投稿でのインタラクション': '0', '「いいね！」': '192', '保存数': '16', 'コメント': '1', 'シェア数': '0', 'アクションを実行したアカウント': '202'}, {'プロフィールのアクティビティ': '29', 'プロフィールへのアクセス': '27', '外部リンクのタップ': '1', 'フォロー数': '1'}]\n",
      "href == https://www.instagram.com/p/DAIc5-eSp0G/\n",
      "url -- https://www.instagram.com/p/DAIc5-eSp0G/\n",
      "2024-09-20T08:21:13.000Z\n",
      "インサイトを見る\n",
      "True\n",
      "insight url -- https://www.instagram.com/insights/media/3461143443026910470/\n",
      "ビュー = 8292\n",
      "per_follower total フォロワー = 95.8%\n",
      "per_unfollower total フォロワー以外 = 4.2%\n",
      "profile length - 4\n",
      "profile_activity key = プロフィールのアクティビティ   profile_activity value = 27\n",
      "element key = プロフィールへのアクセス   element value = 22\n",
      "element key = 外部リンクのタップ   element value = 3\n",
      "element key = フォロー数   element value = 2\n",
      "[{'ビュー': '8292', 'フォロワー': '95.8%', 'フォロワー以外': '4.2%', 'ホーム': '6404', 'その他': '180', '発見から': '115', 'リーチしたアカウント数': '4275'}, {'インタラクション': '201', 'フォロワー': '94.1%', 'フォロワー以外': '5.9%', '投稿でのインタラクション': '0', '「いいね！」': '190', '保存数': '9', 'コメント': '0', 'シェア数': '0', 'アクションを実行したアカウント': '201'}, {'プロフィールのアクティビティ': '27', 'プロフィールへのアクセス': '22', '外部リンクのタップ': '3', 'フォロー数': '2'}]\n",
      "href == https://www.instagram.com/p/DAGS1XByGCx/\n",
      "url -- https://www.instagram.com/p/DAGS1XByGCx/\n",
      "2024-09-19T12:14:45.000Z\n"
     ]
    }
   ],
   "source": [
    "test = 0\n",
    "for link in post_links:\n",
    "    if test > 3:\n",
    "        break\n",
    "    print(f\"href == {link}\")\n",
    "    test = test + 1\n",
    "    insight_data = await open_post_href(link)"
   ]
  },
  {
   "cell_type": "markdown",
   "metadata": {},
   "source": [
    "-----------------------------------------------------------------"
   ]
  },
  {
   "cell_type": "code",
   "execution_count": 13,
   "metadata": {},
   "outputs": [],
   "source": [
    "def request_posts(page_url,start_date,post_targets):\n",
    "    response = requests.get(page_url)\n",
    "    if response.status_code == 200:\n",
    "        # Parse the JSON response\n",
    "        data = response.json()\n",
    "        posts = data['data']\n",
    "        # Print or process the data\n",
    "        # for post in posts:\n",
    "        #     print(f\"ID: {post['id']}\")\n",
    "        #     print(f\"Timestamp: {post['timestamp']}\")\n",
    "        last = posts[len(posts)-1]\n",
    "        last_timestamp_str = last['timestamp']\n",
    "        last_timestamp = datetime.strptime(last_timestamp_str, \"%Y-%m-%dT%H:%M:%S%z\")\n",
    "        print(last_timestamp)\n",
    "        print(start_date)\n",
    "        print(last_timestamp > start_date)\n",
    "        if last_timestamp >= start_date:\n",
    "            # concate\n",
    "            post_targets = post_targets + posts\n",
    "            # request next page\n",
    "            paging = data['paging']\n",
    "            next_page_url = paging['next']\n",
    "            request_posts(next_page_url,start_date,post_targets)\n",
    "        else:\n",
    "            for post in posts:\n",
    "                post_timestamp_str = post['timestamp']\n",
    "                post_timestamp = datetime.strptime(post_timestamp_str, \"%Y-%m-%dT%H:%M:%S%z\")\n",
    "                if post_timestamp > start_date:\n",
    "                   post_targets.append(post) \n",
    "            return post_targets\n",
    "    else:\n",
    "        # Print the error if the request was not successful\n",
    "        print(f\"Error: {response.status_code}\")\n",
    "        print(response.json())"
   ]
  },
  {
   "cell_type": "code",
   "execution_count": 15,
   "metadata": {},
   "outputs": [
    {
     "name": "stdout",
     "output_type": "stream",
     "text": [
      "https://graph.instagram.com/me/media?fields=id,timestamp&access_token=IGQWRNTExZAcEZAzV3FuU0g3NWJKMnhzRW9tZAkV4eUtHZA1JYZA0hWaEp6Y183MmJneHNSUEpSeklVQXBBQktzcnl5aEtPUDVSU0pwUjA2a3ZAqQnFmMjdRbGFPR3YzM0lyd3Q3ZAHo2b01CY1JhZA1lkbmxRbjVlVldfZA3cZD\n",
      "2024-07-30 01:45:55+00:00\n",
      "2024-06-01 00:00:00+00:00\n",
      "True\n",
      "2024-07-05 03:00:00+00:00\n",
      "2024-06-01 00:00:00+00:00\n",
      "True\n",
      "2024-06-14 10:11:16+00:00\n",
      "2024-06-01 00:00:00+00:00\n",
      "True\n",
      "2024-05-20 11:15:48+00:00\n",
      "2024-06-01 00:00:00+00:00\n",
      "False\n",
      "None\n"
     ]
    }
   ],
   "source": [
    "ACCESS_TOKEN = 'IGQWRNTExZAcEZAzV3FuU0g3NWJKMnhzRW9tZAkV4eUtHZA1JYZA0hWaEp6Y183MmJneHNSUEpSeklVQXBBQktzcnl5aEtPUDVSU0pwUjA2a3ZAqQnFmMjdRbGFPR3YzM0lyd3Q3ZAHo2b01CY1JhZA1lkbmxRbjVlVldfZA3cZD'\n",
    "posts_url = f'https://graph.instagram.com/me/media?fields=id,timestamp&access_token={ACCESS_TOKEN}'\n",
    "print(posts_url)\n",
    "start_date_str = '2024-06-01'\n",
    "start_date = datetime.strptime(start_date_str, \"%Y-%m-%d\")\n",
    "timezone = pytz.timezone('UTC')\n",
    "start_date = timezone.localize(start_date)\n",
    "post_targets = []\n",
    "list_target = request_posts(posts_url,start_date,post_targets)\n",
    "print(list_target)\n"
   ]
  },
  {
   "cell_type": "code",
   "execution_count": 27,
   "metadata": {},
   "outputs": [
    {
     "name": "stdout",
     "output_type": "stream",
     "text": [
      "2024-07-30 01:45:55+00:00\n",
      "2024-07-30 00:00:00\n"
     ]
    }
   ],
   "source": [
    "date_string = \"2024-07-30T01:45:55+0000\"\n",
    "date_string_1 = \"2024-07-30\"\n",
    "\n",
    "# Convert to a datetime object\n",
    "dt_object = datetime.strptime(date_string, \"%Y-%m-%dT%H:%M:%S%z\")\n",
    "dt_object_1 = datetime.strptime(date_string_1, \"%Y-%m-%d\")\n",
    "\n",
    "# Print the datetime object\n",
    "print(dt_object)\n",
    "print(dt_object_1)"
   ]
  },
  {
   "cell_type": "code",
   "execution_count": null,
   "metadata": {},
   "outputs": [],
   "source": [
    "# Optional argument, if not specified will search path.\n",
    "driver = webdriver.Chrome()\n",
    "driver.get(\"https://www.instagram.com/hodinkeejapan/\")\n",
    "\n",
    "# request facebook api to get post count\n",
    "post_links = []\n",
    "\n",
    "article_element = WebDriverWait(driver, 5).until(\n",
    "    EC.presence_of_element_located((By.TAG_NAME, \"article\"))\n",
    ")\n",
    "\n",
    "\n",
    "def open_post_href(link):\n",
    "    driver.execute_script(\"window.open('');\")\n",
    "    driver.switch_to.window(driver.window_handles[-1])\n",
    "    driver.get(link)\n",
    "    time_tag = WebDriverWait(driver, 5).until(\n",
    "        EC.presence_of_element_located((By.TAG_NAME, \"time\"))\n",
    "    )\n",
    "    date_time = time_tag.get_attribute(\"datetime\")\n",
    "    print(date_time)\n",
    "    sections = driver.find_elements(By.TAG_NAME,\"section\")\n",
    "    print(len(sections))\n",
    "    #\n",
    "    # insight_div = driver.find_element(By.XPATH, \"//section//section//div[@role='button' and text()='インサイトを見る']\")\n",
    "    # print(f'insight div == {insight_div}')\n",
    "    #\n",
    "    for section in sections:\n",
    "        childDiv = section.find_element(By.XPATH,\"//div[@role='button' and text()='インサイトを見る']\")\n",
    "        print(f'sction - childDiv text:  {childDiv.get_attribute('text')}')\n",
    "    driver.close()\n",
    "    driver.switch_to.window(driver.window_handles[0])\n",
    "\n",
    "\n",
    "print(article_element.get_property(\"className\"))\n",
    "div_row_elements = article_element.find_elements(By.XPATH, \"./div/div/div\")\n",
    "# print(f\"Number of Rows of <div> elements found: {len(div_row_elements)}\")\n",
    "for div_row in div_row_elements:\n",
    "    divs = div_row.find_elements(By.XPATH, \"./div\")\n",
    "    # print(f\"Number of <div> elements in each row: {len(divs)}\")\n",
    "    for div in divs:\n",
    "        a_tag = div.find_element(By.TAG_NAME, \"a\")\n",
    "        href = a_tag.get_attribute(\"href\")\n",
    "        post_links.append(href)\n",
    "print(f'post_links  = {post_links}')        \n",
    "        \n",
    "test = 0      \n",
    "# for div in div_elements:\n",
    "for link in post_links:\n",
    "    if test > 2:\n",
    "        break\n",
    "    print(f\"href == {link}\")\n",
    "    open_post_href(link)\n",
    "    test = test + 1\n",
    "    # time.sleep(6)\n",
    "\n",
    "# time.sleep(5) # Let the user actually see something!\n",
    "\n",
    "# driver.quit()"
   ]
  },
  {
   "cell_type": "code",
   "execution_count": 1,
   "metadata": {},
   "outputs": [
    {
     "data": {
      "text/plain": [
       "{'key_ori': 'value_ori',\n",
       " 'key_1': 'value_1',\n",
       " 'key_2': 'value_2',\n",
       " 'key_3': 'value_3'}"
      ]
     },
     "execution_count": 1,
     "metadata": {},
     "output_type": "execute_result"
    }
   ],
   "source": [
    "obj = {'key_ori':'value_ori'}\n",
    "obj_target = {'key_1':'value_1','key_2':'value_2','key_3':'value_3'}\n",
    "obj.update(obj_target)\n",
    "obj"
   ]
  },
  {
   "cell_type": "code",
   "execution_count": 3,
   "metadata": {},
   "outputs": [
    {
     "name": "stdout",
     "output_type": "stream",
     "text": [
      "True\n"
     ]
    }
   ],
   "source": [
    "print('key_1' in obj_target.keys())"
   ]
  },
  {
   "cell_type": "code",
   "execution_count": null,
   "metadata": {},
   "outputs": [],
   "source": [
    "urls_1 = ['https://www.instagram.com/p/DAVmWMzSpAA/', 'https://www.instagram.com/p/DAVZYNYSHjH/', 'https://www.instagram.com/p/DASX6WFy5Ld/', 'https://www.instagram.com/p/DAQZoUDBe_u/', 'https://www.instagram.com/p/DAQNZ9rS4vv/', 'https://www.instagram.com/p/DANX_LfRGW4/', 'https://www.instagram.com/p/DALSUyhveyl/', 'https://www.instagram.com/p/DAM0D6FyQZV/', 'https://www.instagram.com/p/DAIc5-eSp0G/', 'https://www.instagram.com/p/DAGS1XByGCx/', 'https://www.instagram.com/p/DAFxUQZSDTo/', 'https://www.instagram.com/p/DADl7hSyiyj/']\n",
    "\n",
    "urls_2 = ['https://www.instagram.com/p/DAVmWMzSpAA/', 'https://www.instagram.com/p/DAVZYNYSHjH/', 'https://www.instagram.com/p/DASX6WFy5Ld/', 'https://www.instagram.com/p/DAQZoUDBe_u/', 'https://www.instagram.com/p/DAQNZ9rS4vv/', 'https://www.instagram.com/p/DANX_LfRGW4/', 'https://www.instagram.com/p/DALSUyhveyl/', 'https://www.instagram.com/p/DAM0D6FyQZV/', 'https://www.instagram.com/p/DAIc5-eSp0G/', 'https://www.instagram.com/p/DAGS1XByGCx/', 'https://www.instagram.com/p/DAFxUQZSDTo/', 'https://www.instagram.com/p/DADl7hSyiyj/']\n",
    "\n",
    "keys = ['https://www.instagram.com/p/DAVZYNYSHjH/', 'https://www.instagram.com/p/DASX6WFy5Ld/', 'https://www.instagram.com/p/DAQNZ9rS4vv/', 'https://www.instagram.com/p/DANX_LfRGW4/', 'https://www.instagram.com/p/DALSUyhveyl/', 'https://www.instagram.com/p/DAM0D6FyQZV/', 'https://www.instagram.com/p/DAIc5-eSp0G/', 'https://www.instagram.com/p/DAFxUQZSDTo/', 'https://www.instagram.com/p/DADl7hSyiyj/']"
   ]
  },
  {
   "cell_type": "code",
   "execution_count": 29,
   "metadata": {},
   "outputs": [
    {
     "data": {
      "text/plain": [
       "dict"
      ]
     },
     "execution_count": 29,
     "metadata": {},
     "output_type": "execute_result"
    }
   ],
   "source": [
    "data = {'https://www.instagram.com/p/DAVZYNYSHjH/': {'Date': '2024-09-25 09:00:31', 'ビュー': '14000.0', 'ビューフォロワー': '94.8%', 'ビューフォロワー以外': '5.2%', 'ホーム': '1.1万', '発見から': '420', 'その他': '178', 'リーチしたアカウン ト数': '7304', 'インタラクション': '285', 'インタラクション フォロワー': '91.3%', 'インタラクション フォロワー以外': '8.7%', '投稿でのインタラクション': '0', '「いいね！」': '267', '保存数': '17', 'コメント': '1', 'シェア数': '0', 'アクションを実行したアカウント': '275', 'プロフィールのアクティビティ': '15', ' プロフィールへのアクセス': '13', 'フォロー数': '2'}, 'https://www.instagram.com/p/DASX6WFy5Ld/': {'Date': '2024-09-24 04:49:59', 'ビュー': '5611', 'ビューフォロワー': '89.6%', 'ビューフォロワー以外': '10.4%', 'ホーム': '4896', 'その他': '162', 'ハッシュタグ': '118', 'リーチしたアカウント数': '3466', 'インタラクション': '156', 'インタラクション フォロワー': '92.5%', 'インタラクション フォロワー以外': '7.5%', '投稿でのインタラクション': '0', '「いいね！」': '147', '保存数': '6', 'コメント': '0', 'シェア数': '0', 'アクションを実行したアカウン ト': '156', 'プロフィールのアクティビティ': '12', 'プロフィールへのアクセス': '11', '外部リンクのタップ': '1', 'フォロー数': '0'}, 'https://www.instagram.com/p/DAQNZ9rS4vv/': {'Date': '2024-09-23 08:39:42', 'ビュー': '7675', 'ビューフォロワー': '97.6%', 'ビューフォロワー以外': '2.4%', 'ホーム': '6334', 'プロフ ィール': '128', 'その他': '35', 'リーチしたアカウント数': '4227', 'インタラク ション': '94', 'インタラクション フォロワー': '100%', 'インタラクション フォロワー以外': '0%', '投稿でのインタラクション': '0', '「いいね！」': '91', '保存 数': '3', 'コメント': '0', 'シェア数': '0', 'アクションを実行したアカウント': '98', 'プロフィールのアクティビティ': '42', 'プロフィールへのアクセス': '32', '外部リンクのタップ': '10', 'フォロー数': '0'}, 'https://www.instagram.com/p/DANX_LfRGW4/': {'Date': '2024-09-22 06:14:27', 'ビュー': '16000.0', 'ビューフォロワー': '92.7%', 'ビューフォロワー以外': '7.3%', 'ホーム': '1万', '発見から': '752', 'その他': '316', 'リーチしたアカウント数': '7066', 'インタラクション': '341', 'インタラクション フォロワー': '85.2%', 'インタラクション フォロワー以外': '14.8%', '投稿でのインタラクション': '0', '「いいね！」': '329', '保存数': '11', 'コメント': '0', 'シェア数': '0', 'アクションを実行したアカウント': '330', 'プロフィールのアクティビティ': '39', 'プロフィールへのアクセス': '37', '外部リンクのタップ': '1', 'フォロー数': '1'}, 'https://www.instagram.com/p/DALSUyhveyl/': {'Date': '2024-09-21 10:46:29', 'ビュー': '21000.0', 'ビューフォロワー': '63%', 'ビューフォロワー以外': '37%', 'ホーム': '1万', '発見から': '6867', 'その他': '369', 'リーチしたアカウント数': '1.4万', 'インタラクション': '781', 'インタラクション フォロワー': '47.5%', 'インタラクション フォロワー以外': '52.5%', '投稿でのインタラクション': '0', '「いいね！」': '684', '保存数': '87', 'コメント': '4', 'シェア数': '0', 'アクションを実行したアカウント': '741', 'プロフィールのアクティビティ': '142', 'プロフィールへのアクセス': '127', ' 外部リンクのタップ': '2', 'フォロー数': '13'}, 'https://www.instagram.com/p/DAM0D6FyQZV/': {'Date': '2024-09-21 02:52:37', 'ビュー': '13000.0', 'ビューフォ ロワー': '91.3%', 'ビューフォロワー以外': '8.7%', 'ホーム': '9469', '発見から': '588', 'その他': '402', 'リーチしたアカウント数': '6789', 'インタラクション': '332', 'インタラクション フォロワー': '84.6%', 'インタラクション フォロワー 以外': '15.4%', '投稿でのインタラクション': '0', '「いいね！」': '294', '保存 数': '34', 'コメント': '1', 'シェア数': '0', 'アクションを実行したアカウント': '333', 'プロフィールのアクティビティ': '43', 'プロフィールへのアクセス': '39', '外部リンクのタップ': '1', 'フォロー数': '3'}, 'https://www.instagram.com/p/DAIc5-eSp0G/': {'Date': '2024-09-20 08:21:13', 'ビュー': '9885', 'ビューフォロワー': '94.1%', 'ビューフォロワー以外': '5.9%', 'ホーム': '7678', 'その他': '293', 'プロフィール': '254', 'リーチしたアカウント数': '5336', 'インタラクショ ン': '236', 'インタラクション フォロワー': '92.1%', 'インタラクション フォロワー以外': '7.9%', '投稿でのインタラクション': '0', '「いいね！」': '219', '保存数': '15', 'コメント': '0', 'シェア数': '0', 'アクションを実行したアカウント': '234', 'プロフィールのアクティビティ': '30', 'プロフィールへのアクセス': '25', '外部リンクのタップ': '3', 'フォロー数': '2'}, 'https://www.instagram.com/p/DAFxUQZSDTo/': {'Date': '2024-09-19 07:21:51', 'ビュー': '22000.0', 'ビューフ ォロワー': '62.6%', 'ビューフォロワー以外': '37.4%', 'ホーム': '1.2万', '発見 から': '6949', 'その他': '590', 'リーチしたアカウント数': '1.4万', 'インタラクション': '1168', 'インタラクション フォロワー': '52.4%', 'インタラクション フ ォロワー以外': '47.6%', '投稿でのインタラクション': '0', '「いいね！」': '1048', '保存数': '108', 'コメント': '4', 'シェア数': '0', 'アクションを実行したア カウント': '1098', 'プロフィールのアクティビティ': '95', 'プロフィールへのアクセス': '85', '外部リンクのタップ': '2', 'フォロー数': '8'}, 'https://www.instagram.com/p/DADl7hSyiyj/': {'Date': '2024-09-18 11:03:52', 'ビュー': '11000.0', 'ビューフォロワー': '86.9%', 'ビューフォロワー以外': '13.1%', 'ホーム': '8275', 'その他': '416', '発見から': '352', 'リーチしたアカウント数': '6416', 'インタラクション': '301', 'インタラクション フォロワー': '86.5%', 'インタラクショ ン フォロワー以外': '13.5%', '投稿でのインタラクション': '0', '「いいね！」': '279', '保存数': '17', 'コメント': '1', 'シェア数': '0', 'アクションを実行したアカウント': '285', 'プロフィールのアクティビティ': '22', 'プロフィールへのア クセス': '20', 'フォロー数': '2'}, 'https://www.instagram.com/p/DAAwn49RmYw/': {'Date': '2024-09-17 08:39:35', 'ビュー': '7881', 'ビューフォロワー': '94.7%', 'ビューフォロワー以外': '5.3%', 'ホーム': '6585', 'プロフィール': '270', 'その他': '223', 'リーチしたアカウント数': '6362', 'インタラクション': '119', 'インタラクション フォロワー': '92.6%', 'インタラクション フォロワー以外': '7.4%', '投稿でのインタラクション': '0', '「いいね！」': '109', '保存数': '10', 'コ メント': '0', 'シェア数': '0', 'アクションを実行したアカウント': '116', 'プロ フィールのアクティビティ': '39', 'プロフィールへのアクセス': '34', '外部リンクのタップ': '5', 'フォロー数': '0'}, 'https://www.instagram.com/p/C_-Xsl9ykQZ/': {'Date': '2024-09-16 10:23:18', 'ビュー': '13000.0', 'ビューフォロワー': '93.4%', 'ビューフォロワー以外': '6.6%', 'ホーム': '9307', 'プロフィール': '321', 'その他': '167', 'リーチしたアカウント数': '6566', 'インタラクション': '247', 'インタラクション フォロワー': '93.5%', 'インタラクション フォロワー以外': '6.5%', '投稿でのインタラクション': '0', '「いいね！」': '232', '保存数': '14', 'コメント': '0', 'シェア数': '0', 'アクションを実行したアカウント': '240', 'プロフィールのアクティビティ': '29', 'プロフィールへのアクセス': '28', '外部リンクのタップ': '1', 'フォロー数': '0'}, 'https://www.instagram.com/p/C_7GW1jSqg2/': {'Date': '2024-09-15 03:54:04', 'ビュー': '14000.0', 'ビューフォロワー': '75.5%', 'ビューフォロワー以外': '24.5%', 'ホーム': '8869', '発見から': '1159', 'その他': '461', 'リーチしたアカウント数': '8173', 'インタラクション': '291', 'インタラクション フォロワー': '84.7%', 'インタラクション フォロワー以外': '15.3%', '投稿でのインタラクション': '0', '「いいね！」': '266', '保存数': '21', 'コメント': '0', 'シェア数': '0', 'アクションを実行したアカウント': '279', ' プロフィールのアクティビティ': '53', 'プロフィールへのアクセス': '48', '外部リンクのタップ': '4', 'フォロー数': '1'}, 'https://www.instagram.com/p/C_4HPztTfEM/': {'Date': '2024-09-14 00:52:18', 'ビュー': '15000.0', 'ビューフォロワー': '84.6%', 'ビューフォロワー以外': '15.4%', 'ホーム': '1.1万', '発見から': '856', 'その他': '553', 'リーチしたアカウント数': '9566', 'インタラクション': '502', 'インタラクション フォロワー': '88.5%', 'インタラクション フォロワー以外': '11.5%', '投稿でのインタラクション': '0', '「いいね！」': '465', '保存数': '25', 'コメント': '5', 'シェア数': '0', 'アクションを実行したアカウント': '493', 'プロフィールのアクティビティ': '59', 'プロフィールへのアクセス': '56', 'フォ ロー数': '3'}, 'https://www.instagram.com/reel/C_21B9cSORC/': {'Date': '2024-09-13 12:07:30', 'ビュー': '12000.0', 'ビュー フォロワー': '', 'ビュー フォロワー以外': '', 'リーチしたアカウント数': '8047', 'インタラクション': '228', 'イ ンタラクション フォロワー': '96.2%', 'インタラクション フォロワー以外': '3.8%', 'リールでのインタラクション': '0', '「いいね！」': '214', 'コメント': '0', '保存数': '7', 'シェア数': '0', 'アクションを実行したアカウント': '226', 'プロ フィールのアクティビティ': '0', 'フォロー数': '0'}, 'https://www.instagram.com/p/C_ziIz4ytkc/': {'Date': '2024-09-12 05:22:53', 'ビュー': '16000.0', 'ビューフォロワー': '88.1%', 'ビューフォロワー以外': '11.9%', 'ホーム': '1.2万', 'プ ロフィール': '459', 'その他': '100', 'リーチしたアカウント数': '8956', 'インタラクション': '182', 'インタラクション フォロワー': '95.2%', 'インタラクション フォロワー以外': '4.8%', '投稿でのインタラクション': '0', '「いいね！」': '165', '保存数': '15', 'コメント': '0', 'シェア数': '0', 'アクションを実行したアカウント': '182', 'プロフィールのアクティビティ': '38', 'プロフィールへのアクセ ス': '32', '外部リンクのタップ': '3', 'フォロー数': '3'}, 'https://www.instagram.com/p/C_xhD9zyLab/': {'Date': '2024-09-11 10:35:00', 'ビュー': '18000.0', 'ビューフォロワー': '61%', 'ビューフォロワー以外': '39%', 'ホーム': '1万', '発 見から': '5836', 'その他': '570', 'リーチしたアカウント数': '1.3万', 'インタラクション': '444', 'インタラクション フォロワー': '54.5%', 'インタラクション フォロワー以外': '45.5%', '投稿でのインタラクション': '0', '「いいね！」': '414', '保存数': '28', 'コメント': '0', 'シェア数': '0', 'アクションを実行したアカ ウント': '439', 'プロフィールのアクティビティ': '74', 'プロフィールへのアクセ ス': '63', '外部リンクのタップ': '6', 'フォロー数': '5'}, 'https://www.instagram.com/reel/C_rzU3KSAzS/': {'Date': '2024-09-09 05:20:42', 'ビュー': '18000.0', 'ビュー フォロワー': '', 'ビュー フォロワー以外': '', 'リーチしたアカウント 数': '1.2万', 'インタラクション': '664', 'インタラクション フォロワー': '68.5%', 'インタラクション フォロワー以外': '31.5%', 'リールでのインタラクション': '0', '「いいね！」': '600', 'コメント': '5', '保存数': '54', 'シェア数': '0', 'アクションを実行したアカウント': '636', 'プロフィールのアクティビティ': '16', 'フォロー数': '16'}, 'https://www.instagram.com/p/C_pnG1Fx9tO/': {'Date': '2024-09-08 08:53:54', 'ビュー': '11000.0', 'ビューフォロワー': '88.3%', 'ビューフォロワー以外': '11.7%', 'ホーム': '8478', '発見から': '700', 'その他': '460', 'リーチしたアカウント数': '6466', 'インタラクション': '464', 'インタラクション フォロワー': '81.7%', 'インタラクション フォロワー以外': '18.3%', '投稿でのインタラクション': '0', '「いいね！」': '438', '保存数': '22', 'コメント': '0', 'シェア数': '0', 'アクションを実行したアカウント': '445', 'プロフィールのアク ティビティ': '35', 'プロフィールへのアクセス': '29', '外部リンクのタップ': '4', 'フォロー数': '2'}, 'https://www.instagram.com/p/C_m-SMHx95K/': {'Date': '2024-09-07 08:18:42', 'ビュー': '13000.0', 'ビューフォロワー': '83.4%', 'ビュー フォロワー以外': '16.6%', 'ホーム': '9315', '発見から': '1632', 'その他': '636', 'リーチしたアカウント数': '7828', 'インタラクション': '294', 'インタラクシ ョン フォロワー': '78.5%', 'インタラクション フォロワー以外': '21.5%', '投稿でのインタラクション': '0', '「いいね！」': '279', '保存数': '14', 'コメント': '1', 'シェア数': '0', 'アクションを実行したアカウント': '293', 'プロフィールの アクティビティ': '21', 'プロフィールへのアクセス': '19', '外部リンクのタップ': '2', 'フォロー数': '0'}, 'https://www.instagram.com/p/C_klwgSSZgN/': {'Date': '2024-09-06 10:05:55', 'ビュー': '24000.0', 'ビューフォロワー': '57.9%', 'ビ ューフォロワー以外': '42.1%', 'ホーム': '1.3万', '発見から': '5731', 'その他': '883', 'リーチしたアカウント数': '1.6万', 'インタラクション': '1247', 'インタラクション フォロワー': '55.8%', 'インタラクション フォロワー以外': '44.2%', '投稿でのインタラクション': '0', '「いいね！」': '1081', '保存数': '152', 'コメント': '4', 'シェア数': '0', 'アクションを実行したアカウント': '1194', 'プロフィールのアクティビティ': '12', 'プロフィールへのアクセス': '1', 'フォロー数': '11'}, 'https://www.instagram.com/p/C_j10cDygQv/': {'Date': '2024-09-06 03:07:01', 'ビュー': '11000.0', 'ビューフォロワー': '78.7%', 'ビューフォロワー以外': '21.3%', 'ホーム': '4787', 'プロフィール': '635', 'その他': '67', 'リーチしたアカウント数': '6669', 'インタラクション': '86', 'インタラクション フォロワー': '95.4%', 'インタラクション フォロワー以外': '4.6%', '投稿でのインタラクショ ン': '0', '「いいね！」': '85', '保存数': '1', 'コメント': '0', 'シェア数': '0', 'アクションを実行したアカウント': '87', 'プロフィールのアクティビティ': '11', 'プロフィールへのアクセス': '11', 'フォロー数': '0'}, 'https://www.instagram.com/p/C_h9txpya32/': {'Date': '2024-09-05 09:37:32', 'ビュー': '12000.0', ' ビューフォロワー': '87.4%', 'ビューフォロワー以外': '12.6%', 'ホーム': '8357', '発見から': '998', 'その他': '603', 'リーチしたアカウント数': '6693', 'インタラクション': '284', 'インタラクション フォロワー': '72.5%', 'インタラクション フォロワー以外': '27.5%', '投稿でのインタラクション': '0', '「いいね！」': '263', '保存数': '20', 'コメント': '1', 'シェア数': '0', 'アクションを実行したア カウント': '269', 'プロフィールのアクティビティ': '32', 'プロフィールへのアク セス': '31', 'フォロー数': '1'}, 'https://www.instagram.com/p/C_fjcqkSFwT/': {'Date': '2024-09-04 11:09:31', 'ビュー': '13000.0', 'ビューフォロワー': '73.8%', 'ビューフォロワー以外': '26.2%', 'ホーム': '7625', '発見から': '1024', 'そ の他': '668', 'リーチしたアカウント数': '8116', 'インタラクション': '286', 'インタラクション フォロワー': '78.5%', 'インタラクション フォロワー以外': '21.5%', '投稿でのインタラクション': '0', '「いいね！」': '268', '保存数': '17', 'コメント': '0', 'シェア数': '0', 'アクションを実行したアカウント': '291', 'プロ フィールのアクティビティ': '60', 'プロフィールへのアクセス': '56', '外部リンクのタップ': '2', 'フォロー数': '2'}, 'https://www.instagram.com/p/C_fWSwMStdQ/': {'Date': '2024-09-04 09:14:34', 'ビュー': '16000.0', 'ビューフォロワー': '71.7%', 'ビューフォロワー以外': '28.3%', 'ホーム': '1万', '発見から': '3319', ' その他': '848', 'リーチしたアカウント数': '1.1万', 'インタラクション': '734', 'インタラクション フォロワー': '71.4%', 'インタラクション フォロワー以外': '28.6%', '投稿でのインタラクション': '0', '「いいね！」': '669', '保存数': '62', 'コメント': '1', 'シェア数': '0', 'アクションを実行したアカウント': '707', 'プロフィールのアクティビティ': '75', 'プロフィールへのアクセス': '67', '外部リンクのタップ': '2', 'フォロー数': '6'}, 'https://www.instagram.com/p/C_cm7YiRyz8/': {'Date': '2024-09-03 07:42:13', 'ビュー': '15000.0', 'ビューフォロワー': '71.2%', 'ビューフォロワー以外': '28.8%', 'ホーム': '1万', '発見から': '3571', 'その他': '565', 'プロフィール': '514', 'リーチしたアカウント数': '1万', 'インタラクション': '443', 'インタラクション フォロワー': '68.1%', 'インタラクショ ン フォロワー以外': '31.9%', '投稿でのインタラクション': '0', '「いいね！」': '408', '保存数': '31', 'コメント': '1', 'シェア数': '0', 'アクションを実行したアカウント': '428', 'プロフィールのアクティビティ': '98', 'プロフィールへのア クセス': '89', '外部リンクのタップ': '7', 'フォロー数': '2'}, 'https://www.instagram.com/p/C_aRS1iy5LG/': {'Date': '2024-09-02 09:54:42', 'ビュー': '7773', 'ビューフォロワー': '89.7%', 'ビューフォロワー以外': '10.3%', 'ホーム': '6594', 'プロフィール': '737', 'その他': '279', 'リーチしたアカウント数': '5158', ' インタラクション': '254', 'インタラクション フォロワー': '95.3%', 'インタラク ション フォロワー以外': '4.7%', '投稿でのインタラクション': '0', '「いいね！」': '238', '保存数': '16', 'コメント': '0', 'シェア数': '0', 'アクションを実行 したアカウント': '257', 'プロフィールのアクティビティ': '21', 'プロフィールへ のアクセス': '18', '外部リンクのタップ': '3', 'フォロー数': '0'}, 'https://www.instagram.com/p/C_XQrEgxN5u/': {'Date': '2024-09-01 05:51:32', 'ビュー': '8743', 'ビューフォロワー': '91.4%', 'ビューフォロワー以外': '8.6%', 'ホーム': '7639', 'プロフィール': '551', 'その他': '201', 'リーチしたアカウント数': '5207', 'インタラクション': '139', 'インタラクション フォロワー': '87.6%', 'インタラ クション フォロワー以外': '12.4%', '投稿でのインタラクション': '0', '「いいね ！」': '127', '保存数': '9', 'コメント': '0', 'シェア数': '0', 'アクションを実行したアカウント': '141', 'プロフィールのアクティビティ': '25', 'プロフィール へのアクセス': '23', '外部リンクのタップ': '2', 'フォロー数': '0'}, 'https://www.instagram.com/p/C_UsgjTRWRM/': {'Date': '2024-08-31 05:57:03', 'ビュー': '10000.0', 'ビューフォロワー': '80.8%', 'ビューフォロワー以外': '19.2%', 'ホーム': '5903', 'プロフィール': '486', 'その他': '218', 'リーチしたアカウント数': '4505', 'インタラクション': '146', 'インタラクション フォロワー': '94%', 'イン タラクション フォロワー以外': '6%', '投稿でのインタラクション': '0', '「いいね！」': '140', '保存数': '3', 'コメント': '0', 'シェア数': '0', 'アクションを実行したアカウント': '147', 'プロフィールのアクティビティ': '0', 'プロフィールへのアクセス': '0', 'フォロー数': '0'}, 'https://www.instagram.com/p/C_UYREeyQ5o/': {'Date': '2024-08-31 03:00:10', 'ビュー': '7537', 'ビューフォロワー': '90%', 'ビューフォロワー以外': '10%', 'ホーム': '6484', 'プロフィール': '498', 'その他': '298', '発見から': '257', 'リーチしたアカウント数': '4806', 'インタラクション': '240', 'インタラクション フォロワー': '90.6%', 'インタラクション フォロワー以外': '9.4%', '投稿でのインタラクション': '0', '「いいね！」': '232', '保存数': '8', 'コメント': '0', 'シェア数': '0', 'アクションを実行したアカウン ト': '241', 'プロフィールのアクティビティ': '36', 'プロフィールへのアクセス': '29', '外部リンクのタップ': '6', 'フォロー数': '1'}, 'https://www.instagram.com/p/C_Srtqcy-yn/': {'Date': '2024-08-30 11:12:24', 'ビュー': '8978', 'ビューフォロワー': '94.2%', 'ビューフォロワー以外': '5.8%', 'ホーム': '5773', 'プロフ ィール': '555', 'その他': '107', 'リーチしたアカウント数': '4291', 'インタラクション': '199', 'インタラクション フォロワー': '95.5%', 'インタラクション フォロワー以外': '4.5%', '投稿でのインタラクション': '0', '「いいね！」': '192', '保存数': '7', 'コメント': '0', 'シェア数': '0', 'アクションを実行したアカウン ト': '198', 'プロフィールのアクティビティ': '11', 'プロフィールへのアクセス': '10', '外部リンクのタップ': '1', 'フォロー数': '0'}, 'https://www.instagram.com/p/C_P4hNgSYMN/': {'Date': '2024-08-29 09:05:48', 'ビュー': '13000.0', 'ビュ ーフォロワー': '79.3%', 'ビューフォロワー以外': '20.7%', 'ホーム': '8794', '発見から': '1901', 'その他': '757', 'リーチしたアカウント数': '8274', 'インタラ クション': '553', 'インタラクション フォロワー': '68%', 'インタラクション フォロワー以外': '32%', '投稿でのインタラクション': '0', '「いいね！」': '503', ' 保存数': '50', 'コメント': '0', 'シェア数': '0', 'アクションを実行したアカウント': '530', 'プロフィールのアクティビティ': '54', 'プロフィールへのアクセス': '50', '外部リンクのタップ': '1', 'フォロー数': '3'}, 'https://www.instagram.com/p/C_Nn7A1SpaW/': {'Date': '2024-08-28 12:02:17', 'ビュー': '12000.0', 'ビュ ーフォロワー': '92.6%', 'ビューフォロワー以外': '7.4%', 'ホーム': '9951', 'プ ロフィール': '653', 'その他': '265', 'リーチしたアカウント数': '7081', 'インタラクション': '285', 'インタラクション フォロワー': '93.8%', 'インタラクション フォロワー以外': '6.2%', '投稿でのインタラクション': '0', '「いいね！」': '276', '保存数': '8', 'コメント': '1', 'シェア数': '0', 'アクションを実行したアカ ウント': '283', 'プロフィールのアクティビティ': '41', 'プロフィールへのアクセ ス': '41', 'フォロー数': '0'}, 'https://www.instagram.com/p/C_KadIjydDs/': {'Date': '2024-08-27 06:06:53', 'ビュー': '11000.0', 'ビューフォロワー': '86.9%', 'ビューフォロワー以外': '13.1%', 'ホーム': '8571', 'プロフィール': '856', 'その他': '817', 'リーチしたアカウント数': '6845', 'インタラクション': '255', 'インタラクション フォロワー': '85.6%', 'インタラクション フォロワー以外': '14.4%', '投稿でのインタラクション': '0', '「いいね！」': '245', '保存数': '9', 'コ メント': '1', 'シェア数': '0', 'アクションを実行したアカウント': '258', 'プロ フィールのアクティビティ': '18', 'プロフィールへのアクセス': '17', '外部リンクのタップ': '1', 'フォロー数': '0'}, 'https://www.instagram.com/p/C_ICQotRnDR/': {'Date': '2024-08-26 07:56:59', 'ビュー': '21000.0', 'ビューフォロワー': '88.4%', 'ビューフォロワー以外': '11.6%', 'ホーム': '1.7万', 'その他': '914', 'プロフィール': '781', 'リーチしたアカウント数': '1.2万', 'インタラクション': '698', 'インタラクション フォロワー': '92.4%', 'インタラクション フォロワー以外': '7.6%', '投稿でのインタラクション': '0', '「いいね！」': '629', '保存数': '68', 'コメント': '1', 'シェア数': '0', 'アクションを実行したアカウント': '676', 'プロフィールのアクティビティ': '135', 'プロフィールへのアクセス': '116', '外 部リンクのタップ': '14', 'フォロー数': '5'}, 'https://www.instagram.com/p/C_CqjmER_mE/': {'Date': '2024-08-24 05:53:40', 'ビュー': '18000.0', 'ビューフォロ ワー': '83.1%', 'ビューフォロワー以外': '16.9%', 'ホーム': '1.2万', 'プロフィ ール': '858', 'その他': '766', 'リーチしたアカウント数': '1万', 'インタラクシ ョン': '460', 'インタラクション フォロワー': '86.6%', 'インタラクション フォロワー以外': '13.4%', '投稿でのインタラクション': '0', '「いいね！」': '409', ' 保存数': '50', 'コメント': '1', 'シェア数': '0', 'アクションを実行したアカウント': '440', 'プロフィールのアクティビティ': '48', 'プロフィールへのアクセス': '39', '外部リンクのタップ': '4', 'フォロー数': '5'}, 'https://www.instagram.com/p/C_AjrKGSAsr/': {'Date': '2024-08-23 10:15:03', 'ビュー': '12000.0', 'ビュ ーフォロワー': '92.1%', 'ビューフォロワー以外': '7.9%', 'ホーム': '8302', 'プ ロフィール': '735', 'その他': '210', 'リーチしたアカウント数': '5857', 'インタラクション': '169', 'インタラクション フォロワー': '95.3%', 'インタラクション フォロワー以外': '4.7%', '投稿でのインタラクション': '0', '「いいね！」': '163', '保存数': '6', 'コメント': '0', 'シェア数': '0', 'アクションを実行したアカ ウント': '169', 'プロフィールのアクティビティ': '24', 'プロフィールへのアクセ ス': '23', '外部リンクのタップ': '1', 'フォロー数': '0'}, 'https://www.instagram.com/p/C-98jHiyfFP/': {'Date': '2024-08-22 09:55:10', 'ビュー': '19000.0', 'ビューフォロワー': '90.1%', 'ビューフォロワー以外': '9.9%', 'ホーム': '1.1万', 'その他': '902', '発見から': '849', 'リーチしたアカウント数': '8022', 'インタラクション': '289', 'インタラクション フォロワー': '91.6%', 'インタラクション フォロワー以外': '8.4%', '投稿でのインタラクション': '0', '「いいね！」': '266', '保存数': '22', 'コメント': '0', 'シェア数': '0', 'アクションを実行したアカウント': '276', 'プロフィールのアクティビティ': '69', 'プロフィールへのアクセ ス': '62', '外部リンクのタップ': '3', 'フォロー数': '4'}, 'https://www.instagram.com/p/C-7ZHA2S8n9/': {'Date': '2024-08-21 10:06:31', 'ビュー': '6551', 'ビ ューフォロワー': '87.4%', 'ビューフォロワー以外': '12.6%', 'ホーム': '4377', 'プロフィール': '760', 'その他': '203', 'リーチしたアカウント数': '5200', 'インタラクション': '153', 'インタラクション フォロワー': '89.8%', 'インタラクショ ン フォロワー以外': '10.2%', '投稿でのインタラクション': '0', '「いいね！」': '146', '保存数': '6', 'コメント': '0', 'シェア数': '0', 'アクションを実行した アカウント': '154', 'プロフィールのアクティビティ': '14', 'プロフィールへのア クセス': '12', '外部リンクのタップ': '2', 'フォロー数': '0'}, 'https://www.instagram.com/p/C-5B9HtysaY/': {'Date': '2024-08-20 12:05:43', 'ビュー': '14000.0', 'ビューフォロワー': '87.2%', 'ビューフォロワー以外': '12.8%', 'ホーム': '9865', '発見から': '1015', 'その他': '929', 'リーチしたアカウント数': '7864', ' インタラクション': '379', 'インタラクション フォロワー': '83.9%', 'インタラク ション フォロワー以外': '16.1%', '投稿でのインタラクション': '0', '「いいね！ 」': '348', '保存数': '28', 'コメント': '1', 'シェア数': '0', 'アクションを実 行したアカウント': '363', 'プロフィールのアクティビティ': '41', 'プロフィール へのアクセス': '36', '外部リンクのタップ': '3', 'フォロー数': '2'}, 'https://www.instagram.com/p/C-1rzLdR80X/': {'Date': '2024-08-19 04:54:23', 'ビュー': '7537', 'ビューフォロワー': '87.2%', 'ビューフォロワー以外': '12.8%', 'ホーム': '5245', 'プロフィール': '758', 'その他': '289', 'リーチしたアカウント数': '6066', 'インタラクション': '272', 'インタラクション フォロワー': '92.4%', 'インタラクション フォロワー以外': '7.6%', '投稿でのインタラクション': '0', '「いいね！」': '250', '保存数': '17', 'コメント': '3', 'シェア数': '0', 'アクションを 実行したアカウント': '258', 'プロフィールのアクティビティ': '39', 'プロフィー ルへのアクセス': '31', '外部リンクのタップ': '3', 'フォロー数': '5'}, 'https://www.instagram.com/p/C-zXsY5Rg9C/': {'Date': '2024-08-18 07:20:13', 'ビュー': '8233', 'ビューフォロワー': '86.2%', 'ビューフォロワー以外': '13.8%', 'ホーム': '6717', 'プロフィール': '681', '発見から': '597', 'その他': '238', 'リーチしたアカウント数': '5461', 'インタラクション': '330', 'インタラクション フォロワー': '87.6%', 'インタラクション フォロワー以外': '12.4%', '投稿でのインタラク ション': '0', '「いいね！」': '313', '保存数': '17', 'コメント': '0', 'シェア 数': '0', 'アクションを実行したアカウント': '320', 'プロフィールのアクティビティ': '20', 'プロフィールへのアクセス': '18', '外部リンクのタップ': '2', 'フォ ロー数': '0'}, 'https://www.instagram.com/p/C-xKJCUSA08/': {'Date': '2024-08-17 10:43:20', 'ビュー': '12000.0', 'ビューフォロワー': '90.5%', 'ビューフォロワー以外': '9.5%', 'ホーム': '9018', 'プロフィール': '714', 'その他': '608', 'リーチしたアカウント数': '6588', 'インタラクション': '305', 'インタラクション フォロワー': '88.5%', 'インタラクション フォロワー以外': '11.5%', '投稿でのイン タラクション': '0', '「いいね！」': '289', '保存数': '15', 'コメント': '0', ' シェア数': '0', 'アクションを実行したアカウント': '294', 'プロフィールのアクティビティ': '19', 'プロフィールへのアクセス': '16', '外部リンクのタップ': '3', 'フォロー数': '0'}, 'https://www.instagram.com/p/C-up18zyPap/': {'Date': '2024-08-16 11:22:37', 'ビュー': '13000.0', 'ビューフォロワー': '88.4%', 'ビューフ ォロワー以外': '11.6%', 'ホーム': '1.1万', 'プロフィール': '1080', '発見から': '559', 'その他': '430', 'リーチしたアカウント数': '8121', 'インタラクション': '350', 'インタラクション フォロワー': '93.3%', 'インタラクション フォロワー以外': '6.7%', '投稿でのインタラクション': '0', '「いいね！」': '328', '保存数': '22', 'コメント': '0', 'シェア数': '0', 'アクションを実行したアカウント': '350', 'プロフィールのアクティビティ': '80', 'プロフィールへのアクセス': '68', ' 外部リンクのタップ': '12', 'フォロー数': '0'}, 'https://www.instagram.com/p/C-rQ-ThyDqF/': {'Date': '2024-08-15 03:47:35', 'ビュー': '101000.0', 'ビューフォロワー': '25.3%', 'ビューフォロワー以外': '74.7%', 'ホーム': '4.8万', '発見か ら': '4.2万', 'その他': '1620', 'リーチしたアカウント数': '7.8万', 'インタラクション': '4277', 'インタラクション フォロワー': '35.1%', 'インタラクション フ ォロワー以外': '64.9%', '投稿でのインタラクション': '0', '「いいね！」': '3713', '保存数': '512', 'コメント': '21', 'シェア数': '0', 'アクションを実行したアカウント': '4251', 'プロフィールのアクティビティ': '1032', 'プロフィールへのアクセス': '788', '外部リンクのタップ': '25', 'フォロー数': '219'}, 'https://www.instagram.com/reel/C-pgcW-SfQT/': {'Date': '2024-08-14 11:24:45', 'ビュー': '13000.0', 'ビュー フォロワー': '', 'ビュー フォロワー以外': '', 'リーチしたア カウント数': '7584', 'インタラクション': '257', 'インタラクション フォロワー': '87.1%', 'インタラクション フォロワー以外': '12.9%', 'リールでのインタラクシ ョン': '0', '「いいね！」': '243', 'コメント': '2', '保存数': '12', 'シェア数': '0', 'アクションを実行したアカウント': '275', 'プロフィールのアクティビティ': '4', 'フォロー数': '4'}, 'https://www.instagram.com/p/C-m2FU2SdLI/': {'Date': '2024-08-13 10:35:39', 'ビュー': '38000.0', 'ビューフォロワー': '34.3%', 'ビューフォロワー以外': '65.7%', '発見から': '2.2万', 'ホーム': '1.2万', 'その他': '1182', 'リーチしたアカウント数': '3.1万', 'インタラクション': '1679', 'インタラクション フォロワー': '35.1%', 'インタラクション フォロワー以外': '64.9%', '投稿でのインタラクション': '0', '「いいね！」': '1495', '保存数': '182', 'コメント': '1', 'シェア数': '0', 'アクションを実行したアカウント': '1673', 'プロフィールのアクティビティ': '304', 'プロフィールへのアクセス': '247', '外部リンクのタップ': '11', 'フォロー数': '46'}, 'https://www.instagram.com/p/C-kJyMfymrO/': {'Date': '2024-08-12 09:30:05', 'ビュー': '13000.0', 'ビューフォロワー': '73.4%', 'ビューフォロワー以外': '26.6%', 'ホーム': '7999', '発見から': '2817', 'その他': '966', 'リーチしたアカウント数': '8741', 'インタラクション': '360', 'インタラクション フォロワー': '74.8%', 'インタラクション フォロワー以外': '25.2%', '投稿でのインタラクション': '0', '「いいね！」': '336', '保存数': '20', 'コメント': '0', 'シェア数': '0', 'アクションを実行したアカウント': '347', 'プロフィールのアクティビティ': '90', 'プロフィールへのアクセス': '74', '外部 リンクのタップ': '9', 'フォロー数': '7'}, 'https://www.instagram.com/p/C-h5t1ByQk0/': {'Date': '2024-08-11 12:31:11', 'ビュー': '9964', 'ビューフォロワー': '95%', 'ビューフォロワー以外': '5%', 'ホーム': '7244', 'プロフィール': '587', 'その他': '147', 'リーチしたアカウント数': '5280', 'インタラクション': '122', 'インタラクション フォロワー': '99.2%', 'インタラクション フォロワー以外': '0.8%', '投稿でのインタラクション': '0', '「いいね！」': '120', '保存数': '2', ' コメント': '0', 'シェア数': '0', 'アクションを実行したアカウント': '122', 'プ ロフィールのアクティビティ': '9', 'プロフィールへのアクセス': '9', 'フォロー数': '0'}, 'https://www.instagram.com/p/C-fdef8S7CV/': {'Date': '2024-08-10 13:45:57', 'ビュー': '14000.0', 'ビューフォロワー': '93.5%', 'ビューフォロワー以外': '6.5%', 'ホーム': '1.2万', 'プロフィール': '624', 'その他': '180', 'リーチ したアカウント数': '8538', 'インタラクション': '293', 'インタラクション フォロワー': '98.3%', 'インタラクション フォロワー以外': '1.7%', '投稿でのインタラクション': '0', '「いいね！」': '251', '保存数': '38', 'コメント': '0', 'シェア 数': '0', 'アクションを実行したアカウント': '288', 'プロフィールのアクティビティ': '87', 'プロフィールへのアクセス': '81', '外部リンクのタップ': '4', 'フォ ロー数': '2'}, 'https://www.instagram.com/p/C-aemPUyxzW/': {'Date': '2024-08-08 15:19:33', 'ビュー': '15000.0', 'ビューフォロワー': '69.7%', 'ビューフォロワー以外': '30.3%', 'ホーム': '9948', '発見から': '2053', 'その他': '984', 'リーチしたアカウント数': '1万', 'インタラクション': '763', 'インタラクション フォ ロワー': '73.5%', 'インタラクション フォロワー以外': '26.5%', '投稿でのインタ ラクション': '0', '「いいね！」': '671', '保存数': '78', 'コメント': '2', 'シ ェア数': '0', 'アクションを実行したアカウント': '719', 'プロフィールのアクティビティ': '113', 'プロフィールへのアクセス': '100', '外部リンクのタップ': '9', 'フォロー数': '4'}, 'https://www.instagram.com/p/C-Z4meRSABr/': {'Date': '2024-08-08 09:47:31', 'ビュー': '20000.0', 'ビューフォロワー': '68%', 'ビューフォ ロワー以外': '32%', 'ホーム': '1.5万', 'その他': '835', 'プロフィール': '811', 'リーチしたアカウント数': '1.3万', 'インタラクション': '620', 'インタラクション フォロワー': '91.6%', 'インタラクション フォロワー以外': '8.4%', '投稿での インタラクション': '0', '「いいね！」': '561', '保存数': '49', 'コメント': '2', 'シェア数': '0', 'アクションを実行したアカウント': '609', 'プロフィールのア クティビティ': '67', 'プロフィールへのアクセス': '63', '外部リンクのタップ': '1', 'フォロー数': '3'}, 'https://www.instagram.com/p/C-W-ioeR33c/': {'Date': '2024-08-07 06:41:42', 'ビュー': '15000.0', 'ビューフォロワー': '81.2%', 'ビュ ーフォロワー以外': '18.8%', 'ホーム': '1.1万', '発見から': '2185', 'その他': '970', 'リーチしたアカウント数': '9778', 'インタラクション': '479', 'インタラクション フォロワー': '76.4%', 'インタラクション フォロワー以外': '23.6%', '投稿でのインタラクション': '0', '「いいね！」': '434', '保存数': '42', 'コメント': '2', 'シェア数': '0', 'アクションを実行したアカウント': '469', 'プロフィール のアクティビティ': '78', 'プロフィールへのアクセス': '69', '外部リンクのタップ': '5', 'フォロー数': '4'}, 'https://www.instagram.com/p/C-U0QlHvo5a/': {'Date': '2024-08-06 10:33:23', 'ビュー': '10000.0', 'ビューフォロワー': '86.6%', ' ビューフォロワー以外': '13.4%', 'ホーム': '7653', 'プロフィール': '1043', 'そ の他': '459', 'リーチしたアカウント数': '6637', 'インタラクション': '307', 'インタラクション フォロワー': '86.5%', 'インタラクション フォロワー以外': '13.5%', '投稿でのインタラクション': '0', '「いいね！」': '290', '保存数': '14', 'コメント': '0', 'シェア数': '0', 'アクションを実行したアカウント': '306', 'プロ フィールのアクティビティ': '23', 'プロフィールへのアクセス': '22', '外部リンクのタップ': '1', 'フォロー数': '0'}, 'https://www.instagram.com/p/C-SR_4ASVDJ/': {'Date': '2024-08-05 10:55:31', 'ビュー': '13000.0', 'ビューフォロワー': '66.3%', 'ビューフォロワー以外': '33.7%', 'ホーム': '7289', '発見から': '3153', 'その他': '1036', 'リーチしたアカウント数': '9251', 'インタラクション': '523', 'インタラクション フォロワー': '56.7%', 'インタラクション フォロワー以外': '43.3%', '投稿でのインタラクション': '0', '「いいね！」': '456', '保存数': '52', 'コメント': '3', 'シェア数': '0', 'アクションを実行したアカウント': '499', 'プロフィールのアクティビティ': '73', 'プロフィールへのアクセス': '58', '外部リンクのタップ': '3', 'フォロー数': '12'}, 'https://www.instagram.com/p/C-PfWqSRLD7/': {'Date': '2024-08-04 08:54:30', 'ビュー': '13000.0', 'ビューフォロワー': '85.5%', 'ビューフォロワー以外': '14.5%', 'ホーム': '9850', 'プロフィール': '1082', 'その他': '733', 'リーチしたアカウント数': '8040', 'インタラクション': '326', 'インタラクション フォロワー': '83.6%', 'インタラクション フォロワー以外': '16.4%', '投稿でのインタラクション': '0', '「いいね！」': '292', '保存数': '32', 'コメント': '0', 'シェア数': '0', 'アクションを実行したアカウント': '314', 'プロフィールのアクティビティ': '12', 'プロフィールへのアクセス': '10', '外部リンクのタップ': '1', 'フォロー数': '1'}, 'https://www.instagram.com/p/C-NGQTuywaA/': {'Date': '2024-08-03 10:36:42', 'ビュー': '15000.0', 'ビューフォロワー': '87.1%', 'ビューフォロワー以外': '12.9%', 'ホーム': '1.1万', '発見から': '1192', 'その他': '993', 'リーチしたアカウント数': '8187', 'インタラクション': '386', 'インタラクション フォロワー': '89.5%', 'インタラクション フォロワー以外': '10.5%', '投稿でのインタラクション': '0', '「いいね！」': '355', '保存数': '21', 'コメント': '1', 'シェア数': '0', 'アクションを実行したアカウント': '359', 'プロフィールのアクティビティ': '74', 'プロフィールへのアクセス': '67', '外部リンクのタップ': '3', 'フォロー数': '4'}, 'https://www.instagram.com/p/C-KYGR6SRjT/': {'Date': '2024-08-02 09:14:54', 'ビュー': '11000.0', 'ビューフォロワー': '59.7%', 'ビューフォロワー以外': '40.3%', 'ホーム': '5711', 'プロフィール': '1023', 'その他': '547', 'リーチしたアカウント数': '6558', 'インタラクシ ョン': '245', 'インタラクション フォロワー': '81.4%', 'インタラクション フォロワー以外': '18.6%', '投稿でのインタラクション': '0', '「いいね！」': '227', ' 保存数': '14', 'コメント': '0', 'シェア数': '0', 'アクションを実行したアカウント': '236', 'プロフィールのアクティビティ': '21', 'プロフィールへのアクセス': '21', 'フォロー数': '0'}, 'https://www.instagram.com/p/C-H7smOvsyo/': {'Date': '2024-08-01 10:28:15', 'ビュー': '9197', 'ビューフォロワー': '87.4%', 'ビューフォロワー以外': '12.6%', 'ホーム': '5523', 'プロフィール': '898', 'その他': '325', 'リーチしたアカウント数': '4806', 'インタラクション': '185', 'インタラクション フォロワー': '85.6%', 'インタラクション フォロワー以外': '14.4%', '投稿でのインタラクション': '0', '「いいね！」': '176', '保存数': '8', 'コメント': '0', 'シェア数': '0', 'アクションを実行したアカウント': '191', 'プロフィールのアクティビティ': '24', 'プロフィールへのアクセス': '22', '外部リンクのタップ': '2', 'フォロー数': '0'}}\n",
    "type(data)"
   ]
  },
  {
   "cell_type": "code",
   "execution_count": 30,
   "metadata": {},
   "outputs": [
    {
     "name": "stdout",
     "output_type": "stream",
     "text": [
      "{'https://www.instagram.com/p/DAVZYNYSHjH/': {'Date': '2024-09-25 09:00:31', 'ビュー': '14000.0', 'ビューフォロワー': '94.8%', 'ビューフォロワー以外': '5.2%', 'ホーム': 11000, '発見から': '420', 'その他': '178', 'リーチしたアカウン ト数': '7304', 'インタラクション': '285', 'インタラクション フォロワー': '91.3%', 'インタラクション フォロワー以外': '8.7%', '投稿でのインタラクション': '0', '「いいね！」': '267', '保存数': '17', 'コメント': '1', 'シェア数': '0', 'アクションを実行したアカウント': '275', 'プロフィールのアクティビティ': '15', ' プロフィールへのアクセス': '13', 'フォロー数': '2'}, 'https://www.instagram.com/p/DASX6WFy5Ld/': {'Date': '2024-09-24 04:49:59', 'ビュー': '5611', 'ビューフォロワー': '89.6%', 'ビューフォロワー以外': '10.4%', 'ホーム': '4896', 'その他': '162', 'ハッシュタグ': '118', 'リーチしたアカウント数': '3466', 'インタラクション': '156', 'インタラクション フォロワー': '92.5%', 'インタラクション フォロワー以外': '7.5%', '投稿でのインタラクション': '0', '「いいね！」': '147', '保存数': '6', 'コメント': '0', 'シェア数': '0', 'アクションを実行したアカウン ト': '156', 'プロフィールのアクティビティ': '12', 'プロフィールへのアクセス': '11', '外部リンクのタップ': '1', 'フォロー数': '0'}, 'https://www.instagram.com/p/DAQNZ9rS4vv/': {'Date': '2024-09-23 08:39:42', 'ビュー': '7675', 'ビューフォロワー': '97.6%', 'ビューフォロワー以外': '2.4%', 'ホーム': '6334', 'プロフ ィール': '128', 'その他': '35', 'リーチしたアカウント数': '4227', 'インタラク ション': '94', 'インタラクション フォロワー': '100%', 'インタラクション フォロワー以外': '0%', '投稿でのインタラクション': '0', '「いいね！」': '91', '保存 数': '3', 'コメント': '0', 'シェア数': '0', 'アクションを実行したアカウント': '98', 'プロフィールのアクティビティ': '42', 'プロフィールへのアクセス': '32', '外部リンクのタップ': '10', 'フォロー数': '0'}, 'https://www.instagram.com/p/DANX_LfRGW4/': {'Date': '2024-09-22 06:14:27', 'ビュー': '16000.0', 'ビューフォロワー': '92.7%', 'ビューフォロワー以外': '7.3%', 'ホーム': 10000, '発見から': '752', 'その他': '316', 'リーチしたアカウント数': '7066', 'インタラクション': '341', 'インタラクション フォロワー': '85.2%', 'インタラクション フォロワー以外': '14.8%', '投稿でのインタラクション': '0', '「いいね！」': '329', '保存数': '11', 'コメント': '0', 'シェア数': '0', 'アクションを実行したアカウント': '330', 'プロフィールのアクティビティ': '39', 'プロフィールへのアクセス': '37', '外部リンクのタップ': '1', 'フォロー数': '1'}, 'https://www.instagram.com/p/DALSUyhveyl/': {'Date': '2024-09-21 10:46:29', 'ビュー': '21000.0', 'ビューフォロワー': '63%', 'ビューフォロワー以外': '37%', 'ホーム': 10000, '発見から': '6867', 'その他': '369', 'リーチしたアカウント数': 14000, 'インタラクション': '781', 'インタラクション フォロワー': '47.5%', 'インタラクション フォロワー以外': '52.5%', '投稿でのインタラクション': '0', '「いいね！」': '684', '保存数': '87', 'コメント': '4', 'シェア数': '0', 'アクションを実行したアカウント': '741', 'プロフィールのアクティビティ': '142', 'プロフィールへのアクセス': '127', ' 外部リンクのタップ': '2', 'フォロー数': '13'}, 'https://www.instagram.com/p/DAM0D6FyQZV/': {'Date': '2024-09-21 02:52:37', 'ビュー': '13000.0', 'ビューフォ ロワー': '91.3%', 'ビューフォロワー以外': '8.7%', 'ホーム': '9469', '発見から': '588', 'その他': '402', 'リーチしたアカウント数': '6789', 'インタラクション': '332', 'インタラクション フォロワー': '84.6%', 'インタラクション フォロワー 以外': '15.4%', '投稿でのインタラクション': '0', '「いいね！」': '294', '保存 数': '34', 'コメント': '1', 'シェア数': '0', 'アクションを実行したアカウント': '333', 'プロフィールのアクティビティ': '43', 'プロフィールへのアクセス': '39', '外部リンクのタップ': '1', 'フォロー数': '3'}, 'https://www.instagram.com/p/DAIc5-eSp0G/': {'Date': '2024-09-20 08:21:13', 'ビュー': '9885', 'ビューフォロワー': '94.1%', 'ビューフォロワー以外': '5.9%', 'ホーム': '7678', 'その他': '293', 'プロフィール': '254', 'リーチしたアカウント数': '5336', 'インタラクショ ン': '236', 'インタラクション フォロワー': '92.1%', 'インタラクション フォロワー以外': '7.9%', '投稿でのインタラクション': '0', '「いいね！」': '219', '保存数': '15', 'コメント': '0', 'シェア数': '0', 'アクションを実行したアカウント': '234', 'プロフィールのアクティビティ': '30', 'プロフィールへのアクセス': '25', '外部リンクのタップ': '3', 'フォロー数': '2'}, 'https://www.instagram.com/p/DAFxUQZSDTo/': {'Date': '2024-09-19 07:21:51', 'ビュー': '22000.0', 'ビューフ ォロワー': '62.6%', 'ビューフォロワー以外': '37.4%', 'ホーム': 12000, '発見 から': '6949', 'その他': '590', 'リーチしたアカウント数': 14000, 'インタラクション': '1168', 'インタラクション フォロワー': '52.4%', 'インタラクション フ ォロワー以外': '47.6%', '投稿でのインタラクション': '0', '「いいね！」': '1048', '保存数': '108', 'コメント': '4', 'シェア数': '0', 'アクションを実行したア カウント': '1098', 'プロフィールのアクティビティ': '95', 'プロフィールへのアクセス': '85', '外部リンクのタップ': '2', 'フォロー数': '8'}, 'https://www.instagram.com/p/DADl7hSyiyj/': {'Date': '2024-09-18 11:03:52', 'ビュー': '11000.0', 'ビューフォロワー': '86.9%', 'ビューフォロワー以外': '13.1%', 'ホーム': '8275', 'その他': '416', '発見から': '352', 'リーチしたアカウント数': '6416', 'インタラクション': '301', 'インタラクション フォロワー': '86.5%', 'インタラクショ ン フォロワー以外': '13.5%', '投稿でのインタラクション': '0', '「いいね！」': '279', '保存数': '17', 'コメント': '1', 'シェア数': '0', 'アクションを実行したアカウント': '285', 'プロフィールのアクティビティ': '22', 'プロフィールへのア クセス': '20', 'フォロー数': '2'}, 'https://www.instagram.com/p/DAAwn49RmYw/': {'Date': '2024-09-17 08:39:35', 'ビュー': '7881', 'ビューフォロワー': '94.7%', 'ビューフォロワー以外': '5.3%', 'ホーム': '6585', 'プロフィール': '270', 'その他': '223', 'リーチしたアカウント数': '6362', 'インタラクション': '119', 'インタラクション フォロワー': '92.6%', 'インタラクション フォロワー以外': '7.4%', '投稿でのインタラクション': '0', '「いいね！」': '109', '保存数': '10', 'コ メント': '0', 'シェア数': '0', 'アクションを実行したアカウント': '116', 'プロ フィールのアクティビティ': '39', 'プロフィールへのアクセス': '34', '外部リンクのタップ': '5', 'フォロー数': '0'}, 'https://www.instagram.com/p/C_-Xsl9ykQZ/': {'Date': '2024-09-16 10:23:18', 'ビュー': '13000.0', 'ビューフォロワー': '93.4%', 'ビューフォロワー以外': '6.6%', 'ホーム': '9307', 'プロフィール': '321', 'その他': '167', 'リーチしたアカウント数': '6566', 'インタラクション': '247', 'インタラクション フォロワー': '93.5%', 'インタラクション フォロワー以外': '6.5%', '投稿でのインタラクション': '0', '「いいね！」': '232', '保存数': '14', 'コメント': '0', 'シェア数': '0', 'アクションを実行したアカウント': '240', 'プロフィールのアクティビティ': '29', 'プロフィールへのアクセス': '28', '外部リンクのタップ': '1', 'フォロー数': '0'}, 'https://www.instagram.com/p/C_7GW1jSqg2/': {'Date': '2024-09-15 03:54:04', 'ビュー': '14000.0', 'ビューフォロワー': '75.5%', 'ビューフォロワー以外': '24.5%', 'ホーム': '8869', '発見から': '1159', 'その他': '461', 'リーチしたアカウント数': '8173', 'インタラクション': '291', 'インタラクション フォロワー': '84.7%', 'インタラクション フォロワー以外': '15.3%', '投稿でのインタラクション': '0', '「いいね！」': '266', '保存数': '21', 'コメント': '0', 'シェア数': '0', 'アクションを実行したアカウント': '279', ' プロフィールのアクティビティ': '53', 'プロフィールへのアクセス': '48', '外部リンクのタップ': '4', 'フォロー数': '1'}, 'https://www.instagram.com/p/C_4HPztTfEM/': {'Date': '2024-09-14 00:52:18', 'ビュー': '15000.0', 'ビューフォロワー': '84.6%', 'ビューフォロワー以外': '15.4%', 'ホーム': 11000, '発見から': '856', 'その他': '553', 'リーチしたアカウント数': '9566', 'インタラクション': '502', 'インタラクション フォロワー': '88.5%', 'インタラクション フォロワー以外': '11.5%', '投稿でのインタラクション': '0', '「いいね！」': '465', '保存数': '25', 'コメント': '5', 'シェア数': '0', 'アクションを実行したアカウント': '493', 'プロフィールのアクティビティ': '59', 'プロフィールへのアクセス': '56', 'フォ ロー数': '3'}, 'https://www.instagram.com/reel/C_21B9cSORC/': {'Date': '2024-09-13 12:07:30', 'ビュー': '12000.0', 'ビュー フォロワー': '', 'ビュー フォロワー以外': '', 'リーチしたアカウント数': '8047', 'インタラクション': '228', 'イ ンタラクション フォロワー': '96.2%', 'インタラクション フォロワー以外': '3.8%', 'リールでのインタラクション': '0', '「いいね！」': '214', 'コメント': '0', '保存数': '7', 'シェア数': '0', 'アクションを実行したアカウント': '226', 'プロ フィールのアクティビティ': '0', 'フォロー数': '0'}, 'https://www.instagram.com/p/C_ziIz4ytkc/': {'Date': '2024-09-12 05:22:53', 'ビュー': '16000.0', 'ビューフォロワー': '88.1%', 'ビューフォロワー以外': '11.9%', 'ホーム': 12000, 'プ ロフィール': '459', 'その他': '100', 'リーチしたアカウント数': '8956', 'インタラクション': '182', 'インタラクション フォロワー': '95.2%', 'インタラクション フォロワー以外': '4.8%', '投稿でのインタラクション': '0', '「いいね！」': '165', '保存数': '15', 'コメント': '0', 'シェア数': '0', 'アクションを実行したアカウント': '182', 'プロフィールのアクティビティ': '38', 'プロフィールへのアクセ ス': '32', '外部リンクのタップ': '3', 'フォロー数': '3'}, 'https://www.instagram.com/p/C_xhD9zyLab/': {'Date': '2024-09-11 10:35:00', 'ビュー': '18000.0', 'ビューフォロワー': '61%', 'ビューフォロワー以外': '39%', 'ホーム': 10000, '発 見から': '5836', 'その他': '570', 'リーチしたアカウント数': 13000, 'インタラクション': '444', 'インタラクション フォロワー': '54.5%', 'インタラクション フォロワー以外': '45.5%', '投稿でのインタラクション': '0', '「いいね！」': '414', '保存数': '28', 'コメント': '0', 'シェア数': '0', 'アクションを実行したアカ ウント': '439', 'プロフィールのアクティビティ': '74', 'プロフィールへのアクセ ス': '63', '外部リンクのタップ': '6', 'フォロー数': '5'}, 'https://www.instagram.com/reel/C_rzU3KSAzS/': {'Date': '2024-09-09 05:20:42', 'ビュー': '18000.0', 'ビュー フォロワー': '', 'ビュー フォロワー以外': '', 'リーチしたアカウント 数': 12000, 'インタラクション': '664', 'インタラクション フォロワー': '68.5%', 'インタラクション フォロワー以外': '31.5%', 'リールでのインタラクション': '0', '「いいね！」': '600', 'コメント': '5', '保存数': '54', 'シェア数': '0', 'アクションを実行したアカウント': '636', 'プロフィールのアクティビティ': '16', 'フォロー数': '16'}, 'https://www.instagram.com/p/C_pnG1Fx9tO/': {'Date': '2024-09-08 08:53:54', 'ビュー': '11000.0', 'ビューフォロワー': '88.3%', 'ビューフォロワー以外': '11.7%', 'ホーム': '8478', '発見から': '700', 'その他': '460', 'リーチしたアカウント数': '6466', 'インタラクション': '464', 'インタラクション フォロワー': '81.7%', 'インタラクション フォロワー以外': '18.3%', '投稿でのインタラクション': '0', '「いいね！」': '438', '保存数': '22', 'コメント': '0', 'シェア数': '0', 'アクションを実行したアカウント': '445', 'プロフィールのアク ティビティ': '35', 'プロフィールへのアクセス': '29', '外部リンクのタップ': '4', 'フォロー数': '2'}, 'https://www.instagram.com/p/C_m-SMHx95K/': {'Date': '2024-09-07 08:18:42', 'ビュー': '13000.0', 'ビューフォロワー': '83.4%', 'ビュー フォロワー以外': '16.6%', 'ホーム': '9315', '発見から': '1632', 'その他': '636', 'リーチしたアカウント数': '7828', 'インタラクション': '294', 'インタラクシ ョン フォロワー': '78.5%', 'インタラクション フォロワー以外': '21.5%', '投稿でのインタラクション': '0', '「いいね！」': '279', '保存数': '14', 'コメント': '1', 'シェア数': '0', 'アクションを実行したアカウント': '293', 'プロフィールの アクティビティ': '21', 'プロフィールへのアクセス': '19', '外部リンクのタップ': '2', 'フォロー数': '0'}, 'https://www.instagram.com/p/C_klwgSSZgN/': {'Date': '2024-09-06 10:05:55', 'ビュー': '24000.0', 'ビューフォロワー': '57.9%', 'ビ ューフォロワー以外': '42.1%', 'ホーム': 13000, '発見から': '5731', 'その他': '883', 'リーチしたアカウント数': 16000, 'インタラクション': '1247', 'インタラクション フォロワー': '55.8%', 'インタラクション フォロワー以外': '44.2%', '投稿でのインタラクション': '0', '「いいね！」': '1081', '保存数': '152', 'コメント': '4', 'シェア数': '0', 'アクションを実行したアカウント': '1194', 'プロフィールのアクティビティ': '12', 'プロフィールへのアクセス': '1', 'フォロー数': '11'}, 'https://www.instagram.com/p/C_j10cDygQv/': {'Date': '2024-09-06 03:07:01', 'ビュー': '11000.0', 'ビューフォロワー': '78.7%', 'ビューフォロワー以外': '21.3%', 'ホーム': '4787', 'プロフィール': '635', 'その他': '67', 'リーチしたアカウント数': '6669', 'インタラクション': '86', 'インタラクション フォロワー': '95.4%', 'インタラクション フォロワー以外': '4.6%', '投稿でのインタラクショ ン': '0', '「いいね！」': '85', '保存数': '1', 'コメント': '0', 'シェア数': '0', 'アクションを実行したアカウント': '87', 'プロフィールのアクティビティ': '11', 'プロフィールへのアクセス': '11', 'フォロー数': '0'}, 'https://www.instagram.com/p/C_h9txpya32/': {'Date': '2024-09-05 09:37:32', 'ビュー': '12000.0', ' ビューフォロワー': '87.4%', 'ビューフォロワー以外': '12.6%', 'ホーム': '8357', '発見から': '998', 'その他': '603', 'リーチしたアカウント数': '6693', 'インタラクション': '284', 'インタラクション フォロワー': '72.5%', 'インタラクション フォロワー以外': '27.5%', '投稿でのインタラクション': '0', '「いいね！」': '263', '保存数': '20', 'コメント': '1', 'シェア数': '0', 'アクションを実行したア カウント': '269', 'プロフィールのアクティビティ': '32', 'プロフィールへのアク セス': '31', 'フォロー数': '1'}, 'https://www.instagram.com/p/C_fjcqkSFwT/': {'Date': '2024-09-04 11:09:31', 'ビュー': '13000.0', 'ビューフォロワー': '73.8%', 'ビューフォロワー以外': '26.2%', 'ホーム': '7625', '発見から': '1024', 'そ の他': '668', 'リーチしたアカウント数': '8116', 'インタラクション': '286', 'インタラクション フォロワー': '78.5%', 'インタラクション フォロワー以外': '21.5%', '投稿でのインタラクション': '0', '「いいね！」': '268', '保存数': '17', 'コメント': '0', 'シェア数': '0', 'アクションを実行したアカウント': '291', 'プロ フィールのアクティビティ': '60', 'プロフィールへのアクセス': '56', '外部リンクのタップ': '2', 'フォロー数': '2'}, 'https://www.instagram.com/p/C_fWSwMStdQ/': {'Date': '2024-09-04 09:14:34', 'ビュー': '16000.0', 'ビューフォロワー': '71.7%', 'ビューフォロワー以外': '28.3%', 'ホーム': 10000, '発見から': '3319', ' その他': '848', 'リーチしたアカウント数': 11000, 'インタラクション': '734', 'インタラクション フォロワー': '71.4%', 'インタラクション フォロワー以外': '28.6%', '投稿でのインタラクション': '0', '「いいね！」': '669', '保存数': '62', 'コメント': '1', 'シェア数': '0', 'アクションを実行したアカウント': '707', 'プロフィールのアクティビティ': '75', 'プロフィールへのアクセス': '67', '外部リンクのタップ': '2', 'フォロー数': '6'}, 'https://www.instagram.com/p/C_cm7YiRyz8/': {'Date': '2024-09-03 07:42:13', 'ビュー': '15000.0', 'ビューフォロワー': '71.2%', 'ビューフォロワー以外': '28.8%', 'ホーム': 10000, '発見から': '3571', 'その他': '565', 'プロフィール': '514', 'リーチしたアカウント数': 10000, 'インタラクション': '443', 'インタラクション フォロワー': '68.1%', 'インタラクショ ン フォロワー以外': '31.9%', '投稿でのインタラクション': '0', '「いいね！」': '408', '保存数': '31', 'コメント': '1', 'シェア数': '0', 'アクションを実行したアカウント': '428', 'プロフィールのアクティビティ': '98', 'プロフィールへのア クセス': '89', '外部リンクのタップ': '7', 'フォロー数': '2'}, 'https://www.instagram.com/p/C_aRS1iy5LG/': {'Date': '2024-09-02 09:54:42', 'ビュー': '7773', 'ビューフォロワー': '89.7%', 'ビューフォロワー以外': '10.3%', 'ホーム': '6594', 'プロフィール': '737', 'その他': '279', 'リーチしたアカウント数': '5158', ' インタラクション': '254', 'インタラクション フォロワー': '95.3%', 'インタラク ション フォロワー以外': '4.7%', '投稿でのインタラクション': '0', '「いいね！」': '238', '保存数': '16', 'コメント': '0', 'シェア数': '0', 'アクションを実行 したアカウント': '257', 'プロフィールのアクティビティ': '21', 'プロフィールへ のアクセス': '18', '外部リンクのタップ': '3', 'フォロー数': '0'}, 'https://www.instagram.com/p/C_XQrEgxN5u/': {'Date': '2024-09-01 05:51:32', 'ビュー': '8743', 'ビューフォロワー': '91.4%', 'ビューフォロワー以外': '8.6%', 'ホーム': '7639', 'プロフィール': '551', 'その他': '201', 'リーチしたアカウント数': '5207', 'インタラクション': '139', 'インタラクション フォロワー': '87.6%', 'インタラ クション フォロワー以外': '12.4%', '投稿でのインタラクション': '0', '「いいね ！」': '127', '保存数': '9', 'コメント': '0', 'シェア数': '0', 'アクションを実行したアカウント': '141', 'プロフィールのアクティビティ': '25', 'プロフィール へのアクセス': '23', '外部リンクのタップ': '2', 'フォロー数': '0'}, 'https://www.instagram.com/p/C_UsgjTRWRM/': {'Date': '2024-08-31 05:57:03', 'ビュー': '10000.0', 'ビューフォロワー': '80.8%', 'ビューフォロワー以外': '19.2%', 'ホーム': '5903', 'プロフィール': '486', 'その他': '218', 'リーチしたアカウント数': '4505', 'インタラクション': '146', 'インタラクション フォロワー': '94%', 'イン タラクション フォロワー以外': '6%', '投稿でのインタラクション': '0', '「いいね！」': '140', '保存数': '3', 'コメント': '0', 'シェア数': '0', 'アクションを実行したアカウント': '147', 'プロフィールのアクティビティ': '0', 'プロフィールへのアクセス': '0', 'フォロー数': '0'}, 'https://www.instagram.com/p/C_UYREeyQ5o/': {'Date': '2024-08-31 03:00:10', 'ビュー': '7537', 'ビューフォロワー': '90%', 'ビューフォロワー以外': '10%', 'ホーム': '6484', 'プロフィール': '498', 'その他': '298', '発見から': '257', 'リーチしたアカウント数': '4806', 'インタラクション': '240', 'インタラクション フォロワー': '90.6%', 'インタラクション フォロワー以外': '9.4%', '投稿でのインタラクション': '0', '「いいね！」': '232', '保存数': '8', 'コメント': '0', 'シェア数': '0', 'アクションを実行したアカウン ト': '241', 'プロフィールのアクティビティ': '36', 'プロフィールへのアクセス': '29', '外部リンクのタップ': '6', 'フォロー数': '1'}, 'https://www.instagram.com/p/C_Srtqcy-yn/': {'Date': '2024-08-30 11:12:24', 'ビュー': '8978', 'ビューフォロワー': '94.2%', 'ビューフォロワー以外': '5.8%', 'ホーム': '5773', 'プロフ ィール': '555', 'その他': '107', 'リーチしたアカウント数': '4291', 'インタラクション': '199', 'インタラクション フォロワー': '95.5%', 'インタラクション フォロワー以外': '4.5%', '投稿でのインタラクション': '0', '「いいね！」': '192', '保存数': '7', 'コメント': '0', 'シェア数': '0', 'アクションを実行したアカウン ト': '198', 'プロフィールのアクティビティ': '11', 'プロフィールへのアクセス': '10', '外部リンクのタップ': '1', 'フォロー数': '0'}, 'https://www.instagram.com/p/C_P4hNgSYMN/': {'Date': '2024-08-29 09:05:48', 'ビュー': '13000.0', 'ビュ ーフォロワー': '79.3%', 'ビューフォロワー以外': '20.7%', 'ホーム': '8794', '発見から': '1901', 'その他': '757', 'リーチしたアカウント数': '8274', 'インタラ クション': '553', 'インタラクション フォロワー': '68%', 'インタラクション フォロワー以外': '32%', '投稿でのインタラクション': '0', '「いいね！」': '503', ' 保存数': '50', 'コメント': '0', 'シェア数': '0', 'アクションを実行したアカウント': '530', 'プロフィールのアクティビティ': '54', 'プロフィールへのアクセス': '50', '外部リンクのタップ': '1', 'フォロー数': '3'}, 'https://www.instagram.com/p/C_Nn7A1SpaW/': {'Date': '2024-08-28 12:02:17', 'ビュー': '12000.0', 'ビュ ーフォロワー': '92.6%', 'ビューフォロワー以外': '7.4%', 'ホーム': '9951', 'プ ロフィール': '653', 'その他': '265', 'リーチしたアカウント数': '7081', 'インタラクション': '285', 'インタラクション フォロワー': '93.8%', 'インタラクション フォロワー以外': '6.2%', '投稿でのインタラクション': '0', '「いいね！」': '276', '保存数': '8', 'コメント': '1', 'シェア数': '0', 'アクションを実行したアカ ウント': '283', 'プロフィールのアクティビティ': '41', 'プロフィールへのアクセ ス': '41', 'フォロー数': '0'}, 'https://www.instagram.com/p/C_KadIjydDs/': {'Date': '2024-08-27 06:06:53', 'ビュー': '11000.0', 'ビューフォロワー': '86.9%', 'ビューフォロワー以外': '13.1%', 'ホーム': '8571', 'プロフィール': '856', 'その他': '817', 'リーチしたアカウント数': '6845', 'インタラクション': '255', 'インタラクション フォロワー': '85.6%', 'インタラクション フォロワー以外': '14.4%', '投稿でのインタラクション': '0', '「いいね！」': '245', '保存数': '9', 'コ メント': '1', 'シェア数': '0', 'アクションを実行したアカウント': '258', 'プロ フィールのアクティビティ': '18', 'プロフィールへのアクセス': '17', '外部リンクのタップ': '1', 'フォロー数': '0'}, 'https://www.instagram.com/p/C_ICQotRnDR/': {'Date': '2024-08-26 07:56:59', 'ビュー': '21000.0', 'ビューフォロワー': '88.4%', 'ビューフォロワー以外': '11.6%', 'ホーム': 17000, 'その他': '914', 'プロフィール': '781', 'リーチしたアカウント数': 12000, 'インタラクション': '698', 'インタラクション フォロワー': '92.4%', 'インタラクション フォロワー以外': '7.6%', '投稿でのインタラクション': '0', '「いいね！」': '629', '保存数': '68', 'コメント': '1', 'シェア数': '0', 'アクションを実行したアカウント': '676', 'プロフィールのアクティビティ': '135', 'プロフィールへのアクセス': '116', '外 部リンクのタップ': '14', 'フォロー数': '5'}, 'https://www.instagram.com/p/C_CqjmER_mE/': {'Date': '2024-08-24 05:53:40', 'ビュー': '18000.0', 'ビューフォロ ワー': '83.1%', 'ビューフォロワー以外': '16.9%', 'ホーム': 12000, 'プロフィ ール': '858', 'その他': '766', 'リーチしたアカウント数': 10000, 'インタラクシ ョン': '460', 'インタラクション フォロワー': '86.6%', 'インタラクション フォロワー以外': '13.4%', '投稿でのインタラクション': '0', '「いいね！」': '409', ' 保存数': '50', 'コメント': '1', 'シェア数': '0', 'アクションを実行したアカウント': '440', 'プロフィールのアクティビティ': '48', 'プロフィールへのアクセス': '39', '外部リンクのタップ': '4', 'フォロー数': '5'}, 'https://www.instagram.com/p/C_AjrKGSAsr/': {'Date': '2024-08-23 10:15:03', 'ビュー': '12000.0', 'ビュ ーフォロワー': '92.1%', 'ビューフォロワー以外': '7.9%', 'ホーム': '8302', 'プ ロフィール': '735', 'その他': '210', 'リーチしたアカウント数': '5857', 'インタラクション': '169', 'インタラクション フォロワー': '95.3%', 'インタラクション フォロワー以外': '4.7%', '投稿でのインタラクション': '0', '「いいね！」': '163', '保存数': '6', 'コメント': '0', 'シェア数': '0', 'アクションを実行したアカ ウント': '169', 'プロフィールのアクティビティ': '24', 'プロフィールへのアクセ ス': '23', '外部リンクのタップ': '1', 'フォロー数': '0'}, 'https://www.instagram.com/p/C-98jHiyfFP/': {'Date': '2024-08-22 09:55:10', 'ビュー': '19000.0', 'ビューフォロワー': '90.1%', 'ビューフォロワー以外': '9.9%', 'ホーム': 11000, 'その他': '902', '発見から': '849', 'リーチしたアカウント数': '8022', 'インタラクション': '289', 'インタラクション フォロワー': '91.6%', 'インタラクション フォロワー以外': '8.4%', '投稿でのインタラクション': '0', '「いいね！」': '266', '保存数': '22', 'コメント': '0', 'シェア数': '0', 'アクションを実行したアカウント': '276', 'プロフィールのアクティビティ': '69', 'プロフィールへのアクセ ス': '62', '外部リンクのタップ': '3', 'フォロー数': '4'}, 'https://www.instagram.com/p/C-7ZHA2S8n9/': {'Date': '2024-08-21 10:06:31', 'ビュー': '6551', 'ビ ューフォロワー': '87.4%', 'ビューフォロワー以外': '12.6%', 'ホーム': '4377', 'プロフィール': '760', 'その他': '203', 'リーチしたアカウント数': '5200', 'インタラクション': '153', 'インタラクション フォロワー': '89.8%', 'インタラクショ ン フォロワー以外': '10.2%', '投稿でのインタラクション': '0', '「いいね！」': '146', '保存数': '6', 'コメント': '0', 'シェア数': '0', 'アクションを実行した アカウント': '154', 'プロフィールのアクティビティ': '14', 'プロフィールへのア クセス': '12', '外部リンクのタップ': '2', 'フォロー数': '0'}, 'https://www.instagram.com/p/C-5B9HtysaY/': {'Date': '2024-08-20 12:05:43', 'ビュー': '14000.0', 'ビューフォロワー': '87.2%', 'ビューフォロワー以外': '12.8%', 'ホーム': '9865', '発見から': '1015', 'その他': '929', 'リーチしたアカウント数': '7864', ' インタラクション': '379', 'インタラクション フォロワー': '83.9%', 'インタラク ション フォロワー以外': '16.1%', '投稿でのインタラクション': '0', '「いいね！ 」': '348', '保存数': '28', 'コメント': '1', 'シェア数': '0', 'アクションを実 行したアカウント': '363', 'プロフィールのアクティビティ': '41', 'プロフィール へのアクセス': '36', '外部リンクのタップ': '3', 'フォロー数': '2'}, 'https://www.instagram.com/p/C-1rzLdR80X/': {'Date': '2024-08-19 04:54:23', 'ビュー': '7537', 'ビューフォロワー': '87.2%', 'ビューフォロワー以外': '12.8%', 'ホーム': '5245', 'プロフィール': '758', 'その他': '289', 'リーチしたアカウント数': '6066', 'インタラクション': '272', 'インタラクション フォロワー': '92.4%', 'インタラクション フォロワー以外': '7.6%', '投稿でのインタラクション': '0', '「いいね！」': '250', '保存数': '17', 'コメント': '3', 'シェア数': '0', 'アクションを 実行したアカウント': '258', 'プロフィールのアクティビティ': '39', 'プロフィー ルへのアクセス': '31', '外部リンクのタップ': '3', 'フォロー数': '5'}, 'https://www.instagram.com/p/C-zXsY5Rg9C/': {'Date': '2024-08-18 07:20:13', 'ビュー': '8233', 'ビューフォロワー': '86.2%', 'ビューフォロワー以外': '13.8%', 'ホーム': '6717', 'プロフィール': '681', '発見から': '597', 'その他': '238', 'リーチしたアカウント数': '5461', 'インタラクション': '330', 'インタラクション フォロワー': '87.6%', 'インタラクション フォロワー以外': '12.4%', '投稿でのインタラク ション': '0', '「いいね！」': '313', '保存数': '17', 'コメント': '0', 'シェア 数': '0', 'アクションを実行したアカウント': '320', 'プロフィールのアクティビティ': '20', 'プロフィールへのアクセス': '18', '外部リンクのタップ': '2', 'フォ ロー数': '0'}, 'https://www.instagram.com/p/C-xKJCUSA08/': {'Date': '2024-08-17 10:43:20', 'ビュー': '12000.0', 'ビューフォロワー': '90.5%', 'ビューフォロワー以外': '9.5%', 'ホーム': '9018', 'プロフィール': '714', 'その他': '608', 'リーチしたアカウント数': '6588', 'インタラクション': '305', 'インタラクション フォロワー': '88.5%', 'インタラクション フォロワー以外': '11.5%', '投稿でのイン タラクション': '0', '「いいね！」': '289', '保存数': '15', 'コメント': '0', ' シェア数': '0', 'アクションを実行したアカウント': '294', 'プロフィールのアクティビティ': '19', 'プロフィールへのアクセス': '16', '外部リンクのタップ': '3', 'フォロー数': '0'}, 'https://www.instagram.com/p/C-up18zyPap/': {'Date': '2024-08-16 11:22:37', 'ビュー': '13000.0', 'ビューフォロワー': '88.4%', 'ビューフ ォロワー以外': '11.6%', 'ホーム': 11000, 'プロフィール': '1080', '発見から': '559', 'その他': '430', 'リーチしたアカウント数': '8121', 'インタラクション': '350', 'インタラクション フォロワー': '93.3%', 'インタラクション フォロワー以外': '6.7%', '投稿でのインタラクション': '0', '「いいね！」': '328', '保存数': '22', 'コメント': '0', 'シェア数': '0', 'アクションを実行したアカウント': '350', 'プロフィールのアクティビティ': '80', 'プロフィールへのアクセス': '68', ' 外部リンクのタップ': '12', 'フォロー数': '0'}, 'https://www.instagram.com/p/C-rQ-ThyDqF/': {'Date': '2024-08-15 03:47:35', 'ビュー': '101000.0', 'ビューフォロワー': '25.3%', 'ビューフォロワー以外': '74.7%', 'ホーム': 48000, '発見か ら': 42000, 'その他': '1620', 'リーチしたアカウント数': 78000, 'インタラクション': '4277', 'インタラクション フォロワー': '35.1%', 'インタラクション フ ォロワー以外': '64.9%', '投稿でのインタラクション': '0', '「いいね！」': '3713', '保存数': '512', 'コメント': '21', 'シェア数': '0', 'アクションを実行したアカウント': '4251', 'プロフィールのアクティビティ': '1032', 'プロフィールへのアクセス': '788', '外部リンクのタップ': '25', 'フォロー数': '219'}, 'https://www.instagram.com/reel/C-pgcW-SfQT/': {'Date': '2024-08-14 11:24:45', 'ビュー': '13000.0', 'ビュー フォロワー': '', 'ビュー フォロワー以外': '', 'リーチしたア カウント数': '7584', 'インタラクション': '257', 'インタラクション フォロワー': '87.1%', 'インタラクション フォロワー以外': '12.9%', 'リールでのインタラクシ ョン': '0', '「いいね！」': '243', 'コメント': '2', '保存数': '12', 'シェア数': '0', 'アクションを実行したアカウント': '275', 'プロフィールのアクティビティ': '4', 'フォロー数': '4'}, 'https://www.instagram.com/p/C-m2FU2SdLI/': {'Date': '2024-08-13 10:35:39', 'ビュー': '38000.0', 'ビューフォロワー': '34.3%', 'ビューフォロワー以外': '65.7%', '発見から': 22000, 'ホーム': 12000, 'その他': '1182', 'リーチしたアカウント数': 31000, 'インタラクション': '1679', 'インタラクション フォロワー': '35.1%', 'インタラクション フォロワー以外': '64.9%', '投稿でのインタラクション': '0', '「いいね！」': '1495', '保存数': '182', 'コメント': '1', 'シェア数': '0', 'アクションを実行したアカウント': '1673', 'プロフィールのアクティビティ': '304', 'プロフィールへのアクセス': '247', '外部リンクのタップ': '11', 'フォロー数': '46'}, 'https://www.instagram.com/p/C-kJyMfymrO/': {'Date': '2024-08-12 09:30:05', 'ビュー': '13000.0', 'ビューフォロワー': '73.4%', 'ビューフォロワー以外': '26.6%', 'ホーム': '7999', '発見から': '2817', 'その他': '966', 'リーチしたアカウント数': '8741', 'インタラクション': '360', 'インタラクション フォロワー': '74.8%', 'インタラクション フォロワー以外': '25.2%', '投稿でのインタラクション': '0', '「いいね！」': '336', '保存数': '20', 'コメント': '0', 'シェア数': '0', 'アクションを実行したアカウント': '347', 'プロフィールのアクティビティ': '90', 'プロフィールへのアクセス': '74', '外部 リンクのタップ': '9', 'フォロー数': '7'}, 'https://www.instagram.com/p/C-h5t1ByQk0/': {'Date': '2024-08-11 12:31:11', 'ビュー': '9964', 'ビューフォロワー': '95%', 'ビューフォロワー以外': '5%', 'ホーム': '7244', 'プロフィール': '587', 'その他': '147', 'リーチしたアカウント数': '5280', 'インタラクション': '122', 'インタラクション フォロワー': '99.2%', 'インタラクション フォロワー以外': '0.8%', '投稿でのインタラクション': '0', '「いいね！」': '120', '保存数': '2', ' コメント': '0', 'シェア数': '0', 'アクションを実行したアカウント': '122', 'プ ロフィールのアクティビティ': '9', 'プロフィールへのアクセス': '9', 'フォロー数': '0'}, 'https://www.instagram.com/p/C-fdef8S7CV/': {'Date': '2024-08-10 13:45:57', 'ビュー': '14000.0', 'ビューフォロワー': '93.5%', 'ビューフォロワー以外': '6.5%', 'ホーム': 12000, 'プロフィール': '624', 'その他': '180', 'リーチ したアカウント数': '8538', 'インタラクション': '293', 'インタラクション フォロワー': '98.3%', 'インタラクション フォロワー以外': '1.7%', '投稿でのインタラクション': '0', '「いいね！」': '251', '保存数': '38', 'コメント': '0', 'シェア 数': '0', 'アクションを実行したアカウント': '288', 'プロフィールのアクティビティ': '87', 'プロフィールへのアクセス': '81', '外部リンクのタップ': '4', 'フォ ロー数': '2'}, 'https://www.instagram.com/p/C-aemPUyxzW/': {'Date': '2024-08-08 15:19:33', 'ビュー': '15000.0', 'ビューフォロワー': '69.7%', 'ビューフォロワー以外': '30.3%', 'ホーム': '9948', '発見から': '2053', 'その他': '984', 'リーチしたアカウント数': 10000, 'インタラクション': '763', 'インタラクション フォ ロワー': '73.5%', 'インタラクション フォロワー以外': '26.5%', '投稿でのインタ ラクション': '0', '「いいね！」': '671', '保存数': '78', 'コメント': '2', 'シ ェア数': '0', 'アクションを実行したアカウント': '719', 'プロフィールのアクティビティ': '113', 'プロフィールへのアクセス': '100', '外部リンクのタップ': '9', 'フォロー数': '4'}, 'https://www.instagram.com/p/C-Z4meRSABr/': {'Date': '2024-08-08 09:47:31', 'ビュー': '20000.0', 'ビューフォロワー': '68%', 'ビューフォ ロワー以外': '32%', 'ホーム': 15000, 'その他': '835', 'プロフィール': '811', 'リーチしたアカウント数': 13000, 'インタラクション': '620', 'インタラクション フォロワー': '91.6%', 'インタラクション フォロワー以外': '8.4%', '投稿での インタラクション': '0', '「いいね！」': '561', '保存数': '49', 'コメント': '2', 'シェア数': '0', 'アクションを実行したアカウント': '609', 'プロフィールのア クティビティ': '67', 'プロフィールへのアクセス': '63', '外部リンクのタップ': '1', 'フォロー数': '3'}, 'https://www.instagram.com/p/C-W-ioeR33c/': {'Date': '2024-08-07 06:41:42', 'ビュー': '15000.0', 'ビューフォロワー': '81.2%', 'ビュ ーフォロワー以外': '18.8%', 'ホーム': 11000, '発見から': '2185', 'その他': '970', 'リーチしたアカウント数': '9778', 'インタラクション': '479', 'インタラクション フォロワー': '76.4%', 'インタラクション フォロワー以外': '23.6%', '投稿でのインタラクション': '0', '「いいね！」': '434', '保存数': '42', 'コメント': '2', 'シェア数': '0', 'アクションを実行したアカウント': '469', 'プロフィール のアクティビティ': '78', 'プロフィールへのアクセス': '69', '外部リンクのタップ': '5', 'フォロー数': '4'}, 'https://www.instagram.com/p/C-U0QlHvo5a/': {'Date': '2024-08-06 10:33:23', 'ビュー': '10000.0', 'ビューフォロワー': '86.6%', ' ビューフォロワー以外': '13.4%', 'ホーム': '7653', 'プロフィール': '1043', 'そ の他': '459', 'リーチしたアカウント数': '6637', 'インタラクション': '307', 'インタラクション フォロワー': '86.5%', 'インタラクション フォロワー以外': '13.5%', '投稿でのインタラクション': '0', '「いいね！」': '290', '保存数': '14', 'コメント': '0', 'シェア数': '0', 'アクションを実行したアカウント': '306', 'プロ フィールのアクティビティ': '23', 'プロフィールへのアクセス': '22', '外部リンクのタップ': '1', 'フォロー数': '0'}, 'https://www.instagram.com/p/C-SR_4ASVDJ/': {'Date': '2024-08-05 10:55:31', 'ビュー': '13000.0', 'ビューフォロワー': '66.3%', 'ビューフォロワー以外': '33.7%', 'ホーム': '7289', '発見から': '3153', 'その他': '1036', 'リーチしたアカウント数': '9251', 'インタラクション': '523', 'インタラクション フォロワー': '56.7%', 'インタラクション フォロワー以外': '43.3%', '投稿でのインタラクション': '0', '「いいね！」': '456', '保存数': '52', 'コメント': '3', 'シェア数': '0', 'アクションを実行したアカウント': '499', 'プロフィールのアクティビティ': '73', 'プロフィールへのアクセス': '58', '外部リンクのタップ': '3', 'フォロー数': '12'}, 'https://www.instagram.com/p/C-PfWqSRLD7/': {'Date': '2024-08-04 08:54:30', 'ビュー': '13000.0', 'ビューフォロワー': '85.5%', 'ビューフォロワー以外': '14.5%', 'ホーム': '9850', 'プロフィール': '1082', 'その他': '733', 'リーチしたアカウント数': '8040', 'インタラクション': '326', 'インタラクション フォロワー': '83.6%', 'インタラクション フォロワー以外': '16.4%', '投稿でのインタラクション': '0', '「いいね！」': '292', '保存数': '32', 'コメント': '0', 'シェア数': '0', 'アクションを実行したアカウント': '314', 'プロフィールのアクティビティ': '12', 'プロフィールへのアクセス': '10', '外部リンクのタップ': '1', 'フォロー数': '1'}, 'https://www.instagram.com/p/C-NGQTuywaA/': {'Date': '2024-08-03 10:36:42', 'ビュー': '15000.0', 'ビューフォロワー': '87.1%', 'ビューフォロワー以外': '12.9%', 'ホーム': 11000, '発見から': '1192', 'その他': '993', 'リーチしたアカウント数': '8187', 'インタラクション': '386', 'インタラクション フォロワー': '89.5%', 'インタラクション フォロワー以外': '10.5%', '投稿でのインタラクション': '0', '「いいね！」': '355', '保存数': '21', 'コメント': '1', 'シェア数': '0', 'アクションを実行したアカウント': '359', 'プロフィールのアクティビティ': '74', 'プロフィールへのアクセス': '67', '外部リンクのタップ': '3', 'フォロー数': '4'}, 'https://www.instagram.com/p/C-KYGR6SRjT/': {'Date': '2024-08-02 09:14:54', 'ビュー': '11000.0', 'ビューフォロワー': '59.7%', 'ビューフォロワー以外': '40.3%', 'ホーム': '5711', 'プロフィール': '1023', 'その他': '547', 'リーチしたアカウント数': '6558', 'インタラクシ ョン': '245', 'インタラクション フォロワー': '81.4%', 'インタラクション フォロワー以外': '18.6%', '投稿でのインタラクション': '0', '「いいね！」': '227', ' 保存数': '14', 'コメント': '0', 'シェア数': '0', 'アクションを実行したアカウント': '236', 'プロフィールのアクティビティ': '21', 'プロフィールへのアクセス': '21', 'フォロー数': '0'}, 'https://www.instagram.com/p/C-H7smOvsyo/': {'Date': '2024-08-01 10:28:15', 'ビュー': '9197', 'ビューフォロワー': '87.4%', 'ビューフォロワー以外': '12.6%', 'ホーム': '5523', 'プロフィール': '898', 'その他': '325', 'リーチしたアカウント数': '4806', 'インタラクション': '185', 'インタラクション フォロワー': '85.6%', 'インタラクション フォロワー以外': '14.4%', '投稿でのインタラクション': '0', '「いいね！」': '176', '保存数': '8', 'コメント': '0', 'シェア数': '0', 'アクションを実行したアカウント': '191', 'プロフィールのアクティビティ': '24', 'プロフィールへのアクセス': '22', '外部リンクのタップ': '2', 'フォロー数': '0'}}\n"
     ]
    }
   ],
   "source": [
    "# format value \n",
    "for url,postData in data.items():\n",
    "    for key,value in postData.items():\n",
    "        if '万' in value:\n",
    "            str_num = value[0:-1]\n",
    "            str_value = int(float(str_num)*10000)\n",
    "            postData.update({key:str_value})\n",
    "print(data)"
   ]
  },
  {
   "cell_type": "code",
   "execution_count": 31,
   "metadata": {},
   "outputs": [
    {
     "name": "stdout",
     "output_type": "stream",
     "text": [
      "{'https://www.instagram.com/p/DAVZYNYSHjH/': {'Date': '2024-09-25 09:00:31', 'ビュー': '14000.0', 'ビューフォロワー': '94.8%', 'ビューフォロワー以外': '5.2%', 'ホーム': 11000, '発見から': '420', 'その他': '178', 'リーチしたアカウント数': '7304', 'インタラクション': '285', 'インタラクションフォロワー': '91.3%', 'インタラクションフォロワー以外': '8.7%', '投稿でのインタラクション': '0', '「いいね！」': '267', '保存数': '17', 'コメント': '1', 'シェア数': '0', 'アクションを実行したアカウント': '275', 'プロフィールのアクティビティ': '15', 'プロフィールへのアクセス': '13', 'フォロー数': '2'}, 'https://www.instagram.com/p/DASX6WFy5Ld/': {'Date': '2024-09-24 04:49:59', 'ビュー': '5611', 'ビューフォロワー': '89.6%', 'ビューフォロワー以外': '10.4%', 'ホーム': '4896', 'その他': '162', 'ハッシュタグ': '118', 'リーチしたアカウント数': '3466', 'インタラクション': '156', 'インタラクションフォロワー': '92.5%', 'インタラクションフォロワー以外': '7.5%', '投稿でのインタラクション': '0', '「いいね！」': '147', '保存数': '6', 'コメント': '0', 'シェア数': '0', 'アクションを実行したアカウント': '156', 'プロフィールのアクティビティ': '12', 'プロフィールへのアクセス': '11', '外部リンクのタップ': '1', 'フォロー数': '0'}, 'https://www.instagram.com/p/DAQNZ9rS4vv/': {'Date': '2024-09-23 08:39:42', 'ビュー': '7675', 'ビューフォロワー': '97.6%', 'ビューフォロワー以外': '2.4%', 'ホーム': '6334', 'プロフィール': '128', 'その他': '35', 'リーチしたアカウント数': '4227', 'インタラクション': '94', 'インタラクションフォロワー': '100%', 'インタラクションフォロワー以外': '0%', '投稿でのインタラクション': '0', '「いいね！」': '91', '保存数': '3', 'コメント': '0', 'シェア数': '0', 'アクションを実行したアカウント': '98', 'プロフィールのアクティビティ': '42', 'プロフィールへのアクセス': '32', '外部リンクのタップ': '10', 'フォロー数': '0'}, 'https://www.instagram.com/p/DANX_LfRGW4/': {'Date': '2024-09-22 06:14:27', 'ビュー': '16000.0', 'ビューフォロワー': '92.7%', 'ビューフォロワー以外': '7.3%', 'ホーム': 10000, '発見から': '752', 'その他': '316', 'リーチしたアカウント数': '7066', 'インタラクション': '341', 'インタラクションフォロワー': '85.2%', 'インタラクションフォロワー以外': '14.8%', '投稿でのインタラクション': '0', '「いいね！」': '329', '保存数': '11', 'コメント': '0', 'シェア数': '0', 'アクションを実行したアカウント': '330', 'プロフィールのアクティビティ': '39', 'プロフィールへのアクセス': '37', '外部リンクのタップ': '1', 'フォロー数': '1'}, 'https://www.instagram.com/p/DALSUyhveyl/': {'Date': '2024-09-21 10:46:29', 'ビュー': '21000.0', 'ビューフォロワー': '63%', 'ビューフォロワー以外': '37%', 'ホーム': 10000, '発見から': '6867', 'その他': '369', 'リーチしたアカウント数': 14000, 'インタラクション': '781', 'インタラクションフォロワー': '47.5%', 'インタラクションフォロワー以外': '52.5%', '投稿でのインタラクション': '0', '「いいね！」': '684', '保存数': '87', 'コメント': '4', 'シェア数': '0', 'アクションを実行したアカウント': '741', 'プロフィールのアクティビティ': '142', 'プロフィールへのアクセス': '127', '外部リンクのタップ': '2', 'フォロー数': '13'}, 'https://www.instagram.com/p/DAM0D6FyQZV/': {'Date': '2024-09-21 02:52:37', 'ビュー': '13000.0', 'ビューフォロワー': '91.3%', 'ビューフォロワー以外': '8.7%', 'ホーム': '9469', '発見から': '588', 'その他': '402', 'リーチしたアカウント数': '6789', 'インタラクション': '332', 'インタラクションフォロワー': '84.6%', 'インタラクションフォロワー以外': '15.4%', '投稿でのインタラクション': '0', '「いいね！」': '294', '保存数': '34', 'コメント': '1', 'シェア数': '0', 'アクションを実行したアカウント': '333', 'プロフィールのアクティビティ': '43', 'プロフィールへのアクセス': '39', '外部リンクのタップ': '1', 'フォロー数': '3'}, 'https://www.instagram.com/p/DAIc5-eSp0G/': {'Date': '2024-09-20 08:21:13', 'ビュー': '9885', 'ビューフォロワー': '94.1%', 'ビューフォロワー以外': '5.9%', 'ホーム': '7678', 'その他': '293', 'プロフィール': '254', 'リーチしたアカウント数': '5336', 'インタラクション': '236', 'インタラクションフォロワー': '92.1%', 'インタラクションフォロワー以外': '7.9%', '投稿でのインタラクション': '0', '「いいね！」': '219', '保存数': '15', 'コメント': '0', 'シェア数': '0', 'アクションを実行したアカウント': '234', 'プロフィールのアクティビティ': '30', 'プロフィールへのアクセス': '25', '外部リンクのタップ': '3', 'フォロー数': '2'}, 'https://www.instagram.com/p/DAFxUQZSDTo/': {'Date': '2024-09-19 07:21:51', 'ビュー': '22000.0', 'ビューフォロワー': '62.6%', 'ビューフォロワー以外': '37.4%', 'ホーム': 12000, '発見から': '6949', 'その他': '590', 'リーチしたアカウント数': 14000, 'インタラクション': '1168', 'インタラクションフォロワー': '52.4%', 'インタラクションフォロワー以外': '47.6%', '投稿でのインタラクション': '0', '「いいね！」': '1048', '保存数': '108', 'コメント': '4', 'シェア数': '0', 'アクションを実行したアカウント': '1098', 'プロフィールのアクティビティ': '95', 'プロフィールへのアクセス': '85', '外部リンクのタップ': '2', 'フォロー数': '8'}, 'https://www.instagram.com/p/DADl7hSyiyj/': {'Date': '2024-09-18 11:03:52', 'ビュー': '11000.0', 'ビューフォロワー': '86.9%', 'ビューフォロワー以外': '13.1%', 'ホーム': '8275', 'その他': '416', '発見から': '352', 'リーチしたアカウント数': '6416', 'インタラクション': '301', 'インタラクションフォロワー': '86.5%', 'インタラクションフォロワー以外': '13.5%', '投稿でのインタラクション': '0', '「いいね！」': '279', '保存数': '17', 'コメント': '1', 'シェア数': '0', 'アクションを実行したアカウント': '285', 'プロフィールのアクティビティ': '22', 'プロフィールへのアクセス': '20', 'フォロー数': '2'}, 'https://www.instagram.com/p/DAAwn49RmYw/': {'Date': '2024-09-17 08:39:35', 'ビュー': '7881', 'ビューフォロワー': '94.7%', 'ビューフォロワー以外': '5.3%', 'ホーム': '6585', 'プロフィール': '270', 'その他': '223', 'リーチしたアカウント数': '6362', 'インタラクション': '119', 'インタラクションフォロワー': '92.6%', 'インタラクションフォロワー以外': '7.4%', '投稿でのインタラクション': '0', '「いいね！」': '109', '保存数': '10', 'コメント': '0', 'シェア数': '0', 'アクションを実行したアカウント': '116', 'プロフィールのアクティビティ': '39', 'プロフィールへのアクセス': '34', '外部リンクのタップ': '5', 'フォロー数': '0'}, 'https://www.instagram.com/p/C_-Xsl9ykQZ/': {'Date': '2024-09-16 10:23:18', 'ビュー': '13000.0', 'ビューフォロワー': '93.4%', 'ビューフォロワー以外': '6.6%', 'ホーム': '9307', 'プロフィール': '321', 'その他': '167', 'リーチしたアカウント数': '6566', 'インタラクション': '247', 'インタラクションフォロワー': '93.5%', 'インタラクションフォロワー以外': '6.5%', '投稿でのインタラクション': '0', '「いいね！」': '232', '保存数': '14', 'コメント': '0', 'シェア数': '0', 'アクションを実行したアカウント': '240', 'プロフィールのアクティビティ': '29', 'プロフィールへのアクセス': '28', '外部リンクのタップ': '1', 'フォロー数': '0'}, 'https://www.instagram.com/p/C_7GW1jSqg2/': {'Date': '2024-09-15 03:54:04', 'ビュー': '14000.0', 'ビューフォロワー': '75.5%', 'ビューフォロワー以外': '24.5%', 'ホーム': '8869', '発見から': '1159', 'その他': '461', 'リーチしたアカウント数': '8173', 'インタラクション': '291', 'インタラクションフォロワー': '84.7%', 'インタラクションフォロワー以外': '15.3%', '投稿でのインタラクション': '0', '「いいね！」': '266', '保存数': '21', 'コメント': '0', 'シェア数': '0', 'アクションを実行したアカウント': '279', 'プロフィールのアクティビティ': '53', 'プロフィールへのアクセス': '48', '外部リンクのタップ': '4', 'フォロー数': '1'}, 'https://www.instagram.com/p/C_4HPztTfEM/': {'Date': '2024-09-14 00:52:18', 'ビュー': '15000.0', 'ビューフォロワー': '84.6%', 'ビューフォロワー以外': '15.4%', 'ホーム': 11000, '発見から': '856', 'その他': '553', 'リーチしたアカウント数': '9566', 'インタラクション': '502', 'インタラクションフォロワー': '88.5%', 'インタラクションフォロワー以外': '11.5%', '投稿でのインタラクション': '0', '「いいね！」': '465', '保存数': '25', 'コメント': '5', 'シェア数': '0', 'アクションを実行したアカウント': '493', 'プロフィールのアクティビティ': '59', 'プロフィールへのアクセス': '56', 'フォロー数': '3'}, 'https://www.instagram.com/reel/C_21B9cSORC/': {'Date': '2024-09-13 12:07:30', 'ビュー': '12000.0', 'ビューフォロワー': '', 'ビューフォロワー以外': '', 'リーチしたアカウント数': '8047', 'インタラクション': '228', 'インタラクションフォロワー': '96.2%', 'インタラクションフォロワー以外': '3.8%', 'リールでのインタラクション': '0', '「いいね！」': '214', 'コメント': '0', '保存数': '7', 'シェア数': '0', 'アクションを実行したアカウント': '226', 'プロフィールのアクティビティ': '0', 'フォロー数': '0'}, 'https://www.instagram.com/p/C_ziIz4ytkc/': {'Date': '2024-09-12 05:22:53', 'ビュー': '16000.0', 'ビューフォロワー': '88.1%', 'ビューフォロワー以外': '11.9%', 'ホーム': 12000, 'プロフィール': '459', 'その他': '100', 'リーチしたアカウント数': '8956', 'インタラクション': '182', 'インタラクションフォロワー': '95.2%', 'インタラクションフォロワー以外': '4.8%', '投稿でのインタラクション': '0', '「いいね！」': '165', '保存数': '15', 'コメント': '0', 'シェア数': '0', 'アクションを実行したアカウント': '182', 'プロフィールのアクティビティ': '38', 'プロフィールへのアクセス': '32', '外部リンクのタップ': '3', 'フォロー数': '3'}, 'https://www.instagram.com/p/C_xhD9zyLab/': {'Date': '2024-09-11 10:35:00', 'ビュー': '18000.0', 'ビューフォロワー': '61%', 'ビューフォロワー以外': '39%', 'ホーム': 10000, '発見から': '5836', 'その他': '570', 'リーチしたアカウント数': 13000, 'インタラクション': '444', 'インタラクションフォロワー': '54.5%', 'インタラクションフォロワー以外': '45.5%', '投稿でのインタラクション': '0', '「いいね！」': '414', '保存数': '28', 'コメント': '0', 'シェア数': '0', 'アクションを実行したアカウント': '439', 'プロフィールのアクティビティ': '74', 'プロフィールへのアクセス': '63', '外部リンクのタップ': '6', 'フォロー数': '5'}, 'https://www.instagram.com/reel/C_rzU3KSAzS/': {'Date': '2024-09-09 05:20:42', 'ビュー': '18000.0', 'ビューフォロワー': '', 'ビューフォロワー以外': '', 'リーチしたアカウント数': 12000, 'インタラクション': '664', 'インタラクションフォロワー': '68.5%', 'インタラクションフォロワー以外': '31.5%', 'リールでのインタラクション': '0', '「いいね！」': '600', 'コメント': '5', '保存数': '54', 'シェア数': '0', 'アクションを実行したアカウント': '636', 'プロフィールのアクティビティ': '16', 'フォロー数': '16'}, 'https://www.instagram.com/p/C_pnG1Fx9tO/': {'Date': '2024-09-08 08:53:54', 'ビュー': '11000.0', 'ビューフォロワー': '88.3%', 'ビューフォロワー以外': '11.7%', 'ホーム': '8478', '発見から': '700', 'その他': '460', 'リーチしたアカウント数': '6466', 'インタラクション': '464', 'インタラクションフォロワー': '81.7%', 'インタラクションフォロワー以外': '18.3%', '投稿でのインタラクション': '0', '「いいね！」': '438', '保存数': '22', 'コメント': '0', 'シェア数': '0', 'アクションを実行したアカウント': '445', 'プロフィールのアクティビティ': '35', 'プロフィールへのアクセス': '29', '外部リンクのタップ': '4', 'フォロー数': '2'}, 'https://www.instagram.com/p/C_m-SMHx95K/': {'Date': '2024-09-07 08:18:42', 'ビュー': '13000.0', 'ビューフォロワー': '83.4%', 'ビューフォロワー以外': '16.6%', 'ホーム': '9315', '発見から': '1632', 'その他': '636', 'リーチしたアカウント数': '7828', 'インタラクション': '294', 'インタラクションフォロワー': '78.5%', 'インタラクションフォロワー以外': '21.5%', '投稿でのインタラクション': '0', '「いいね！」': '279', '保存数': '14', 'コメント': '1', 'シェア数': '0', 'アクションを実行したアカウント': '293', 'プロフィールのアクティビティ': '21', 'プロフィールへのアクセス': '19', '外部リンクのタップ': '2', 'フォロー数': '0'}, 'https://www.instagram.com/p/C_klwgSSZgN/': {'Date': '2024-09-06 10:05:55', 'ビュー': '24000.0', 'ビューフォロワー': '57.9%', 'ビューフォロワー以外': '42.1%', 'ホーム': 13000, '発見から': '5731', 'その他': '883', 'リーチしたアカウント数': 16000, 'インタラクション': '1247', 'インタラクションフォロワー': '55.8%', 'インタラクションフォロワー以外': '44.2%', '投稿でのインタラクション': '0', '「いいね！」': '1081', '保存数': '152', 'コメント': '4', 'シェア数': '0', 'アクションを実行したアカウント': '1194', 'プロフィールのアクティビティ': '12', 'プロフィールへのアクセス': '1', 'フォロー数': '11'}, 'https://www.instagram.com/p/C_j10cDygQv/': {'Date': '2024-09-06 03:07:01', 'ビュー': '11000.0', 'ビューフォロワー': '78.7%', 'ビューフォロワー以外': '21.3%', 'ホーム': '4787', 'プロフィール': '635', 'その他': '67', 'リーチしたアカウント数': '6669', 'インタラクション': '86', 'インタラクションフォロワー': '95.4%', 'インタラクションフォロワー以外': '4.6%', '投稿でのインタラクション': '0', '「いいね！」': '85', '保存数': '1', 'コメント': '0', 'シェア数': '0', 'アクションを実行したアカウント': '87', 'プロフィールのアクティビティ': '11', 'プロフィールへのアクセス': '11', 'フォロー数': '0'}, 'https://www.instagram.com/p/C_h9txpya32/': {'Date': '2024-09-05 09:37:32', 'ビュー': '12000.0', 'ビューフォロワー': '87.4%', 'ビューフォロワー以外': '12.6%', 'ホーム': '8357', '発見から': '998', 'その他': '603', 'リーチしたアカウント数': '6693', 'インタラクション': '284', 'インタラクションフォロワー': '72.5%', 'インタラクションフォロワー以外': '27.5%', '投稿でのインタラクション': '0', '「いいね！」': '263', '保存数': '20', 'コメント': '1', 'シェア数': '0', 'アクションを実行したアカウント': '269', 'プロフィールのアクティビティ': '32', 'プロフィールへのアクセス': '31', 'フォロー数': '1'}, 'https://www.instagram.com/p/C_fjcqkSFwT/': {'Date': '2024-09-04 11:09:31', 'ビュー': '13000.0', 'ビューフォロワー': '73.8%', 'ビューフォロワー以外': '26.2%', 'ホーム': '7625', '発見から': '1024', 'その他': '668', 'リーチしたアカウント数': '8116', 'インタラクション': '286', 'インタラクションフォロワー': '78.5%', 'インタラクションフォロワー以外': '21.5%', '投稿でのインタラクション': '0', '「いいね！」': '268', '保存数': '17', 'コメント': '0', 'シェア数': '0', 'アクションを実行したアカウント': '291', 'プロフィールのアクティビティ': '60', 'プロフィールへのアクセス': '56', '外部リンクのタップ': '2', 'フォロー数': '2'}, 'https://www.instagram.com/p/C_fWSwMStdQ/': {'Date': '2024-09-04 09:14:34', 'ビュー': '16000.0', 'ビューフォロワー': '71.7%', 'ビューフォロワー以外': '28.3%', 'ホーム': 10000, '発見から': '3319', 'その他': '848', 'リーチしたアカウント数': 11000, 'インタラクション': '734', 'インタラクションフォロワー': '71.4%', 'インタラクションフォロワー以外': '28.6%', '投稿でのインタラクション': '0', '「いいね！」': '669', '保存数': '62', 'コメント': '1', 'シェア数': '0', 'アクションを実行したアカウント': '707', 'プロフィールのアクティビティ': '75', 'プロフィールへのアクセス': '67', '外部リンクのタップ': '2', 'フォロー数': '6'}, 'https://www.instagram.com/p/C_cm7YiRyz8/': {'Date': '2024-09-03 07:42:13', 'ビュー': '15000.0', 'ビューフォロワー': '71.2%', 'ビューフォロワー以外': '28.8%', 'ホーム': 10000, '発見から': '3571', 'その他': '565', 'プロフィール': '514', 'リーチしたアカウント数': 10000, 'インタラクション': '443', 'インタラクションフォロワー': '68.1%', 'インタラクションフォロワー以外': '31.9%', '投稿でのインタラクション': '0', '「いいね！」': '408', '保存数': '31', 'コメント': '1', 'シェア数': '0', 'アクションを実行したアカウント': '428', 'プロフィールのアクティビティ': '98', 'プロフィールへのアクセス': '89', '外部リンクのタップ': '7', 'フォロー数': '2'}, 'https://www.instagram.com/p/C_aRS1iy5LG/': {'Date': '2024-09-02 09:54:42', 'ビュー': '7773', 'ビューフォロワー': '89.7%', 'ビューフォロワー以外': '10.3%', 'ホーム': '6594', 'プロフィール': '737', 'その他': '279', 'リーチしたアカウント数': '5158', 'インタラクション': '254', 'インタラクションフォロワー': '95.3%', 'インタラクションフォロワー以外': '4.7%', '投稿でのインタラクション': '0', '「いいね！」': '238', '保存数': '16', 'コメント': '0', 'シェア数': '0', 'アクションを実行したアカウント': '257', 'プロフィールのアクティビティ': '21', 'プロフィールへのアクセス': '18', '外部リンクのタップ': '3', 'フォロー数': '0'}, 'https://www.instagram.com/p/C_XQrEgxN5u/': {'Date': '2024-09-01 05:51:32', 'ビュー': '8743', 'ビューフォロワー': '91.4%', 'ビューフォロワー以外': '8.6%', 'ホーム': '7639', 'プロフィール': '551', 'その他': '201', 'リーチしたアカウント数': '5207', 'インタラクション': '139', 'インタラクションフォロワー': '87.6%', 'インタラクションフォロワー以外': '12.4%', '投稿でのインタラクション': '0', '「いいね！」': '127', '保存数': '9', 'コメント': '0', 'シェア数': '0', 'アクションを実行したアカウント': '141', 'プロフィールのアクティビティ': '25', 'プロフィールへのアクセス': '23', '外部リンクのタップ': '2', 'フォロー数': '0'}, 'https://www.instagram.com/p/C_UsgjTRWRM/': {'Date': '2024-08-31 05:57:03', 'ビュー': '10000.0', 'ビューフォロワー': '80.8%', 'ビューフォロワー以外': '19.2%', 'ホーム': '5903', 'プロフィール': '486', 'その他': '218', 'リーチしたアカウント数': '4505', 'インタラクション': '146', 'インタラクションフォロワー': '94%', 'インタラクションフォロワー以外': '6%', '投稿でのインタラクション': '0', '「いいね！」': '140', '保存数': '3', 'コメント': '0', 'シェア数': '0', 'アクションを実行したアカウント': '147', 'プロフィールのアクティビティ': '0', 'プロフィールへのアクセス': '0', 'フォロー数': '0'}, 'https://www.instagram.com/p/C_UYREeyQ5o/': {'Date': '2024-08-31 03:00:10', 'ビュー': '7537', 'ビューフォロワー': '90%', 'ビューフォロワー以外': '10%', 'ホーム': '6484', 'プロフィール': '498', 'その他': '298', '発見から': '257', 'リーチしたアカウント数': '4806', 'インタラクション': '240', 'インタラクションフォロワー': '90.6%', 'インタラクションフォロワー以外': '9.4%', '投稿でのインタラクション': '0', '「いいね！」': '232', '保存数': '8', 'コメント': '0', 'シェア数': '0', 'アクションを実行したアカウント': '241', 'プロフィールのアクティビティ': '36', 'プロフィールへのアクセス': '29', '外部リンクのタップ': '6', 'フォロー数': '1'}, 'https://www.instagram.com/p/C_Srtqcy-yn/': {'Date': '2024-08-30 11:12:24', 'ビュー': '8978', 'ビューフォロワー': '94.2%', 'ビューフォロワー以外': '5.8%', 'ホーム': '5773', 'プロフィール': '555', 'その他': '107', 'リーチしたアカウント数': '4291', 'インタラクション': '199', 'インタラクションフォロワー': '95.5%', 'インタラクションフォロワー以外': '4.5%', '投稿でのインタラクション': '0', '「いいね！」': '192', '保存数': '7', 'コメント': '0', 'シェア数': '0', 'アクションを実行したアカウント': '198', 'プロフィールのアクティビティ': '11', 'プロフィールへのアクセス': '10', '外部リンクのタップ': '1', 'フォロー数': '0'}, 'https://www.instagram.com/p/C_P4hNgSYMN/': {'Date': '2024-08-29 09:05:48', 'ビュー': '13000.0', 'ビューフォロワー': '79.3%', 'ビューフォロワー以外': '20.7%', 'ホーム': '8794', '発見から': '1901', 'その他': '757', 'リーチしたアカウント数': '8274', 'インタラクション': '553', 'インタラクションフォロワー': '68%', 'インタラクションフォロワー以外': '32%', '投稿でのインタラクション': '0', '「いいね！」': '503', '保存数': '50', 'コメント': '0', 'シェア数': '0', 'アクションを実行したアカウント': '530', 'プロフィールのアクティビティ': '54', 'プロフィールへのアクセス': '50', '外部リンクのタップ': '1', 'フォロー数': '3'}, 'https://www.instagram.com/p/C_Nn7A1SpaW/': {'Date': '2024-08-28 12:02:17', 'ビュー': '12000.0', 'ビューフォロワー': '92.6%', 'ビューフォロワー以外': '7.4%', 'ホーム': '9951', 'プロフィール': '653', 'その他': '265', 'リーチしたアカウント数': '7081', 'インタラクション': '285', 'インタラクションフォロワー': '93.8%', 'インタラクションフォロワー以外': '6.2%', '投稿でのインタラクション': '0', '「いいね！」': '276', '保存数': '8', 'コメント': '1', 'シェア数': '0', 'アクションを実行したアカウント': '283', 'プロフィールのアクティビティ': '41', 'プロフィールへのアクセス': '41', 'フォロー数': '0'}, 'https://www.instagram.com/p/C_KadIjydDs/': {'Date': '2024-08-27 06:06:53', 'ビュー': '11000.0', 'ビューフォロワー': '86.9%', 'ビューフォロワー以外': '13.1%', 'ホーム': '8571', 'プロフィール': '856', 'その他': '817', 'リーチしたアカウント数': '6845', 'インタラクション': '255', 'インタラクションフォロワー': '85.6%', 'インタラクションフォロワー以外': '14.4%', '投稿でのインタラクション': '0', '「いいね！」': '245', '保存数': '9', 'コメント': '1', 'シェア数': '0', 'アクションを実行したアカウント': '258', 'プロフィールのアクティビティ': '18', 'プロフィールへのアクセス': '17', '外部リンクのタップ': '1', 'フォロー数': '0'}, 'https://www.instagram.com/p/C_ICQotRnDR/': {'Date': '2024-08-26 07:56:59', 'ビュー': '21000.0', 'ビューフォロワー': '88.4%', 'ビューフォロワー以外': '11.6%', 'ホーム': 17000, 'その他': '914', 'プロフィール': '781', 'リーチしたアカウント数': 12000, 'インタラクション': '698', 'インタラクションフォロワー': '92.4%', 'インタラクションフォロワー以外': '7.6%', '投稿でのインタラクション': '0', '「いいね！」': '629', '保存数': '68', 'コメント': '1', 'シェア数': '0', 'アクションを実行したアカウント': '676', 'プロフィールのアクティビティ': '135', 'プロフィールへのアクセス': '116', '外部リンクのタップ': '14', 'フォロー数': '5'}, 'https://www.instagram.com/p/C_CqjmER_mE/': {'Date': '2024-08-24 05:53:40', 'ビュー': '18000.0', 'ビューフォロワー': '83.1%', 'ビューフォロワー以外': '16.9%', 'ホーム': 12000, 'プロフィール': '858', 'その他': '766', 'リーチしたアカウント数': 10000, 'インタラクション': '460', 'インタラクションフォロワー': '86.6%', 'インタラクションフォロワー以外': '13.4%', '投稿でのインタラクション': '0', '「いいね！」': '409', '保存数': '50', 'コメント': '1', 'シェア数': '0', 'アクションを実行したアカウント': '440', 'プロフィールのアクティビティ': '48', 'プロフィールへのアクセス': '39', '外部リンクのタップ': '4', 'フォロー数': '5'}, 'https://www.instagram.com/p/C_AjrKGSAsr/': {'Date': '2024-08-23 10:15:03', 'ビュー': '12000.0', 'ビューフォロワー': '92.1%', 'ビューフォロワー以外': '7.9%', 'ホーム': '8302', 'プロフィール': '735', 'その他': '210', 'リーチしたアカウント数': '5857', 'インタラクション': '169', 'インタラクションフォロワー': '95.3%', 'インタラクションフォロワー以外': '4.7%', '投稿でのインタラクション': '0', '「いいね！」': '163', '保存数': '6', 'コメント': '0', 'シェア数': '0', 'アクションを実行したアカウント': '169', 'プロフィールのアクティビティ': '24', 'プロフィールへのアクセス': '23', '外部リンクのタップ': '1', 'フォロー数': '0'}, 'https://www.instagram.com/p/C-98jHiyfFP/': {'Date': '2024-08-22 09:55:10', 'ビュー': '19000.0', 'ビューフォロワー': '90.1%', 'ビューフォロワー以外': '9.9%', 'ホーム': 11000, 'その他': '902', '発見から': '849', 'リーチしたアカウント数': '8022', 'インタラクション': '289', 'インタラクションフォロワー': '91.6%', 'インタラクションフォロワー以外': '8.4%', '投稿でのインタラクション': '0', '「いいね！」': '266', '保存数': '22', 'コメント': '0', 'シェア数': '0', 'アクションを実行したアカウント': '276', 'プロフィールのアクティビティ': '69', 'プロフィールへのアクセス': '62', '外部リンクのタップ': '3', 'フォロー数': '4'}, 'https://www.instagram.com/p/C-7ZHA2S8n9/': {'Date': '2024-08-21 10:06:31', 'ビュー': '6551', 'ビューフォロワー': '87.4%', 'ビューフォロワー以外': '12.6%', 'ホーム': '4377', 'プロフィール': '760', 'その他': '203', 'リーチしたアカウント数': '5200', 'インタラクション': '153', 'インタラクションフォロワー': '89.8%', 'インタラクションフォロワー以外': '10.2%', '投稿でのインタラクション': '0', '「いいね！」': '146', '保存数': '6', 'コメント': '0', 'シェア数': '0', 'アクションを実行したアカウント': '154', 'プロフィールのアクティビティ': '14', 'プロフィールへのアクセス': '12', '外部リンクのタップ': '2', 'フォロー数': '0'}, 'https://www.instagram.com/p/C-5B9HtysaY/': {'Date': '2024-08-20 12:05:43', 'ビュー': '14000.0', 'ビューフォロワー': '87.2%', 'ビューフォロワー以外': '12.8%', 'ホーム': '9865', '発見から': '1015', 'その他': '929', 'リーチしたアカウント数': '7864', 'インタラクション': '379', 'インタラクションフォロワー': '83.9%', 'インタラクションフォロワー以外': '16.1%', '投稿でのインタラクション': '0', '「いいね！」': '348', '保存数': '28', 'コメント': '1', 'シェア数': '0', 'アクションを実行したアカウント': '363', 'プロフィールのアクティビティ': '41', 'プロフィールへのアクセス': '36', '外部リンクのタップ': '3', 'フォロー数': '2'}, 'https://www.instagram.com/p/C-1rzLdR80X/': {'Date': '2024-08-19 04:54:23', 'ビュー': '7537', 'ビューフォロワー': '87.2%', 'ビューフォロワー以外': '12.8%', 'ホーム': '5245', 'プロフィール': '758', 'その他': '289', 'リーチしたアカウント数': '6066', 'インタラクション': '272', 'インタラクションフォロワー': '92.4%', 'インタラクションフォロワー以外': '7.6%', '投稿でのインタラクション': '0', '「いいね！」': '250', '保存数': '17', 'コメント': '3', 'シェア数': '0', 'アクションを実行したアカウント': '258', 'プロフィールのアクティビティ': '39', 'プロフィールへのアクセス': '31', '外部リンクのタップ': '3', 'フォロー数': '5'}, 'https://www.instagram.com/p/C-zXsY5Rg9C/': {'Date': '2024-08-18 07:20:13', 'ビュー': '8233', 'ビューフォロワー': '86.2%', 'ビューフォロワー以外': '13.8%', 'ホーム': '6717', 'プロフィール': '681', '発見から': '597', 'その他': '238', 'リーチしたアカウント数': '5461', 'インタラクション': '330', 'インタラクションフォロワー': '87.6%', 'インタラクションフォロワー以外': '12.4%', '投稿でのインタラクション': '0', '「いいね！」': '313', '保存数': '17', 'コメント': '0', 'シェア数': '0', 'アクションを実行したアカウント': '320', 'プロフィールのアクティビティ': '20', 'プロフィールへのアクセス': '18', '外部リンクのタップ': '2', 'フォロー数': '0'}, 'https://www.instagram.com/p/C-xKJCUSA08/': {'Date': '2024-08-17 10:43:20', 'ビュー': '12000.0', 'ビューフォロワー': '90.5%', 'ビューフォロワー以外': '9.5%', 'ホーム': '9018', 'プロフィール': '714', 'その他': '608', 'リーチしたアカウント数': '6588', 'インタラクション': '305', 'インタラクションフォロワー': '88.5%', 'インタラクションフォロワー以外': '11.5%', '投稿でのインタラクション': '0', '「いいね！」': '289', '保存数': '15', 'コメント': '0', 'シェア数': '0', 'アクションを実行したアカウント': '294', 'プロフィールのアクティビティ': '19', 'プロフィールへのアクセス': '16', '外部リンクのタップ': '3', 'フォロー数': '0'}, 'https://www.instagram.com/p/C-up18zyPap/': {'Date': '2024-08-16 11:22:37', 'ビュー': '13000.0', 'ビューフォロワー': '88.4%', 'ビューフォロワー以外': '11.6%', 'ホーム': 11000, 'プロフィール': '1080', '発見から': '559', 'その他': '430', 'リーチしたアカウント数': '8121', 'インタラクション': '350', 'インタラクションフォロワー': '93.3%', 'インタラクションフォロワー以外': '6.7%', '投稿でのインタラクション': '0', '「いいね！」': '328', '保存数': '22', 'コメント': '0', 'シェア数': '0', 'アクションを実行したアカウント': '350', 'プロフィールのアクティビティ': '80', 'プロフィールへのアクセス': '68', '外部リンクのタップ': '12', 'フォロー数': '0'}, 'https://www.instagram.com/p/C-rQ-ThyDqF/': {'Date': '2024-08-15 03:47:35', 'ビュー': '101000.0', 'ビューフォロワー': '25.3%', 'ビューフォロワー以外': '74.7%', 'ホーム': 48000, '発見から': 42000, 'その他': '1620', 'リーチしたアカウント数': 78000, 'インタラクション': '4277', 'インタラクションフォロワー': '35.1%', 'インタラクションフォロワー以外': '64.9%', '投稿でのインタラクション': '0', '「いいね！」': '3713', '保存数': '512', 'コメント': '21', 'シェア数': '0', 'アクションを実行したアカウント': '4251', 'プロフィールのアクティビティ': '1032', 'プロフィールへのアクセス': '788', '外部リンクのタップ': '25', 'フォロー数': '219'}, 'https://www.instagram.com/reel/C-pgcW-SfQT/': {'Date': '2024-08-14 11:24:45', 'ビュー': '13000.0', 'ビューフォロワー': '', 'ビューフォロワー以外': '', 'リーチしたアカウント数': '7584', 'インタラクション': '257', 'インタラクションフォロワー': '87.1%', 'インタラクションフォロワー以外': '12.9%', 'リールでのインタラクション': '0', '「いいね！」': '243', 'コメント': '2', '保存数': '12', 'シェア数': '0', 'アクションを実行したアカウント': '275', 'プロフィールのアクティビティ': '4', 'フォロー数': '4'}, 'https://www.instagram.com/p/C-m2FU2SdLI/': {'Date': '2024-08-13 10:35:39', 'ビュー': '38000.0', 'ビューフォロワー': '34.3%', 'ビューフォロワー以外': '65.7%', '発見から': 22000, 'ホーム': 12000, 'その他': '1182', 'リーチしたアカウント数': 31000, 'インタラクション': '1679', 'インタラクションフォロワー': '35.1%', 'インタラクションフォロワー以外': '64.9%', '投稿でのインタラクション': '0', '「いいね！」': '1495', '保存数': '182', 'コメント': '1', 'シェア数': '0', 'アクションを実行したアカウント': '1673', 'プロフィールのアクティビティ': '304', 'プロフィールへのアクセス': '247', '外部リンクのタップ': '11', 'フォロー数': '46'}, 'https://www.instagram.com/p/C-kJyMfymrO/': {'Date': '2024-08-12 09:30:05', 'ビュー': '13000.0', 'ビューフォロワー': '73.4%', 'ビューフォロワー以外': '26.6%', 'ホーム': '7999', '発見から': '2817', 'その他': '966', 'リーチしたアカウント数': '8741', 'インタラクション': '360', 'インタラクションフォロワー': '74.8%', 'インタラクションフォロワー以外': '25.2%', '投稿でのインタラクション': '0', '「いいね！」': '336', '保存数': '20', 'コメント': '0', 'シェア数': '0', 'アクションを実行したアカウント': '347', 'プロフィールのアクティビティ': '90', 'プロフィールへのアクセス': '74', '外部リンクのタップ': '9', 'フォロー数': '7'}, 'https://www.instagram.com/p/C-h5t1ByQk0/': {'Date': '2024-08-11 12:31:11', 'ビュー': '9964', 'ビューフォロワー': '95%', 'ビューフォロワー以外': '5%', 'ホーム': '7244', 'プロフィール': '587', 'その他': '147', 'リーチしたアカウント数': '5280', 'インタラクション': '122', 'インタラクションフォロワー': '99.2%', 'インタラクションフォロワー以外': '0.8%', '投稿でのインタラクション': '0', '「いいね！」': '120', '保存数': '2', 'コメント': '0', 'シェア数': '0', 'アクションを実行したアカウント': '122', 'プロフィールのアクティビティ': '9', 'プロフィールへのアクセス': '9', 'フォロー数': '0'}, 'https://www.instagram.com/p/C-fdef8S7CV/': {'Date': '2024-08-10 13:45:57', 'ビュー': '14000.0', 'ビューフォロワー': '93.5%', 'ビューフォロワー以外': '6.5%', 'ホーム': 12000, 'プロフィール': '624', 'その他': '180', 'リーチしたアカウント数': '8538', 'インタラクション': '293', 'インタラクションフォロワー': '98.3%', 'インタラクションフォロワー以外': '1.7%', '投稿でのインタラクション': '0', '「いいね！」': '251', '保存数': '38', 'コメント': '0', 'シェア数': '0', 'アクションを実行したアカウント': '288', 'プロフィールのアクティビティ': '87', 'プロフィールへのアクセス': '81', '外部リンクのタップ': '4', 'フォロー数': '2'}, 'https://www.instagram.com/p/C-aemPUyxzW/': {'Date': '2024-08-08 15:19:33', 'ビュー': '15000.0', 'ビューフォロワー': '69.7%', 'ビューフォロワー以外': '30.3%', 'ホーム': '9948', '発見から': '2053', 'その他': '984', 'リーチしたアカウント数': 10000, 'インタラクション': '763', 'インタラクションフォロワー': '73.5%', 'インタラクションフォロワー以外': '26.5%', '投稿でのインタラクション': '0', '「いいね！」': '671', '保存数': '78', 'コメント': '2', 'シェア数': '0', 'アクションを実行したアカウント': '719', 'プロフィールのアクティビティ': '113', 'プロフィールへのアクセス': '100', '外部リンクのタップ': '9', 'フォロー数': '4'}, 'https://www.instagram.com/p/C-Z4meRSABr/': {'Date': '2024-08-08 09:47:31', 'ビュー': '20000.0', 'ビューフォロワー': '68%', 'ビューフォロワー以外': '32%', 'ホーム': 15000, 'その他': '835', 'プロフィール': '811', 'リーチしたアカウント数': 13000, 'インタラクション': '620', 'インタラクションフォロワー': '91.6%', 'インタラクションフォロワー以外': '8.4%', '投稿でのインタラクション': '0', '「いいね！」': '561', '保存数': '49', 'コメント': '2', 'シェア数': '0', 'アクションを実行したアカウント': '609', 'プロフィールのアクティビティ': '67', 'プロフィールへのアクセス': '63', '外部リンクのタップ': '1', 'フォロー数': '3'}, 'https://www.instagram.com/p/C-W-ioeR33c/': {'Date': '2024-08-07 06:41:42', 'ビュー': '15000.0', 'ビューフォロワー': '81.2%', 'ビューフォロワー以外': '18.8%', 'ホーム': 11000, '発見から': '2185', 'その他': '970', 'リーチしたアカウント数': '9778', 'インタラクション': '479', 'インタラクションフォロワー': '76.4%', 'インタラクションフォロワー以外': '23.6%', '投稿でのインタラクション': '0', '「いいね！」': '434', '保存数': '42', 'コメント': '2', 'シェア数': '0', 'アクションを実行したアカウント': '469', 'プロフィールのアクティビティ': '78', 'プロフィールへのアクセス': '69', '外部リンクのタップ': '5', 'フォロー数': '4'}, 'https://www.instagram.com/p/C-U0QlHvo5a/': {'Date': '2024-08-06 10:33:23', 'ビュー': '10000.0', 'ビューフォロワー': '86.6%', 'ビューフォロワー以外': '13.4%', 'ホーム': '7653', 'プロフィール': '1043', 'その他': '459', 'リーチしたアカウント数': '6637', 'インタラクション': '307', 'インタラクションフォロワー': '86.5%', 'インタラクションフォロワー以外': '13.5%', '投稿でのインタラクション': '0', '「いいね！」': '290', '保存数': '14', 'コメント': '0', 'シェア数': '0', 'アクションを実行したアカウント': '306', 'プロフィールのアクティビティ': '23', 'プロフィールへのアクセス': '22', '外部リンクのタップ': '1', 'フォロー数': '0'}, 'https://www.instagram.com/p/C-SR_4ASVDJ/': {'Date': '2024-08-05 10:55:31', 'ビュー': '13000.0', 'ビューフォロワー': '66.3%', 'ビューフォロワー以外': '33.7%', 'ホーム': '7289', '発見から': '3153', 'その他': '1036', 'リーチしたアカウント数': '9251', 'インタラクション': '523', 'インタラクションフォロワー': '56.7%', 'インタラクションフォロワー以外': '43.3%', '投稿でのインタラクション': '0', '「いいね！」': '456', '保存数': '52', 'コメント': '3', 'シェア数': '0', 'アクションを実行したアカウント': '499', 'プロフィールのアクティビティ': '73', 'プロフィールへのアクセス': '58', '外部リンクのタップ': '3', 'フォロー数': '12'}, 'https://www.instagram.com/p/C-PfWqSRLD7/': {'Date': '2024-08-04 08:54:30', 'ビュー': '13000.0', 'ビューフォロワー': '85.5%', 'ビューフォロワー以外': '14.5%', 'ホーム': '9850', 'プロフィール': '1082', 'その他': '733', 'リーチしたアカウント数': '8040', 'インタラクション': '326', 'インタラクションフォロワー': '83.6%', 'インタラクションフォロワー以外': '16.4%', '投稿でのインタラクション': '0', '「いいね！」': '292', '保存数': '32', 'コメント': '0', 'シェア数': '0', 'アクションを実行したアカウント': '314', 'プロフィールのアクティビティ': '12', 'プロフィールへのアクセス': '10', '外部リンクのタップ': '1', 'フォロー数': '1'}, 'https://www.instagram.com/p/C-NGQTuywaA/': {'Date': '2024-08-03 10:36:42', 'ビュー': '15000.0', 'ビューフォロワー': '87.1%', 'ビューフォロワー以外': '12.9%', 'ホーム': 11000, '発見から': '1192', 'その他': '993', 'リーチしたアカウント数': '8187', 'インタラクション': '386', 'インタラクションフォロワー': '89.5%', 'インタラクションフォロワー以外': '10.5%', '投稿でのインタラクション': '0', '「いいね！」': '355', '保存数': '21', 'コメント': '1', 'シェア数': '0', 'アクションを実行したアカウント': '359', 'プロフィールのアクティビティ': '74', 'プロフィールへのアクセス': '67', '外部リンクのタップ': '3', 'フォロー数': '4'}, 'https://www.instagram.com/p/C-KYGR6SRjT/': {'Date': '2024-08-02 09:14:54', 'ビュー': '11000.0', 'ビューフォロワー': '59.7%', 'ビューフォロワー以外': '40.3%', 'ホーム': '5711', 'プロフィール': '1023', 'その他': '547', 'リーチしたアカウント数': '6558', 'インタラクション': '245', 'インタラクションフォロワー': '81.4%', 'インタラクションフォロワー以外': '18.6%', '投稿でのインタラクション': '0', '「いいね！」': '227', '保存数': '14', 'コメント': '0', 'シェア数': '0', 'アクションを実行したアカウント': '236', 'プロフィールのアクティビティ': '21', 'プロフィールへのアクセス': '21', 'フォロー数': '0'}, 'https://www.instagram.com/p/C-H7smOvsyo/': {'Date': '2024-08-01 10:28:15', 'ビュー': '9197', 'ビューフォロワー': '87.4%', 'ビューフォロワー以外': '12.6%', 'ホーム': '5523', 'プロフィール': '898', 'その他': '325', 'リーチしたアカウント数': '4806', 'インタラクション': '185', 'インタラクションフォロワー': '85.6%', 'インタラクションフォロワー以外': '14.4%', '投稿でのインタラクション': '0', '「いいね！」': '176', '保存数': '8', 'コメント': '0', 'シェア数': '0', 'アクションを実行したアカウント': '191', 'プロフィールのアクティビティ': '24', 'プロフィールへのアクセス': '22', '外部リンクのタップ': '2', 'フォロー数': '0'}}\n"
     ]
    }
   ],
   "source": [
    "def remove_spaces_from_keys(d):\n",
    "    new_dict = {}\n",
    "    for key, value in d.items():\n",
    "        # Remove spaces in the key\n",
    "        new_key = key.replace(' ', '')\n",
    "        # If the value is a dictionary, apply the function recursively\n",
    "        if isinstance(value, dict):\n",
    "            new_dict[new_key] = remove_spaces_from_keys(value)\n",
    "        else:\n",
    "            new_dict[new_key] = value\n",
    "    return new_dict\n",
    "\n",
    "# Apply the function to the data\n",
    "data_no_spaces = remove_spaces_from_keys(data)\n",
    "print(data_no_spaces)"
   ]
  },
  {
   "cell_type": "code",
   "execution_count": 40,
   "metadata": {},
   "outputs": [],
   "source": [
    "import pytz\n",
    "from datetime import datetime\n",
    "utc = pytz.UTC\n",
    "jst = pytz.timezone('Asia/Tokyo')\n",
    "def convert_date_to_jst(data_dict):\n",
    "    for url, details in data_dict.items():\n",
    "        date_str = details.get('Date')\n",
    "        if date_str:\n",
    "            try:\n",
    "                # Parse the date string as UTC and convert to JST\n",
    "                utc_date = datetime.strptime(date_str, '%Y-%m-%d %H:%M:%S').replace(tzinfo=utc)\n",
    "                jst_date = utc_date.astimezone(jst)\n",
    "                # Update the Date in the dictionary\n",
    "                data_dict[url]['Date'] = jst_date.strftime('%Y-%m-%d %H:%M:%S')\n",
    "            except ValueError:\n",
    "                pass  # If the date format is invalid, skip it\n",
    "    return data_dict\n",
    "\n",
    "# Apply the function to your data\n",
    "data_updated = convert_date_to_jst(data_no_spaces)"
   ]
  },
  {
   "cell_type": "code",
   "execution_count": 32,
   "metadata": {},
   "outputs": [],
   "source": [
    "def get_post_keys(data):\n",
    "    key_list = []\n",
    "    for _,data in data.items():\n",
    "        keys = list(data.keys())\n",
    "        for key in keys:\n",
    "            if key not in key_list:\n",
    "                key_list.append(key)\n",
    "    return key_list"
   ]
  },
  {
   "cell_type": "code",
   "execution_count": 41,
   "metadata": {},
   "outputs": [
    {
     "name": "stdout",
     "output_type": "stream",
     "text": [
      "['Date', 'ビュー', 'ビューフォロワー', 'ビューフォロワー以外', 'ホーム', '発見から', 'その他', 'リーチしたアカウント数', 'インタラクション', 'インタラクションフォロワー', 'インタラクションフォロワー以外', '投稿でのインタラクション', '「いいね！」', '保存数', 'コメント', 'シェア数', 'アクションを実行したアカウント', 'プロフィールのアクティビティ', 'プロフィールへのアクセス', 'フォロー数', 'ハッシュタグ', '外部リンクのタップ', 'プロフィール', 'リールでのインタラクション']\n"
     ]
    }
   ],
   "source": [
    "import csv\n",
    "all_keys = get_post_keys(data_no_spaces)\n",
    "print(all_keys)\n",
    "\n",
    "\n",
    "# Step 2: Write to CSV\n",
    "with open('output_2.csv', mode='w', newline='',encoding='utf-8') as file:\n",
    "    fieldnames = ['URL'] + all_keys  # Header includes 'URL' and all keys\n",
    "    writer = csv.DictWriter(file, fieldnames=fieldnames)\n",
    "\n",
    "    # Write the header\n",
    "    writer.writeheader()\n",
    "\n",
    "    # Write the rows\n",
    "    for url, values in data_no_spaces.items():\n",
    "        # Prepare a row dict with URL and ensure all keys are accounted for with empty string if missing\n",
    "        row = {'URL': url}\n",
    "        row.update({key: values.get(key, '') for key in all_keys})  # Fill in missing keys with empty string\n",
    "        writer.writerow(row)"
   ]
  },
  {
   "cell_type": "code",
   "execution_count": 34,
   "metadata": {},
   "outputs": [],
   "source": [
    "def get_column_letter(n):\n",
    "    \"\"\" Convert a column index (1-based) into an alphabetic column label (e.g., 1 -> A, 27 -> AA). \"\"\"\n",
    "    result = ''\n",
    "    while n > 0:\n",
    "        n, remainder = divmod(n - 1, 26)\n",
    "        result = chr(65 + remainder) + result\n",
    "    return result"
   ]
  },
  {
   "cell_type": "code",
   "execution_count": 42,
   "metadata": {},
   "outputs": [
    {
     "name": "stdout",
     "output_type": "stream",
     "text": [
      "Please visit this URL to authorize this application: https://accounts.google.com/o/oauth2/auth?response_type=code&client_id=403240057380-iic1c3qso7ruo6smp58464bq59qf6c0b.apps.googleusercontent.com&redirect_uri=http%3A%2F%2Flocalhost%3A63749%2F&scope=https%3A%2F%2Fwww.googleapis.com%2Fauth%2Fspreadsheets+https%3A%2F%2Fwww.googleapis.com%2Fauth%2Fdrive&state=iEFA6JuYDIOeqsPdtDSkdcTMZKS3o3&access_type=offline\n"
     ]
    },
    {
     "name": "stderr",
     "output_type": "stream",
     "text": [
      "C:\\Users\\ddadmin\\AppData\\Local\\Temp\\ipykernel_17228\\3340964502.py:30: DeprecationWarning: The order of arguments in worksheet.update() has changed. Please pass values first and range_name secondor used named arguments (range_name=, values=)\n",
      "  sheet.update('A1', csv_data)\n"
     ]
    }
   ],
   "source": [
    "import gspread\n",
    "from google_auth_oauthlib.flow import InstalledAppFlow\n",
    "SCOPES = ['https://www.googleapis.com/auth/spreadsheets','https://www.googleapis.com/auth/drive']\n",
    "def save_to_spreadsheet():\n",
    "    # print(f'obj_post_data --\\n{data_no_spaces}')\n",
    "    # OAuth 2.0 flow to get the credentials\n",
    "    flow = InstalledAppFlow.from_client_secrets_file('client_secret.json',SCOPES)\n",
    "    \n",
    "    # Authenticate using the credentials.json\n",
    "    creds = flow.run_local_server(port=0)\n",
    "\n",
    "    # Authorize the client\n",
    "    client = gspread.authorize(creds)\n",
    "\n",
    "    # Open the Google Spreadsheet (replace 'spreadsheet_name' with the actual name)\n",
    "    # spreadsheet = client.open('Instagramインサイトデータ更新')\n",
    "    spreadsheet = client.open(\"test_instagram\")\n",
    "\n",
    "    # Select a specific sheet by its name (or use .sheet1 for the first sheet)\n",
    "    sheet = spreadsheet.worksheet(\"hodinkee\")\n",
    "    \n",
    "    # Step 2: Read the CSV file\n",
    "    with open('output_2.csv', 'r', encoding='utf-8') as csv_file:\n",
    "        csv_reader = csv.reader(csv_file)\n",
    "        \n",
    "        # Convert CSV data to a list\n",
    "        csv_data = list(csv_reader)\n",
    "\n",
    "    # Step 3: Upload data to Google Sheets\n",
    "    sheet.update('A1', csv_data)\n",
    "    pass   \n",
    "save_to_spreadsheet()"
   ]
  },
  {
   "cell_type": "code",
   "execution_count": 9,
   "metadata": {},
   "outputs": [
    {
     "name": "stdout",
     "output_type": "stream",
     "text": [
      "Please visit this URL to authorize this application: https://accounts.google.com/o/oauth2/auth?response_type=code&client_id=403240057380-iic1c3qso7ruo6smp58464bq59qf6c0b.apps.googleusercontent.com&redirect_uri=http%3A%2F%2Flocalhost%3A59017%2F&scope=https%3A%2F%2Fwww.googleapis.com%2Fauth%2Fspreadsheets+https%3A%2F%2Fwww.googleapis.com%2Fauth%2Fdrive&state=eZNranhoO5n1NNpuFSy3AJTu6yw9aj&access_type=offline\n"
     ]
    },
    {
     "name": "stderr",
     "output_type": "stream",
     "text": [
      "C:\\Users\\ddadmin\\AppData\\Local\\Temp\\ipykernel_17228\\1368973962.py:30: DeprecationWarning: The order of arguments in worksheet.update() has changed. Please pass values first and range_name secondor used named arguments (range_name=, values=)\n",
      "  sheet.update('A1', csv_data)\n"
     ]
    }
   ],
   "source": []
  },
  {
   "cell_type": "code",
   "execution_count": 32,
   "metadata": {},
   "outputs": [
    {
     "name": "stdout",
     "output_type": "stream",
     "text": [
      "(58, 25)\n"
     ]
    },
    {
     "data": {
      "text/html": [
       "<div>\n",
       "<style scoped>\n",
       "    .dataframe tbody tr th:only-of-type {\n",
       "        vertical-align: middle;\n",
       "    }\n",
       "\n",
       "    .dataframe tbody tr th {\n",
       "        vertical-align: top;\n",
       "    }\n",
       "\n",
       "    .dataframe thead th {\n",
       "        text-align: right;\n",
       "    }\n",
       "</style>\n",
       "<table border=\"1\" class=\"dataframe\">\n",
       "  <thead>\n",
       "    <tr style=\"text-align: right;\">\n",
       "      <th></th>\n",
       "      <th>URL</th>\n",
       "      <th>Date</th>\n",
       "      <th>ビュー</th>\n",
       "      <th>ビューフォロワー</th>\n",
       "      <th>ビューフォロワー以外</th>\n",
       "      <th>ホーム</th>\n",
       "      <th>発見から</th>\n",
       "      <th>その他</th>\n",
       "      <th>リーチしたアカウント数</th>\n",
       "      <th>インタラクション</th>\n",
       "      <th>インタラクションフォロワー</th>\n",
       "      <th>インタラクションフォロワー以外</th>\n",
       "      <th>投稿でのインタラクション</th>\n",
       "      <th>「いいね！」</th>\n",
       "      <th>保存数</th>\n",
       "      <th>コメント</th>\n",
       "      <th>シェア数</th>\n",
       "      <th>アクションを実行したアカウント</th>\n",
       "      <th>プロフィールのアクティビティ</th>\n",
       "      <th>プロフィールへのアクセス</th>\n",
       "      <th>フォロー数</th>\n",
       "      <th>ハッシュタグ</th>\n",
       "      <th>外部リンクのタップ</th>\n",
       "      <th>プロフィール</th>\n",
       "      <th>リールでのインタラクション</th>\n",
       "    </tr>\n",
       "  </thead>\n",
       "  <tbody>\n",
       "    <tr>\n",
       "      <th>0</th>\n",
       "      <td>https://www.instagram.com/p/DAVZYNYSHjH/</td>\n",
       "      <td>2024-09-25 09:00:31</td>\n",
       "      <td>14000.0</td>\n",
       "      <td>94.8%</td>\n",
       "      <td>5.2%</td>\n",
       "      <td>1.1万</td>\n",
       "      <td>420</td>\n",
       "      <td>178.0</td>\n",
       "      <td>7304</td>\n",
       "      <td>285</td>\n",
       "      <td>91.3%</td>\n",
       "      <td>8.7%</td>\n",
       "      <td>0.0</td>\n",
       "      <td>267</td>\n",
       "      <td>17</td>\n",
       "      <td>1</td>\n",
       "      <td>0</td>\n",
       "      <td>275</td>\n",
       "      <td>15</td>\n",
       "      <td>13.0</td>\n",
       "      <td>2</td>\n",
       "      <td>NaN</td>\n",
       "      <td>NaN</td>\n",
       "      <td>NaN</td>\n",
       "      <td>NaN</td>\n",
       "    </tr>\n",
       "    <tr>\n",
       "      <th>1</th>\n",
       "      <td>https://www.instagram.com/p/DASX6WFy5Ld/</td>\n",
       "      <td>2024-09-24 04:49:59</td>\n",
       "      <td>5611.0</td>\n",
       "      <td>89.6%</td>\n",
       "      <td>10.4%</td>\n",
       "      <td>4896</td>\n",
       "      <td>NaN</td>\n",
       "      <td>162.0</td>\n",
       "      <td>3466</td>\n",
       "      <td>156</td>\n",
       "      <td>92.5%</td>\n",
       "      <td>7.5%</td>\n",
       "      <td>0.0</td>\n",
       "      <td>147</td>\n",
       "      <td>6</td>\n",
       "      <td>0</td>\n",
       "      <td>0</td>\n",
       "      <td>156</td>\n",
       "      <td>12</td>\n",
       "      <td>11.0</td>\n",
       "      <td>0</td>\n",
       "      <td>118.0</td>\n",
       "      <td>1.0</td>\n",
       "      <td>NaN</td>\n",
       "      <td>NaN</td>\n",
       "    </tr>\n",
       "    <tr>\n",
       "      <th>2</th>\n",
       "      <td>https://www.instagram.com/p/DAQNZ9rS4vv/</td>\n",
       "      <td>2024-09-23 08:39:42</td>\n",
       "      <td>7675.0</td>\n",
       "      <td>97.6%</td>\n",
       "      <td>2.4%</td>\n",
       "      <td>6334</td>\n",
       "      <td>NaN</td>\n",
       "      <td>35.0</td>\n",
       "      <td>4227</td>\n",
       "      <td>94</td>\n",
       "      <td>100%</td>\n",
       "      <td>0%</td>\n",
       "      <td>0.0</td>\n",
       "      <td>91</td>\n",
       "      <td>3</td>\n",
       "      <td>0</td>\n",
       "      <td>0</td>\n",
       "      <td>98</td>\n",
       "      <td>42</td>\n",
       "      <td>32.0</td>\n",
       "      <td>0</td>\n",
       "      <td>NaN</td>\n",
       "      <td>10.0</td>\n",
       "      <td>128.0</td>\n",
       "      <td>NaN</td>\n",
       "    </tr>\n",
       "  </tbody>\n",
       "</table>\n",
       "</div>"
      ],
      "text/plain": [
       "                                        URL                 Date      ビュー  \\\n",
       "0  https://www.instagram.com/p/DAVZYNYSHjH/  2024-09-25 09:00:31  14000.0   \n",
       "1  https://www.instagram.com/p/DASX6WFy5Ld/  2024-09-24 04:49:59   5611.0   \n",
       "2  https://www.instagram.com/p/DAQNZ9rS4vv/  2024-09-23 08:39:42   7675.0   \n",
       "\n",
       "  ビューフォロワー ビューフォロワー以外   ホーム 発見から    その他 リーチしたアカウント数  インタラクション インタラクションフォロワー  \\\n",
       "0    94.8%       5.2%  1.1万  420  178.0        7304       285         91.3%   \n",
       "1    89.6%      10.4%  4896  NaN  162.0        3466       156         92.5%   \n",
       "2    97.6%       2.4%  6334  NaN   35.0        4227        94          100%   \n",
       "\n",
       "  インタラクションフォロワー以外  投稿でのインタラクション  「いいね！」  保存数  コメント  シェア数  アクションを実行したアカウント  \\\n",
       "0            8.7%           0.0     267   17     1     0              275   \n",
       "1            7.5%           0.0     147    6     0     0              156   \n",
       "2              0%           0.0      91    3     0     0               98   \n",
       "\n",
       "   プロフィールのアクティビティ  プロフィールへのアクセス  フォロー数  ハッシュタグ  外部リンクのタップ  プロフィール  \\\n",
       "0              15          13.0      2     NaN        NaN     NaN   \n",
       "1              12          11.0      0   118.0        1.0     NaN   \n",
       "2              42          32.0      0     NaN       10.0   128.0   \n",
       "\n",
       "   リールでのインタラクション  \n",
       "0            NaN  \n",
       "1            NaN  \n",
       "2            NaN  "
      ]
     },
     "execution_count": 32,
     "metadata": {},
     "output_type": "execute_result"
    }
   ],
   "source": [
    "import pandas as pd\n",
    "df = pd.read_csv('output_1.csv', encoding='utf-8')\n",
    "print(df.shape)\n",
    "df.head(3)"
   ]
  },
  {
   "cell_type": "code",
   "execution_count": null,
   "metadata": {},
   "outputs": [],
   "source": []
  }
 ],
 "metadata": {
  "kernelspec": {
   "display_name": "selenium",
   "language": "python",
   "name": "python3"
  },
  "language_info": {
   "codemirror_mode": {
    "name": "ipython",
    "version": 3
   },
   "file_extension": ".py",
   "mimetype": "text/x-python",
   "name": "python",
   "nbconvert_exporter": "python",
   "pygments_lexer": "ipython3",
   "version": "3.12.6"
  }
 },
 "nbformat": 4,
 "nbformat_minor": 2
}
