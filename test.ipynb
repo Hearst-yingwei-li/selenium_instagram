{
 "cells": [
  {
   "cell_type": "code",
   "execution_count": 2,
   "metadata": {},
   "outputs": [],
   "source": [
    "import argparse\n",
    "import asyncio\n",
    "import time\n",
    "import re\n",
    "import random\n",
    "\n",
    "from selenium import webdriver\n",
    "from selenium.webdriver.common.by import By\n",
    "from selenium.webdriver.support.ui import WebDriverWait\n",
    "from selenium.webdriver.support import expected_conditions as EC\n",
    "from selenium.webdriver.chrome.options import Options\n",
    "from selenium.webdriver.chrome.service import Service\n",
    "from selenium.common.exceptions import TimeoutException\n",
    "from selenium.common.exceptions import NoSuchElementException\n",
    "from datetime import datetime\n",
    "import pytz\n",
    "import unicodedata\n",
    "import json\n",
    "import os\n",
    "import logging"
   ]
  },
  {
   "cell_type": "code",
   "execution_count": null,
   "metadata": {},
   "outputs": [
    {
     "name": "stdout",
     "output_type": "stream",
     "text": [
      "Found Instagram session\n",
      "Instagram URL: https://www.instagram.com/insights/media/3495701271905485362/\n",
      "Page title: ELLE gourmet（エル・グルメ） | 【#サラダレシピ】根菜は焼くことで甘みが引き立ち、柑橘は風味がアップ！スパイスと柑橘の香りがおいしさの決め手になる、ホットサラダレシピをスワイプしてチェック✅ ・ ほかのサラダレシピは『#エルグルメのサラダ』で検索🥗作ったら#エルグルメレシピ をつけて投稿して📱 ・... | Instagram\n",
      "count seperator --- 7\n"
     ]
    }
   ],
   "source": [
    "# test = 'https://www.instagram.com/ellegourmetjp/p/DCDOckozsIy/'\n",
    "chrome_options = Options()\n",
    "chrome_options.add_experimental_option(\"debuggerAddress\", \"localhost:9222\")\n",
    "\n",
    "# Specify the path to the chromedriver executable\n",
    "chrome_driver_path = \"C:/Users/ddadmin/Desktop/tools/chromedriver-win64/chromedriver.exe\"  # chromedriver path\n",
    "\n",
    "    # Set up the WebDriver with Chrome options\n",
    "service = Service(chrome_driver_path)\n",
    "driver = webdriver.Chrome(service=service, options=chrome_options)\n",
    "\n",
    "window_handles = driver.window_handles\n",
    "for handle in window_handles:\n",
    "    # Switch to the tab\n",
    "    driver.switch_to.window(handle)\n",
    "\n",
    "    # Check if the current tab is Instagram by inspecting the URL or title\n",
    "    if \"instagram.com\" in driver.current_url:\n",
    "        print(\"Found Instagram session\")\n",
    "        print(f\"Instagram URL: {driver.current_url}\")\n",
    "        break\n",
    "    else:\n",
    "        print(f\"Other tab URL: {driver.current_url}\")\n",
    "\n",
    "    # Now you can interact with the Instagram session\n",
    "    # Example: Print the page title\n",
    "print(\"Page title:\", driver.title)\n",
    "logging.debug(f\"Page title: {driver.title}\")\n",
    "    # Scroll to top to prevent effect from previous process\n",
    "driver.execute_script(f\"window.scrollBy(0,{0});\")\n",
    "hr_separators = WebDriverWait(driver, 10).until(\n",
    "                EC.presence_of_all_elements_located((By.XPATH, \"//hr\"))\n",
    "            )\n",
    "count_sperator = len(hr_separators)\n",
    "print(f'count seperator --- {count_sperator}')\n"
   ]
  },
  {
   "cell_type": "code",
   "execution_count": null,
   "metadata": {},
   "outputs": [],
   "source": []
  }
 ],
 "metadata": {
  "kernelspec": {
   "display_name": "Python 3",
   "language": "python",
   "name": "python3"
  },
  "language_info": {
   "codemirror_mode": {
    "name": "ipython",
    "version": 3
   },
   "file_extension": ".py",
   "mimetype": "text/x-python",
   "name": "python",
   "nbconvert_exporter": "python",
   "pygments_lexer": "ipython3",
   "version": "3.12.6"
  }
 },
 "nbformat": 4,
 "nbformat_minor": 2
}
